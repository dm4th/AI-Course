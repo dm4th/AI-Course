{
 "cells": [
  {
   "attachments": {},
   "cell_type": "markdown",
   "metadata": {},
   "source": [
    "## Intro to Perceptrons"
   ]
  },
  {
   "cell_type": "code",
   "execution_count": 1,
   "metadata": {},
   "outputs": [
    {
     "name": "stderr",
     "output_type": "stream",
     "text": [
      "/var/folders/r7/dtjny68152z02rjhb55rxv300000gn/T/ipykernel_29460/2457311378.py:7: MatplotlibDeprecationWarning: The seaborn styles shipped by Matplotlib are deprecated since 3.6, as they no longer correspond to the styles shipped by seaborn. However, they will remain available as 'seaborn-v0_8-<style>'. Alternatively, directly use the seaborn API instead.\n",
      "  plt.style.use('seaborn-whitegrid')\n"
     ]
    }
   ],
   "source": [
    "import torch\n",
    "import numpy as np\n",
    "import matplotlib.pyplot as plt\n",
    "from sklearn import datasets\n",
    "\n",
    "# Set pyplot style settings\n",
    "plt.style.use('seaborn-whitegrid')"
   ]
  },
  {
   "attachments": {},
   "cell_type": "markdown",
   "metadata": {},
   "source": [
    "## Initial Setup - Generate 2 Clusters of Points"
   ]
  },
  {
   "cell_type": "code",
   "execution_count": 2,
   "metadata": {},
   "outputs": [
    {
     "name": "stdout",
     "output_type": "stream",
     "text": [
      "[[ 0.68929505 -0.52913157]\n",
      " [-0.83568701  0.37631505]\n",
      " [-0.26750849 -0.51060555]\n",
      " [-0.6916697   0.42573641]\n",
      " [ 0.11012733 -0.18516616]\n",
      " [-0.17098204  0.01166254]\n",
      " [ 0.60302016 -0.52977837]\n",
      " [ 0.22799011 -0.40709852]\n",
      " [ 0.08625951  0.40968948]\n",
      " [-0.86320963 -0.06492148]\n",
      " [-0.59366135  0.40634522]\n",
      " [ 0.61067632 -0.1691267 ]\n",
      " [-0.78082124  0.36893514]\n",
      " [ 0.14645703 -0.43850996]\n",
      " [ 0.40184475 -0.80149447]\n",
      " [ 0.88535045 -0.33488763]\n",
      " [-0.7707688   0.74467052]\n",
      " [ 0.82540689 -0.99234573]\n",
      " [ 0.14419423 -0.82632411]\n",
      " [ 0.43548572 -0.33837966]\n",
      " [-0.58786876  0.64284503]\n",
      " [ 0.13223031  0.11997376]\n",
      " [ 0.52328349 -0.95718812]\n",
      " [ 0.10378547 -0.72651909]\n",
      " [ 0.82882406  0.25871719]\n",
      " [-0.30131434  0.44469428]\n",
      " [-0.46116898  0.887458  ]\n",
      " [-0.47298872 -0.06989927]\n",
      " [ 0.32139402 -0.15744048]\n",
      " [-1.0914088   0.21206232]\n",
      " [ 0.07507851 -0.31056303]\n",
      " [-0.20461337  0.56854731]\n",
      " [-0.52880405  0.90141316]\n",
      " [ 0.75026694 -0.84286302]\n",
      " [-0.08760019  0.87251205]\n",
      " [-1.54789804  0.828761  ]\n",
      " [ 0.56927237 -0.34587305]\n",
      " [-0.41645456 -0.28386805]\n",
      " [ 0.59098397  0.0228571 ]\n",
      " [ 0.46915932 -0.36353921]\n",
      " [ 0.61722899 -0.78574057]\n",
      " [-0.46329569 -0.29502757]\n",
      " [-0.35534559  0.2419521 ]\n",
      " [-0.36749463  0.89021805]\n",
      " [ 0.60395312 -0.18727085]\n",
      " [ 0.96343823 -0.82827293]\n",
      " [ 0.48611529 -0.96747122]\n",
      " [ 0.13168513  0.80697389]\n",
      " [ 0.41061489 -0.2143998 ]\n",
      " [-0.68778975  0.71702402]\n",
      " [ 0.81641278 -0.86375498]\n",
      " [-0.13383915  0.63150044]\n",
      " [ 1.2463098  -0.31046683]\n",
      " [ 0.5856375  -0.99829551]\n",
      " [-0.51433042  1.12585746]\n",
      " [ 0.16128251 -1.10593889]\n",
      " [ 1.25447436 -0.43016887]\n",
      " [ 0.70877663 -0.38120613]\n",
      " [-0.68536708  0.3137081 ]\n",
      " [ 0.071643   -0.30701103]\n",
      " [ 0.36291419 -0.82091091]\n",
      " [-0.38155189  0.60442211]\n",
      " [ 0.00521972 -1.02818265]\n",
      " [ 0.0234786  -0.23737856]\n",
      " [ 0.18669868 -0.62882461]\n",
      " [-0.54625931  0.37955852]\n",
      " [ 1.06111772 -1.06074043]\n",
      " [-0.14299329 -0.42614646]\n",
      " [ 0.42305561 -0.37938106]\n",
      " [ 0.50520076  0.08141363]\n",
      " [-0.0661483  -0.66825813]\n",
      " [ 0.73474284  0.37618225]\n",
      " [-0.94253399  0.02151735]\n",
      " [-0.12026537 -0.47257481]\n",
      " [-0.74025548  0.3833225 ]\n",
      " [ 0.60019714 -0.36142072]\n",
      " [-0.96039743  0.65027921]\n",
      " [-0.74068264  1.24091127]\n",
      " [-1.18996713  0.27508499]\n",
      " [ 0.53986055 -0.70139026]\n",
      " [-1.03127442  0.57874449]\n",
      " [-0.71190408  0.70530697]\n",
      " [-0.35544176  1.11521463]\n",
      " [ 0.52409208  0.48529684]\n",
      " [-0.40321509 -0.2653121 ]\n",
      " [ 0.95712913 -0.19922679]\n",
      " [-0.71775309  0.54436904]\n",
      " [-0.68425551  0.92284889]\n",
      " [-0.36255268 -0.20521606]\n",
      " [-0.49795462  0.40616515]\n",
      " [-0.37036641  0.34596709]\n",
      " [ 0.09115762  0.29269191]\n",
      " [-0.46518117  0.38039706]\n",
      " [-0.65684326 -0.08540598]\n",
      " [-0.82339744  0.29929718]\n",
      " [-0.90513245  0.62569893]\n",
      " [-0.17498967  1.04249601]\n",
      " [-0.50539889  0.07691563]\n",
      " [ 0.39413727  0.58806767]\n",
      " [-0.24092458  1.10921194]]\n",
      "[1 0 1 0 1 0 1 1 0 0 0 1 0 1 1 1 0 1 1 1 0 1 1 1 1 0 0 0 1 0 1 0 0 1 0 0 1\n",
      " 0 1 1 1 0 0 0 1 1 1 0 1 0 1 0 1 1 0 1 1 1 0 1 1 0 1 1 1 0 1 1 1 1 1 1 0 1\n",
      " 0 1 0 0 0 1 0 0 0 1 0 1 0 0 0 0 0 0 0 0 0 0 0 0 1 0]\n"
     ]
    }
   ],
   "source": [
    "n_pts = 100\n",
    "centers = [[-0.5, 0.5], [0.5, -0.5]]\n",
    "\n",
    "# Create a dataset with 100 points, 2 centers, and a standard deviation of 0.4 in each cluster\n",
    "X, Y = datasets.make_blobs(n_samples=n_pts, random_state=42, centers=centers, cluster_std=0.4)\n",
    "print(X)\n",
    "print(Y)"
   ]
  },
  {
   "cell_type": "code",
   "execution_count": 4,
   "metadata": {},
   "outputs": [
    {
     "data": {
      "image/png": "[encoded data removed]",
      "text/plain": [
       "<Figure size 640x480 with 1 Axes>"
      ]
     },
     "metadata": {},
     "output_type": "display_data"
    }
   ],
   "source": [
    "# Plot the data\n",
    "plt.scatter(X[Y==0, 0], X[Y==0, 1], color='blue')\n",
    "plt.scatter(X[Y==1, 0], X[Y==1, 1], color='red')\n",
    "plt.show()"
   ]
  },
  {
   "cell_type": "code",
   "execution_count": null,
   "metadata": {},
   "outputs": [],
   "source": []
  }
 ],
 "metadata": {
  "kernelspec": {
   "display_name": "Python 3",
   "language": "python",
   "name": "python3"
  },
  "language_info": {
   "codemirror_mode": {
    "name": "ipython",
    "version": 3
   },
   "file_extension": ".py",
   "mimetype": "text/x-python",
   "name": "python",
   "nbconvert_exporter": "python",
   "pygments_lexer": "ipython3",
   "version": "3.10.9"
  },
  "orig_nbformat": 4
 },
 "nbformat": 4,
 "nbformat_minor": 2
}
