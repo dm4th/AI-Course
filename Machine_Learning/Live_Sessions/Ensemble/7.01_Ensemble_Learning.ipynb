{
 "cells": [
  {
   "cell_type": "markdown",
   "metadata": {
    "id": "pPi899u95iC2"
   },
   "source": [
    "### <b> Ensemble Learning </b>"
   ]
  },
  {
   "cell_type": "markdown",
   "metadata": {
    "id": "4IDGoFSU5nXb"
   },
   "source": [
    "### <b> Learning Objectives </b>\n",
    "By the end of this lesson, you will be able to:\n",
    "- Define ensemble learning\n",
    "- List different types of ensemble methods\n",
    "- Build an intuition\n",
    "- Apply different algorithms of ensemble learning using use cases"
   ]
  },
  {
   "cell_type": "markdown",
   "metadata": {
    "id": "wtzozj625qOm"
   },
   "source": [
    "### <b> What Is Ensemble Learning? </b>"
   ]
  },
  {
   "cell_type": "markdown",
   "metadata": {
    "id": "Td7-rOBj5usF"
   },
   "source": [
    "Ensemble techniques combine individual models to improve the stability and predictive power of the model."
   ]
  },
  {
   "cell_type": "markdown",
   "metadata": {
    "id": "wvVZB0oo54Ou"
   },
   "source": [
    "#### <b> Ideology Behind Ensemble Learning: </b>"
   ]
  },
  {
   "cell_type": "markdown",
   "metadata": {
    "id": "Uvb55H6-57G_"
   },
   "source": [
    "* Certain models do well in modeling one aspect of the data, while others do well in modeling another.\n",
    "\n",
    "* Instead of learning a single complex model, learn several simple models and combine their output to produce the final decision.\n",
    "\n",
    "* Individual model variances and biases are balanced by the strength of other models in ensemble learning.\n",
    "\n",
    "* Ensemble learning will provide a composite prediction where the final accuracy is better than the accuracy of individual models."
   ]
  },
  {
   "cell_type": "markdown",
   "metadata": {
    "id": "WMhoybU359s1"
   },
   "source": [
    "#### <b> Working of Ensemble Learning </b>"
   ]
  },
  {
   "cell_type": "markdown",
   "metadata": {
    "id": "LBaVCR3B6AOG"
   },
   "source": [
    "![Ensemble_Learning_Workflow](https://labcontent.simplicdn.net/data-content/content-assets/Data_and_AI/Applied_Machine_Learning/Images/Lesson_07_Ensemble_Learning/Ensemble_Learning_Workflow.png)"
   ]
  },
  {
   "cell_type": "markdown",
   "metadata": {
    "id": "6KwXIaUo6E6e"
   },
   "source": [
    "#### <b> Significance of Ensemble Learning </b>"
   ]
  },
  {
   "cell_type": "markdown",
   "metadata": {
    "id": "Ml1ie17T6HcP"
   },
   "source": [
    "* Robustness\n",
    "  - Ensemble models incorporate the predictions from all the base learners\n",
    "* Accuracy\n",
    "  - Ensemble models deliver accurate predictions and have improved performances"
   ]
  },
  {
   "cell_type": "markdown",
   "metadata": {
    "id": "VavpTzv26ON4"
   },
   "source": [
    "#### <b> Ensemble Learning Methods </b>"
   ]
  },
  {
   "cell_type": "markdown",
   "metadata": {
    "id": "S151Fz-r6STd"
   },
   "source": [
    "* Techniques for creating an ensemble model\n",
    "* Combine all weak learners to form an ensemble, or create an ensemble of well-chosen strong and diverse models"
   ]
  },
  {
   "cell_type": "markdown",
   "metadata": {
    "id": "Jt9iwlMW6VPp"
   },
   "source": [
    "#### <b> Steps Involved in Ensemble Methods </b>\n",
    "\n",
    "Every ensemble algorithm consists of two steps:\n",
    "\n",
    "* Producing a cohort of predictions using simple ML algorithms\n",
    "* Combining the predictions into one aggregated model\n",
    "\n",
    "The ensemble can be achieved through several techniques."
   ]
  },
  {
   "cell_type": "markdown",
   "metadata": {
    "id": "Dfc4kJRf6Y8d"
   },
   "source": [
    "### <b> Types of Ensemble Methods </b>"
   ]
  },
  {
   "cell_type": "markdown",
   "metadata": {
    "id": "pDRgzaPE6duh"
   },
   "source": [
    "#### <b> Averaging </b>\n"
   ]
  },
  {
   "cell_type": "markdown",
   "metadata": {
    "id": "DisGQkqI6gZP"
   },
   "source": [
    "![Averaging](https://labcontent.simplicdn.net/data-content/content-assets/Data_and_AI/Applied_Machine_Learning/Images/Lesson_07_Ensemble_Learning/Averaging.png)"
   ]
  },
  {
   "cell_type": "markdown",
   "metadata": {
    "id": "75i3XpeO6lmL"
   },
   "source": [
    "#### <b> Weighted Averaging </b>"
   ]
  },
  {
   "cell_type": "markdown",
   "metadata": {
    "id": "cHaLDPhL6zM-"
   },
   "source": [
    "![Weighted_Averaging](https://labcontent.simplicdn.net/data-content/content-assets/Data_and_AI/Applied_Machine_Learning/Images/Lesson_07_Ensemble_Learning/Weighted_Averaging.png)"
   ]
  },
  {
   "cell_type": "markdown",
   "metadata": {
    "id": "DGm8JLhT663p"
   },
   "source": [
    "### <b> Bagging Algorithms </b>\n",
    "\n",
    "Bootstrap Aggregation or bagging involves taking multiple samples from your training dataset (with replacement) and training a model for each sample.\n",
    "\n",
    "The final output prediction is averaged across the predictions of all of the submodels.\n",
    "\n",
    "The three bagging models covered in this section are as follows:\n",
    "\n",
    " - Bagged Decision Trees\n",
    " - Random Forest\n",
    " - Extra Trees"
   ]
  },
  {
   "cell_type": "markdown",
   "metadata": {
    "id": "COHCIquy7NOf"
   },
   "source": [
    "#### <b> 1. Bagged Decision Trees </b>\n",
    "\n",
    "Bagging performs best with algorithms that have a high variance. A popular example is decision trees, often constructed without pruning.\n",
    "\n",
    "Below, you can see an example of using the BaggingClassifier with the Classification and Regression Trees algorithm (DecisionTreeClassifier). A total of 100 trees are created.\n"
   ]
  },
  {
   "cell_type": "markdown",
   "metadata": {
    "id": "xx8xgGfceF5u"
   },
   "source": [
    "- Scikit-learn is a Python library that provides a consistent interface for machine learning and statistical modeling, including classification, regression, clustering, and dimensionality reduction.\n",
    "- Pandas is a Python library for data manipulation and analysis."
   ]
  },
  {
   "cell_type": "code",
   "execution_count": 5,
   "metadata": {
    "id": "tJuR-17J7QYl",
    "outputId": "e6ab3d1b-1352-4e0e-edc8-86166269805d"
   },
   "outputs": [],
   "source": [
    "#Bagged Decision Trees for Classification\n",
    "import pandas\n",
    "from sklearn import model_selection\n",
    "from sklearn.ensemble import BaggingClassifier\n",
    "from sklearn.tree import DecisionTreeClassifier"
   ]
  },
  {
   "cell_type": "code",
   "execution_count": 6,
   "metadata": {
    "id": "tJuR-17J7QYl",
    "outputId": "e6ab3d1b-1352-4e0e-edc8-86166269805d"
   },
   "outputs": [],
   "source": [
    "url = \"https://raw.githubusercontent.com/jbrownlee/Datasets/master/pima-indians-diabetes.data.csv\"\n",
    "names = ['preg', 'plas', 'pres', 'skin', 'test', 'mass', 'pedi', 'age', 'class']\n",
    "dataframe = pandas.read_csv(url, names=names)"
   ]
  },
  {
   "cell_type": "code",
   "execution_count": 7,
   "metadata": {},
   "outputs": [
    {
     "data": {
      "text/html": [
       "<div>\n",
       "<style scoped>\n",
       "    .dataframe tbody tr th:only-of-type {\n",
       "        vertical-align: middle;\n",
       "    }\n",
       "\n",
       "    .dataframe tbody tr th {\n",
       "        vertical-align: top;\n",
       "    }\n",
       "\n",
       "    .dataframe thead th {\n",
       "        text-align: right;\n",
       "    }\n",
       "</style>\n",
       "<table border=\"1\" class=\"dataframe\">\n",
       "  <thead>\n",
       "    <tr style=\"text-align: right;\">\n",
       "      <th></th>\n",
       "      <th>preg</th>\n",
       "      <th>plas</th>\n",
       "      <th>pres</th>\n",
       "      <th>skin</th>\n",
       "      <th>test</th>\n",
       "      <th>mass</th>\n",
       "      <th>pedi</th>\n",
       "      <th>age</th>\n",
       "      <th>class</th>\n",
       "    </tr>\n",
       "  </thead>\n",
       "  <tbody>\n",
       "    <tr>\n",
       "      <th>0</th>\n",
       "      <td>6</td>\n",
       "      <td>148</td>\n",
       "      <td>72</td>\n",
       "      <td>35</td>\n",
       "      <td>0</td>\n",
       "      <td>33.6</td>\n",
       "      <td>0.627</td>\n",
       "      <td>50</td>\n",
       "      <td>1</td>\n",
       "    </tr>\n",
       "    <tr>\n",
       "      <th>1</th>\n",
       "      <td>1</td>\n",
       "      <td>85</td>\n",
       "      <td>66</td>\n",
       "      <td>29</td>\n",
       "      <td>0</td>\n",
       "      <td>26.6</td>\n",
       "      <td>0.351</td>\n",
       "      <td>31</td>\n",
       "      <td>0</td>\n",
       "    </tr>\n",
       "    <tr>\n",
       "      <th>2</th>\n",
       "      <td>8</td>\n",
       "      <td>183</td>\n",
       "      <td>64</td>\n",
       "      <td>0</td>\n",
       "      <td>0</td>\n",
       "      <td>23.3</td>\n",
       "      <td>0.672</td>\n",
       "      <td>32</td>\n",
       "      <td>1</td>\n",
       "    </tr>\n",
       "    <tr>\n",
       "      <th>3</th>\n",
       "      <td>1</td>\n",
       "      <td>89</td>\n",
       "      <td>66</td>\n",
       "      <td>23</td>\n",
       "      <td>94</td>\n",
       "      <td>28.1</td>\n",
       "      <td>0.167</td>\n",
       "      <td>21</td>\n",
       "      <td>0</td>\n",
       "    </tr>\n",
       "    <tr>\n",
       "      <th>4</th>\n",
       "      <td>0</td>\n",
       "      <td>137</td>\n",
       "      <td>40</td>\n",
       "      <td>35</td>\n",
       "      <td>168</td>\n",
       "      <td>43.1</td>\n",
       "      <td>2.288</td>\n",
       "      <td>33</td>\n",
       "      <td>1</td>\n",
       "    </tr>\n",
       "  </tbody>\n",
       "</table>\n",
       "</div>"
      ],
      "text/plain": [
       "   preg  plas  pres  skin  test  mass   pedi  age  class\n",
       "0     6   148    72    35     0  33.6  0.627   50      1\n",
       "1     1    85    66    29     0  26.6  0.351   31      0\n",
       "2     8   183    64     0     0  23.3  0.672   32      1\n",
       "3     1    89    66    23    94  28.1  0.167   21      0\n",
       "4     0   137    40    35   168  43.1  2.288   33      1"
      ]
     },
     "execution_count": 7,
     "metadata": {},
     "output_type": "execute_result"
    }
   ],
   "source": [
    "dataframe.head()"
   ]
  },
  {
   "cell_type": "code",
   "execution_count": 8,
   "metadata": {
    "id": "tJuR-17J7QYl",
    "outputId": "e6ab3d1b-1352-4e0e-edc8-86166269805d"
   },
   "outputs": [],
   "source": [
    "array = dataframe.values\n",
    "\n",
    "X = array[:,0:8]\n",
    "Y = array[:,8]"
   ]
  },
  {
   "cell_type": "code",
   "execution_count": null,
   "metadata": {},
   "outputs": [],
   "source": []
  },
  {
   "cell_type": "code",
   "execution_count": 9,
   "metadata": {
    "id": "tJuR-17J7QYl",
    "outputId": "e6ab3d1b-1352-4e0e-edc8-86166269805d"
   },
   "outputs": [
    {
     "name": "stdout",
     "output_type": "stream",
     "text": [
      "0.7578263841421736\n"
     ]
    }
   ],
   "source": [
    "seed = 7\n",
    "\n",
    "kfold = model_selection.KFold(n_splits=10, random_state=seed, shuffle=True)\n",
    "cart = DecisionTreeClassifier()\n",
    "num_trees = 100\n",
    "\n",
    "model = BaggingClassifier(base_estimator=cart, n_estimators=num_trees, random_state=seed)\n",
    "# base_estimator is the weak learner to fit to the model\n",
    "\n",
    "\n",
    "results = model_selection.cross_val_score(model, X, Y, cv=kfold)\n",
    "# cross validation score is a helper function to help score enseble models\n",
    "# the CV attribute defines how we split/test the model (here kfold --> K-Fold cross-validation)\n",
    "print(results.mean())"
   ]
  },
  {
   "cell_type": "code",
   "execution_count": 8,
   "metadata": {},
   "outputs": [
    {
     "data": {
      "text/plain": [
       "BaggingClassifier(base_estimator=DecisionTreeClassifier(), n_estimators=100,\n",
       "                  random_state=10)"
      ]
     },
     "execution_count": 8,
     "metadata": {},
     "output_type": "execute_result"
    }
   ],
   "source": [
    "model.fit(X,Y)"
   ]
  },
  {
   "cell_type": "code",
   "execution_count": 7,
   "metadata": {},
   "outputs": [
    {
     "name": "stdout",
     "output_type": "stream",
     "text": [
      "0.7473000683526999\n"
     ]
    }
   ],
   "source": [
    "seed = 10\n",
    "\n",
    "kfold = model_selection.KFold(n_splits=10, random_state=seed, shuffle=True)\n",
    "cart = DecisionTreeClassifier()\n",
    "num_trees = 100\n",
    "\n",
    "model = BaggingClassifier(base_estimator=cart, n_estimators=num_trees, random_state=seed)\n",
    "\n",
    "results = model_selection.cross_val_score(model, X, Y, cv=kfold)\n",
    "print(results.mean())"
   ]
  },
  {
   "cell_type": "code",
   "execution_count": 6,
   "metadata": {},
   "outputs": [
    {
     "data": {
      "text/plain": [
       "array([0.76623377, 0.75324675, 0.74025974, 0.77922078, 0.80519481,\n",
       "       0.79220779, 0.66233766, 0.75324675, 0.78947368, 0.73684211])"
      ]
     },
     "execution_count": 6,
     "metadata": {},
     "output_type": "execute_result"
    }
   ],
   "source": [
    "results"
   ]
  },
  {
   "cell_type": "markdown",
   "metadata": {
    "id": "Swj2Rvoa7IZF"
   },
   "source": [
    "#### <b> 2. Random Forest </b> \n",
    "\n",
    "Random forest is an extension of bagged decision trees.\n",
    "\n",
    "Samples of the training dataset are taken with replacement, but the trees are constructed in a way that reduces the correlation between individual classifiers. Specifically, rather than greedily choosing the best split point in the construction of the tree, only a random subset of features is considered for each split.\n",
    "\n",
    "You can construct a Random Forest model for classification using the RandomForestClassifier class.\n",
    "\n",
    "The example below provides a sample of Random Forest for classification with 100 trees and split points chosen from a random selection of three features.\n",
    "\n"
   ]
  },
  {
   "cell_type": "code",
   "execution_count": 9,
   "metadata": {
    "id": "odZ4P_P37Uis",
    "outputId": "a180e4c4-1701-4366-aade-638770428d54"
   },
   "outputs": [],
   "source": [
    "#Random Forest Classification\n",
    "import pandas\n",
    "from sklearn import model_selection\n",
    "from sklearn.ensemble import RandomForestClassifier"
   ]
  },
  {
   "cell_type": "code",
   "execution_count": null,
   "metadata": {},
   "outputs": [],
   "source": [
    "rfModel=RandomForestClassifier(max_features=3)"
   ]
  },
  {
   "cell_type": "code",
   "execution_count": null,
   "metadata": {
    "id": "odZ4P_P37Uis",
    "outputId": "a180e4c4-1701-4366-aade-638770428d54"
   },
   "outputs": [
    {
     "name": "stdout",
     "output_type": "stream",
     "text": [
      "0.7721975393028024\n"
     ]
    }
   ],
   "source": [
    "url = \"https://raw.githubusercontent.com/jbrownlee/Datasets/master/pima-indians-diabetes.data.csv\"\n",
    "names = ['preg', 'plas', 'pres', 'skin', 'test', 'mass', 'pedi', 'age', 'class']\n",
    "dataframe = pandas.read_csv(url, names=names)\n",
    "array = dataframe.values\n",
    "\n",
    "X = array[:,0:8]\n",
    "Y = array[:,8]\n",
    "seed = 7\n",
    "num_trees = 100\n",
    "max_features = 3\n",
    "\n",
    "kfold = model_selection.KFold(n_splits=10, random_state=seed, shuffle=True)\n",
    "model = RandomForestClassifier(n_estimators=num_trees, max_features=max_features)\n",
    "results = model_selection.cross_val_score(model, X, Y, cv=kfold)\n",
    "print(results.mean())"
   ]
  },
  {
   "cell_type": "markdown",
   "metadata": {
    "id": "FqyHO74A7ZOt"
   },
   "source": [
    "#### <b> 3. Extra Trees</b>\n",
    "\n",
    "Extra Trees are another modification of bagging where random trees are constructed from samples of the training dataset.\n",
    "\n",
    "You can construct an Extra Trees model for classification using the ExtraTreesClassifier class.\n",
    "\n",
    "The example below provides a demonstration of extra trees with a tree set of 100 and splits chosen from seven random features.\n",
    "\n"
   ]
  },
  {
   "cell_type": "code",
   "execution_count": 10,
   "metadata": {
    "id": "xkf_0b5l7cq9",
    "outputId": "47fe251e-ffaa-4080-d018-24c0fdd87921"
   },
   "outputs": [],
   "source": [
    "#Extra Trees Classification\n",
    "import pandas\n",
    "from sklearn import model_selection\n",
    "from sklearn.ensemble import ExtraTreesClassifier\n",
    "url = \"https://raw.githubusercontent.com/jbrownlee/Datasets/master/pima-indians-diabetes.data.csv\"\n",
    "names = ['preg', 'plas', 'pres', 'skin', 'test', 'mass', 'pedi', 'age', 'class']\n",
    "dataframe = pandas.read_csv(url, names=names)\n",
    "array = dataframe.values\n",
    "X = array[:,0:8]\n",
    "Y = array[:,8]\n",
    "seed = 7\n",
    "num_trees = 100\n",
    "max_features = 7\n",
    "x_train,x_test,y_train,y_test = model_selection.train_test_split(X,Y, random_state=seed, shuffle=True)"
   ]
  },
  {
   "cell_type": "code",
   "execution_count": 11,
   "metadata": {
    "id": "xkf_0b5l7cq9",
    "outputId": "47fe251e-ffaa-4080-d018-24c0fdd87921"
   },
   "outputs": [],
   "source": [
    "model = ExtraTreesClassifier(n_estimators=num_trees, max_features=max_features)"
   ]
  },
  {
   "cell_type": "code",
   "execution_count": 12,
   "metadata": {},
   "outputs": [
    {
     "data": {
      "text/plain": [
       "ExtraTreesClassifier(max_features=7)"
      ]
     },
     "execution_count": 12,
     "metadata": {},
     "output_type": "execute_result"
    }
   ],
   "source": [
    "model.fit(x_train,y_train)"
   ]
  },
  {
   "cell_type": "code",
   "execution_count": 13,
   "metadata": {},
   "outputs": [
    {
     "data": {
      "text/plain": [
       "1.0"
      ]
     },
     "execution_count": 13,
     "metadata": {},
     "output_type": "execute_result"
    }
   ],
   "source": [
    "model.score(x_train,y_train)"
   ]
  },
  {
   "cell_type": "code",
   "execution_count": 14,
   "metadata": {},
   "outputs": [
    {
     "data": {
      "text/plain": [
       "0.7916666666666666"
      ]
     },
     "execution_count": 14,
     "metadata": {},
     "output_type": "execute_result"
    }
   ],
   "source": [
    "model.score(x_test,y_test)"
   ]
  },
  {
   "cell_type": "markdown",
   "metadata": {
    "id": "jlIFvFor7hmR"
   },
   "source": [
    "###  <b> Boosting Algorithms </b>\n",
    "\n",
    "Boosting ensemble algorithms create a sequence of models that attempts to correct the mistakes of the models before them in the sequence.\n",
    "\n",
    "Once created, the models make predictions that may be weighted by their demonstrated accuracy, and the results are combined to create a final output prediction.\n",
    "\n",
    "\n",
    "The two most common boosting ensemble machine learning algorithms are:\n",
    "\n",
    "- AdaBoost\n",
    "\n",
    "- Stochastic Gradient Boosting\n",
    "<br>\n",
    "\n",
    "#### <b> AdaBoost </b>\n",
    "\n",
    "AdaBoost was the first successful boosting ensemble algorithm. It generally works by weighting instances in the dataset by how easy or difficult they are to classify, allowing the algorithm to pay more or less attention to them in the construction of subsequent models.\n"
   ]
  },
  {
   "cell_type": "markdown",
   "metadata": {
    "id": "7aO-zHHTU1mN"
   },
   "source": [
    "![AdaBoost](https://labcontent.simplicdn.net/data-content/content-assets/Data_and_AI/Applied_Machine_Learning/Images/Lesson_07_Ensemble_Learning/AdaBoost.png)"
   ]
  },
  {
   "cell_type": "markdown",
   "metadata": {
    "id": "QHCG5BI47oIg"
   },
   "source": [
    "You can construct an AdaBoost model for classification using the AdaBoostClassifier class.\n",
    "\n",
    "The example below demonstrates the construction of 30 decision trees in sequence using the AdaBoost algorithm.\n"
   ]
  },
  {
   "cell_type": "code",
   "execution_count": 31,
   "metadata": {},
   "outputs": [],
   "source": [
    "#AdaBoost Classification\n",
    "import pandas\n",
    "from sklearn import model_selection\n",
    "from sklearn.ensemble import AdaBoostClassifier\n",
    "\n",
    "url = \"https://raw.githubusercontent.com/jbrownlee/Datasets/master/pima-indians-diabetes.data.csv\"\n",
    "names = ['preg', 'plas', 'pres', 'skin', 'test', 'mass', 'pedi', 'age', 'class']\n",
    "\n",
    "dataframe = pandas.read_csv(url, names=names)\n",
    "array = dataframe.values\n",
    "X = array[:,0:8]\n",
    "Y = array[:,8]\n",
    "\n",
    "seed = 7\n",
    "num_trees = 30\n",
    "\n",
    "x_train,x_test,y_train,y_test = model_selection.train_test_split(X,Y, random_state=seed, shuffle=True)\n",
    "model = AdaBoostClassifier(n_estimators=500, random_state=seed,learning_rate=0.01)\n",
    "\n",
    "model.fit(x_train,y_train)\n",
    "\n",
    "from sklearn.metrics import classification_report\n",
    "\n",
    "trainPred=model.predict(x_train)\n",
    "testPred=model.predict(x_test)\n",
    "\n",
    "print(classification_report(y_train,trainPred))\n",
    "\n",
    "print(classification_report(y_test,testPred))"
   ]
  },
  {
   "cell_type": "code",
   "execution_count": null,
   "metadata": {
    "id": "VmfduWVV7qeq",
    "outputId": "4817bcc8-3698-4195-e7c9-1a3bebac8eb6"
   },
   "outputs": [
    {
     "name": "stdout",
     "output_type": "stream",
     "text": [
      "0.7552802460697198\n"
     ]
    }
   ],
   "source": []
  },
  {
   "cell_type": "markdown",
   "metadata": {
    "id": "E2fRqjMx7tQk"
   },
   "source": [
    "#### <b> Stochastic Gradient Boosting </b>\n",
    "\n",
    "One of the most advanced ensemble approaches is Stochastic Gradient Boosting (also known as Gradient Boosting Machines). It's also a strategy that's proven to be one of the most effective methods for boosting performance via ensemble."
   ]
  },
  {
   "cell_type": "markdown",
   "metadata": {
    "id": "J5tYi9Q37wWu"
   },
   "source": [
    "#### <b> Steps of Gradient Boasting Machine </b>"
   ]
  },
  {
   "cell_type": "markdown",
   "metadata": {
    "id": "vTeY0JU97zvU"
   },
   "source": [
    "![GBM_Steps](https://labcontent.simplicdn.net/data-content/content-assets/Data_and_AI/Applied_Machine_Learning/Images/Lesson_07_Ensemble_Learning/GBM_Steps.PNG)"
   ]
  },
  {
   "cell_type": "markdown",
   "metadata": {
    "id": "ilE5qgrG7_FP"
   },
   "source": [
    "You can construct a Gradient Boosting model for classification using the **GradientBoostingClassifier** class.\n",
    "\n",
    "The example below demonstrates Stochastic Gradient Boosting for classification with 100 trees.\n"
   ]
  },
  {
   "cell_type": "code",
   "execution_count": 10,
   "metadata": {
    "id": "yCYRA8lH8BQx",
    "outputId": "fc19a604-3b82-4b22-a3b0-e929bf7472e6"
   },
   "outputs": [
    {
     "name": "stdout",
     "output_type": "stream",
     "text": [
      "              precision    recall  f1-score   support\n",
      "\n",
      "         0.0       1.00      1.00      1.00       378\n",
      "         1.0       1.00      1.00      1.00       198\n",
      "\n",
      "    accuracy                           1.00       576\n",
      "   macro avg       1.00      1.00      1.00       576\n",
      "weighted avg       1.00      1.00      1.00       576\n",
      "\n",
      "              precision    recall  f1-score   support\n",
      "\n",
      "         0.0       0.76      0.85      0.81       122\n",
      "         1.0       0.68      0.54      0.60        70\n",
      "\n",
      "    accuracy                           0.74       192\n",
      "   macro avg       0.72      0.70      0.70       192\n",
      "weighted avg       0.73      0.74      0.73       192\n",
      "\n"
     ]
    }
   ],
   "source": [
    "#Stochastic Gradient Boosting Classification\n",
    "import pandas\n",
    "from sklearn import model_selection\n",
    "from sklearn.ensemble import GradientBoostingClassifier\n",
    "\n",
    "url = \"https://raw.githubusercontent.com/jbrownlee/Datasets/master/pima-indians-diabetes.data.csv\"\n",
    "names = ['preg', 'plas', 'pres', 'skin', 'test', 'mass', 'pedi', 'age', 'class']\n",
    "dataframe = pandas.read_csv(url, names=names)\n",
    "\n",
    "array = dataframe.values\n",
    "X = array[:,0:8]\n",
    "Y = array[:,8]\n",
    "seed = 7\n",
    "num_trees = 100\n",
    "\n",
    "x_train,x_test,y_train,y_test = model_selection.train_test_split(X,Y, random_state=seed, shuffle=True)\n",
    "model = GradientBoostingClassifier(n_estimators=500, random_state=seed)\n",
    "\n",
    "model.fit(x_train,y_train)\n",
    "\n",
    "from sklearn.metrics import classification_report\n",
    "\n",
    "trainPred=model.predict(x_train)\n",
    "testPred=model.predict(x_test)\n",
    "\n",
    "print(classification_report(y_train,trainPred))\n",
    "\n",
    "print(classification_report(y_test,testPred))"
   ]
  },
  {
   "cell_type": "code",
   "execution_count": 43,
   "metadata": {},
   "outputs": [
    {
     "name": "stdout",
     "output_type": "stream",
     "text": [
      "              precision    recall  f1-score   support\n",
      "\n",
      "         0.0       0.96      0.98      0.97       378\n",
      "         1.0       0.97      0.93      0.95       198\n",
      "\n",
      "    accuracy                           0.97       576\n",
      "   macro avg       0.97      0.96      0.96       576\n",
      "weighted avg       0.97      0.97      0.97       576\n",
      "\n",
      "              precision    recall  f1-score   support\n",
      "\n",
      "         0.0       0.80      0.86      0.83       122\n",
      "         1.0       0.72      0.61      0.66        70\n",
      "\n",
      "    accuracy                           0.77       192\n",
      "   macro avg       0.76      0.74      0.74       192\n",
      "weighted avg       0.77      0.77      0.77       192\n",
      "\n"
     ]
    }
   ],
   "source": [
    "# fine Tuning Gradient Boost Model\n",
    "model = GradientBoostingClassifier(n_estimators=50, random_state=seed,min_samples_split=20,max_depth=5,min_samples_leaf=10,learning_rate=0.1)\n",
    "\n",
    "model.fit(x_train,y_train)\n",
    "\n",
    "from sklearn.metrics import classification_report\n",
    "\n",
    "trainPred=model.predict(x_train)\n",
    "testPred=model.predict(x_test)\n",
    "\n",
    "print(classification_report(y_train,trainPred))\n",
    "\n",
    "print(classification_report(y_test,testPred))"
   ]
  },
  {
   "cell_type": "markdown",
   "metadata": {
    "id": "3ncdJlfL8EyT"
   },
   "source": [
    "### CatBoost\n",
    "\n",
    "CatBoost is an algorithm for gradient boosting on decision trees. It is developed by Yandex researchers and engineers and is used for search, recommendation systems, personal assistants, self-driving cars, weather prediction, and many other tasks at Yandex and in other companies, including CERN, Cloudflare, Careem taxi. It is open-source and can be used by anyone.\n",
    "\n",
    "Let's study this with the help of a use case.\n"
   ]
  },
  {
   "cell_type": "markdown",
   "metadata": {
    "id": "NfzCTxdM9tz2"
   },
   "source": [
    "#### <b> Data Description </b>\n",
    "The data consists of real historical data collected from 2010 & 2011. Employees are manually allowed or denied access to resources over time. You must create an algorithm capable of learning from this historical data to predict approval or denial for an unknown set of employees.\n",
    "\n",
    "#### <b> File Descriptions </b>\n",
    "\n",
    "**train.csv:** It is a training set. Each row has the action (ground truth), resources, and information about the employee's role at the time of approval.\n",
    "\n",
    "**test.csv:** It is the test set for which predictions should be made. Each row asks whether an employee having the listed characteristics should have access to the listed resource.\n",
    "\n",
    "The objective is to develop a model from historical data that will decide the access needs of an employee so that manual access transactions (grants and revocations) are reduced as the attributes of the employee change over time. The model will take information on the position of an employee and a resource code and return whether access should be given or not.\n",
    "\n",
    "Note: The problem statement is from a Kaggle contest"
   ]
  },
  {
   "cell_type": "code",
   "execution_count": null,
   "metadata": {},
   "outputs": [],
   "source": []
  },
  {
   "cell_type": "markdown",
   "metadata": {
    "id": "FiB_jNkd-PNx"
   },
   "source": [
    "The objective is to develop a model from historical data, that will decide the access needs of an employee, so that manual access transactions (grants and revocations) are reduced as the attributes of the employee change over time. The model will take information on the position of an employee and a resource code and return whether access should be given or not. <br>\n",
    "`Note: The problem statement is from a Kaggle contest`"
   ]
  },
  {
   "cell_type": "markdown",
   "metadata": {
    "id": "O2Nm6BAT5OdY"
   },
   "source": [
    "#### <b> Libraries Installation </b>"
   ]
  },
  {
   "cell_type": "code",
   "execution_count": 3,
   "metadata": {
    "id": "Al4b3_2kShpV"
   },
   "outputs": [
    {
     "name": "stdout",
     "output_type": "stream",
     "text": [
      "Requirement already satisfied: catboost in /usr/local/lib/python3.10/site-packages (1.1.1)\n",
      "Requirement already satisfied: six in /usr/local/lib/python3.10/site-packages (from catboost) (1.16.0)\n",
      "Requirement already satisfied: graphviz in /usr/local/lib/python3.10/site-packages (from catboost) (0.20.1)\n",
      "Requirement already satisfied: numpy>=1.16.0 in /usr/local/lib/python3.10/site-packages (from catboost) (1.23.4)\n",
      "Requirement already satisfied: plotly in /usr/local/lib/python3.10/site-packages (from catboost) (5.12.0)\n",
      "Requirement already satisfied: matplotlib in /usr/local/lib/python3.10/site-packages (from catboost) (3.6.2)\n",
      "Requirement already satisfied: pandas>=0.24.0 in /usr/local/lib/python3.10/site-packages (from catboost) (1.5.1)\n",
      "Requirement already satisfied: scipy in /usr/local/lib/python3.10/site-packages (from catboost) (1.9.3)\n",
      "Requirement already satisfied: pytz>=2020.1 in /usr/local/lib/python3.10/site-packages (from pandas>=0.24.0->catboost) (2022.5)\n",
      "Requirement already satisfied: python-dateutil>=2.8.1 in /usr/local/lib/python3.10/site-packages (from pandas>=0.24.0->catboost) (2.8.2)\n",
      "Requirement already satisfied: contourpy>=1.0.1 in /usr/local/lib/python3.10/site-packages (from matplotlib->catboost) (1.0.5)\n",
      "Requirement already satisfied: cycler>=0.10 in /usr/local/lib/python3.10/site-packages (from matplotlib->catboost) (0.11.0)\n",
      "Requirement already satisfied: fonttools>=4.22.0 in /usr/local/lib/python3.10/site-packages (from matplotlib->catboost) (4.38.0)\n",
      "Requirement already satisfied: pyparsing>=2.2.1 in /usr/local/lib/python3.10/site-packages (from matplotlib->catboost) (3.0.9)\n",
      "Requirement already satisfied: packaging>=20.0 in /usr/local/lib/python3.10/site-packages (from matplotlib->catboost) (21.3)\n",
      "Requirement already satisfied: kiwisolver>=1.0.1 in /usr/local/lib/python3.10/site-packages (from matplotlib->catboost) (1.4.4)\n",
      "Requirement already satisfied: pillow>=6.2.0 in /usr/local/lib/python3.10/site-packages (from matplotlib->catboost) (9.2.0)\n",
      "Requirement already satisfied: tenacity>=6.2.0 in /usr/local/lib/python3.10/site-packages (from plotly->catboost) (8.1.0)\n"
     ]
    }
   ],
   "source": [
    "#Installing CatBoost\n",
    "!pip3 install catboost"
   ]
  },
  {
   "cell_type": "code",
   "execution_count": 4,
   "metadata": {
    "id": "NTMJOp4Z5Odk",
    "outputId": "f89ad23e-3d6a-4c32-f148-9410ccb9b836"
   },
   "outputs": [
    {
     "name": "stdout",
     "output_type": "stream",
     "text": [
      "1.1.1\n",
      "Python 3.10.8\r\n"
     ]
    }
   ],
   "source": [
    "#To import libraries\n",
    "import catboost\n",
    "print(catboost.__version__)\n",
    "!python3 --version"
   ]
  },
  {
   "cell_type": "markdown",
   "metadata": {
    "id": "9IvIcY_05Odt"
   },
   "source": [
    "#### <b> Reading the Data </b>"
   ]
  },
  {
   "cell_type": "code",
   "execution_count": 5,
   "metadata": {
    "id": "bazUWz1i5Odu"
   },
   "outputs": [],
   "source": [
    "#To read the data\n",
    "import pandas as pd\n",
    "import os\n",
    "import numpy as np\n",
    "np.set_printoptions(precision=4)\n",
    "from catboost import *\n",
    "from catboost import datasets"
   ]
  },
  {
   "cell_type": "code",
   "execution_count": 7,
   "metadata": {
    "id": "zHhZNN1K5Od2"
   },
   "outputs": [],
   "source": [
    "(train_df, test_df) = catboost.datasets.amazon()"
   ]
  },
  {
   "cell_type": "code",
   "execution_count": 8,
   "metadata": {
    "id": "fdHqNPC25Od8",
    "outputId": "defc4746-3a75-4dfb-86a8-830186de05bf"
   },
   "outputs": [
    {
     "data": {
      "text/html": [
       "<div>\n",
       "<style scoped>\n",
       "    .dataframe tbody tr th:only-of-type {\n",
       "        vertical-align: middle;\n",
       "    }\n",
       "\n",
       "    .dataframe tbody tr th {\n",
       "        vertical-align: top;\n",
       "    }\n",
       "\n",
       "    .dataframe thead th {\n",
       "        text-align: right;\n",
       "    }\n",
       "</style>\n",
       "<table border=\"1\" class=\"dataframe\">\n",
       "  <thead>\n",
       "    <tr style=\"text-align: right;\">\n",
       "      <th></th>\n",
       "      <th>ACTION</th>\n",
       "      <th>RESOURCE</th>\n",
       "      <th>MGR_ID</th>\n",
       "      <th>ROLE_ROLLUP_1</th>\n",
       "      <th>ROLE_ROLLUP_2</th>\n",
       "      <th>ROLE_DEPTNAME</th>\n",
       "      <th>ROLE_TITLE</th>\n",
       "      <th>ROLE_FAMILY_DESC</th>\n",
       "      <th>ROLE_FAMILY</th>\n",
       "      <th>ROLE_CODE</th>\n",
       "    </tr>\n",
       "  </thead>\n",
       "  <tbody>\n",
       "    <tr>\n",
       "      <th>0</th>\n",
       "      <td>1</td>\n",
       "      <td>39353</td>\n",
       "      <td>85475</td>\n",
       "      <td>117961</td>\n",
       "      <td>118300</td>\n",
       "      <td>123472</td>\n",
       "      <td>117905</td>\n",
       "      <td>117906</td>\n",
       "      <td>290919</td>\n",
       "      <td>117908</td>\n",
       "    </tr>\n",
       "    <tr>\n",
       "      <th>1</th>\n",
       "      <td>1</td>\n",
       "      <td>17183</td>\n",
       "      <td>1540</td>\n",
       "      <td>117961</td>\n",
       "      <td>118343</td>\n",
       "      <td>123125</td>\n",
       "      <td>118536</td>\n",
       "      <td>118536</td>\n",
       "      <td>308574</td>\n",
       "      <td>118539</td>\n",
       "    </tr>\n",
       "    <tr>\n",
       "      <th>2</th>\n",
       "      <td>1</td>\n",
       "      <td>36724</td>\n",
       "      <td>14457</td>\n",
       "      <td>118219</td>\n",
       "      <td>118220</td>\n",
       "      <td>117884</td>\n",
       "      <td>117879</td>\n",
       "      <td>267952</td>\n",
       "      <td>19721</td>\n",
       "      <td>117880</td>\n",
       "    </tr>\n",
       "    <tr>\n",
       "      <th>3</th>\n",
       "      <td>1</td>\n",
       "      <td>36135</td>\n",
       "      <td>5396</td>\n",
       "      <td>117961</td>\n",
       "      <td>118343</td>\n",
       "      <td>119993</td>\n",
       "      <td>118321</td>\n",
       "      <td>240983</td>\n",
       "      <td>290919</td>\n",
       "      <td>118322</td>\n",
       "    </tr>\n",
       "    <tr>\n",
       "      <th>4</th>\n",
       "      <td>1</td>\n",
       "      <td>42680</td>\n",
       "      <td>5905</td>\n",
       "      <td>117929</td>\n",
       "      <td>117930</td>\n",
       "      <td>119569</td>\n",
       "      <td>119323</td>\n",
       "      <td>123932</td>\n",
       "      <td>19793</td>\n",
       "      <td>119325</td>\n",
       "    </tr>\n",
       "  </tbody>\n",
       "</table>\n",
       "</div>"
      ],
      "text/plain": [
       "   ACTION  RESOURCE  MGR_ID  ROLE_ROLLUP_1  ROLE_ROLLUP_2  ROLE_DEPTNAME  \\\n",
       "0       1     39353   85475         117961         118300         123472   \n",
       "1       1     17183    1540         117961         118343         123125   \n",
       "2       1     36724   14457         118219         118220         117884   \n",
       "3       1     36135    5396         117961         118343         119993   \n",
       "4       1     42680    5905         117929         117930         119569   \n",
       "\n",
       "   ROLE_TITLE  ROLE_FAMILY_DESC  ROLE_FAMILY  ROLE_CODE  \n",
       "0      117905            117906       290919     117908  \n",
       "1      118536            118536       308574     118539  \n",
       "2      117879            267952        19721     117880  \n",
       "3      118321            240983       290919     118322  \n",
       "4      119323            123932        19793     119325  "
      ]
     },
     "execution_count": 8,
     "metadata": {},
     "output_type": "execute_result"
    }
   ],
   "source": [
    "train_df.head()"
   ]
  },
  {
   "cell_type": "code",
   "execution_count": 9,
   "metadata": {},
   "outputs": [
    {
     "data": {
      "text/plain": [
       "1    30872\n",
       "0     1897\n",
       "Name: ACTION, dtype: int64"
      ]
     },
     "execution_count": 9,
     "metadata": {},
     "output_type": "execute_result"
    }
   ],
   "source": [
    "train_df.ACTION.value_counts()"
   ]
  },
  {
   "cell_type": "markdown",
   "metadata": {
    "id": "2cpBrqOFShpW"
   },
   "source": [
    "The data will be displayed on the screen."
   ]
  },
  {
   "cell_type": "markdown",
   "metadata": {
    "id": "-qQrg9yc5OeC"
   },
   "source": [
    "#### <b> Preparing Your Data </b>"
   ]
  },
  {
   "cell_type": "markdown",
   "metadata": {
    "id": "fP5OC4_G5OeF"
   },
   "source": [
    "Label values extraction"
   ]
  },
  {
   "cell_type": "markdown",
   "metadata": {
    "id": "qJJ7w958Nklf"
   },
   "source": [
    "Action column contains the categorical feature. However, it is not available for test dataset, so you must drop the Action column."
   ]
  },
  {
   "cell_type": "code",
   "execution_count": 10,
   "metadata": {
    "id": "gTjy52n15OeG"
   },
   "outputs": [],
   "source": [
    "y = train_df.ACTION\n",
    "X = train_df.drop('ACTION', axis=1)"
   ]
  },
  {
   "cell_type": "markdown",
   "metadata": {
    "id": "do17No295OeO"
   },
   "source": [
    "Categorical features declaration \n"
   ]
  },
  {
   "cell_type": "markdown",
   "metadata": {
    "id": "O59buCb9Nklf"
   },
   "source": [
    "* <b>cat_features </b> is a one-dimensional array of categorical columns indices. \n",
    "* It has one of the following types: list, numpy.ndarray, pandas.DataFrame, and pandas.Series."
   ]
  },
  {
   "cell_type": "markdown",
   "metadata": {
    "id": "zV5KB_szNklg"
   },
   "source": [
    "Now we will declare the cat feature that holds the categorical values present on train dataset."
   ]
  },
  {
   "cell_type": "code",
   "execution_count": 11,
   "metadata": {
    "id": "mq03gQnU5OeP",
    "outputId": "acf6c36c-1f8c-479a-e704-095720ab2299"
   },
   "outputs": [
    {
     "name": "stdout",
     "output_type": "stream",
     "text": [
      "[0, 1, 2, 3, 4, 5, 6, 7, 8]\n"
     ]
    }
   ],
   "source": [
    "#The type list is used here\n",
    "cat_features = list(range(0, X.shape[1]))\n",
    "print(cat_features)"
   ]
  },
  {
   "cell_type": "code",
   "execution_count": 12,
   "metadata": {
    "id": "rYryzS3m5OeY",
    "outputId": "34a7ff68-8b88-47b9-f288-2d802d5d55e4"
   },
   "outputs": [
    {
     "name": "stdout",
     "output_type": "stream",
     "text": [
      "Labels: {0, 1}\n",
      "Zero count = 1897, One count = 30872\n"
     ]
    }
   ],
   "source": [
    "#looking for label balance in dataset\n",
    "print('Labels: {}'.format(set(y)))\n",
    "print('Zero count = {}, One count = {}'.format(len(y) - sum(y), sum(y)))"
   ]
  },
  {
   "cell_type": "markdown",
   "metadata": {
    "id": "2lZni3Qb5Oed"
   },
   "source": [
    "Ways to create **Pool** class\n",
    "- In multiprocessing, the Pool class may handle a huge number of processes. It enables you to run several jobs in a single process due to its ability to queue the jobs.\n",
    "- Pool is an internal dataset specific to CatBoost and can lead to 8-10x faster processing"
   ]
  },
  {
   "cell_type": "code",
   "execution_count": 13,
   "metadata": {
    "id": "edN1u7wx5Oef"
   },
   "outputs": [],
   "source": [
    "#Specifying the dataset\n",
    "dataset_dir = './amazon'\n",
    "if not os.path.exists(dataset_dir):\n",
    "    os.makedirs(dataset_dir)\n",
    "\n",
    "#We will be able to work with files with/without header and with different separators\n",
    "train_df.to_csv(\n",
    "    os.path.join(dataset_dir, 'train.tsv'),\n",
    "    index=False, sep='\\t', header=False\n",
    ")\n",
    "test_df.to_csv(\n",
    "    os.path.join(dataset_dir, 'test.tsv'),\n",
    "    index=False, sep='\\t', header=False\n",
    ")\n",
    "\n",
    "train_df.to_csv(\n",
    "    os.path.join(dataset_dir, 'train.csv'),\n",
    "    index=False, sep=',', header=True\n",
    ")\n",
    "test_df.to_csv(\n",
    "    os.path.join(dataset_dir, 'test.csv'),\n",
    "    index=False, sep=',', header=True\n",
    ")"
   ]
  },
  {
   "cell_type": "code",
   "execution_count": 14,
   "metadata": {
    "id": "l8pHZhnF5Oel",
    "outputId": "1df49bb2-c5b4-4add-b186-136145afe095"
   },
   "outputs": [
    {
     "name": "stdout",
     "output_type": "stream",
     "text": [
      "ACTION,RESOURCE,MGR_ID,ROLE_ROLLUP_1,ROLE_ROLLUP_2,ROLE_DEPTNAME,ROLE_TITLE,ROLE_FAMILY_DESC,ROLE_FAMILY,ROLE_CODE\r\n",
      "1,39353,85475,117961,118300,123472,117905,117906,290919,117908\r\n",
      "1,17183,1540,117961,118343,123125,118536,118536,308574,118539\r\n",
      "1,36724,14457,118219,118220,117884,117879,267952,19721,117880\r\n",
      "1,36135,5396,117961,118343,119993,118321,240983,290919,118322\r\n",
      "1,42680,5905,117929,117930,119569,119323,123932,19793,119325\r\n",
      "0,45333,14561,117951,117952,118008,118568,118568,19721,118570\r\n",
      "1,25993,17227,117961,118343,123476,118980,301534,118295,118982\r\n",
      "1,19666,4209,117961,117969,118910,126820,269034,118638,126822\r\n",
      "1,31246,783,117961,118413,120584,128230,302830,4673,128231\r\n"
     ]
    }
   ],
   "source": [
    "!head amazon/train.csv"
   ]
  },
  {
   "cell_type": "code",
   "execution_count": 15,
   "metadata": {
    "id": "8DBuSqjQ5Oer"
   },
   "outputs": [],
   "source": [
    "from catboost.utils import create_cd"
   ]
  },
  {
   "cell_type": "code",
   "execution_count": 16,
   "metadata": {},
   "outputs": [],
   "source": [
    "create_cd()"
   ]
  },
  {
   "cell_type": "code",
   "execution_count": 21,
   "metadata": {
    "id": "8DBuSqjQ5Oer"
   },
   "outputs": [],
   "source": [
    "feature_names = dict()\n",
    "for column, name in enumerate(train_df):\n",
    "    if column == 0:\n",
    "        continue\n",
    "    feature_names[column] = name"
   ]
  },
  {
   "cell_type": "code",
   "execution_count": 18,
   "metadata": {},
   "outputs": [
    {
     "data": {
      "text/plain": [
       "{0: 'RESOURCE',\n",
       " 1: 'MGR_ID',\n",
       " 2: 'ROLE_ROLLUP_1',\n",
       " 3: 'ROLE_ROLLUP_2',\n",
       " 4: 'ROLE_DEPTNAME',\n",
       " 5: 'ROLE_TITLE',\n",
       " 6: 'ROLE_FAMILY_DESC',\n",
       " 7: 'ROLE_FAMILY',\n",
       " 8: 'ROLE_CODE'}"
      ]
     },
     "execution_count": 18,
     "metadata": {},
     "output_type": "execute_result"
    }
   ],
   "source": [
    "feature_names"
   ]
  },
  {
   "cell_type": "code",
   "execution_count": 23,
   "metadata": {
    "id": "8DBuSqjQ5Oer"
   },
   "outputs": [],
   "source": [
    "    \n",
    "create_cd(\n",
    "    label=0, \n",
    "    cat_features=list(range(1, train_df.columns.shape[0])),\n",
    "    feature_names=feature_names,\n",
    "    output_path=os.path.join(dataset_dir, 'train.cd')\n",
    ")"
   ]
  },
  {
   "cell_type": "code",
   "execution_count": 25,
   "metadata": {
    "id": "i9NOIq_F5Oex",
    "outputId": "fb865df9-05c6-44dc-db31-d346943a0689"
   },
   "outputs": [
    {
     "name": "stdout",
     "output_type": "stream",
     "text": [
      "0\tLabel\t\r\n",
      "1\tCateg\tRESOURCE\r\n",
      "2\tCateg\tMGR_ID\r\n",
      "3\tCateg\tROLE_ROLLUP_1\r\n",
      "4\tCateg\tROLE_ROLLUP_2\r\n",
      "5\tCateg\tROLE_DEPTNAME\r\n",
      "6\tCateg\tROLE_TITLE\r\n",
      "7\tCateg\tROLE_FAMILY_DESC\r\n",
      "8\tCateg\tROLE_FAMILY\r\n",
      "9\tCateg\tROLE_CODE\r\n"
     ]
    }
   ],
   "source": [
    "!cat amazon/train.cd"
   ]
  },
  {
   "cell_type": "code",
   "execution_count": 26,
   "metadata": {
    "id": "l9P75ddI5Oe4",
    "outputId": "f8953e1c-c097-4b7a-a7fa-98897916effa"
   },
   "outputs": [
    {
     "name": "stdout",
     "output_type": "stream",
     "text": [
      "Dataset shape\n",
      "dataset 1:(32769, 9)\n",
      "dataset 2:(32769, 9)\n",
      "dataset 3:(32769, 9)\n",
      "dataset 4: (32769, 9)\n",
      "\n",
      "\n",
      "Column names\n",
      "dataset 1:\n",
      "['RESOURCE', 'MGR_ID', 'ROLE_ROLLUP_1', 'ROLE_ROLLUP_2', 'ROLE_DEPTNAME', 'ROLE_TITLE', 'ROLE_FAMILY_DESC', 'ROLE_FAMILY', 'ROLE_CODE']\n",
      "\n",
      "dataset 2:\n",
      "['RESOURCE', 'MGR_ID', 'ROLE_ROLLUP_1', 'ROLE_ROLLUP_2', 'ROLE_DEPTNAME', 'ROLE_TITLE', 'ROLE_FAMILY_DESC', 'ROLE_FAMILY', 'ROLE_CODE']\n",
      "\n",
      "dataset 3:\n",
      "['RESOURCE', 'MGR_ID', 'ROLE_ROLLUP_1', 'ROLE_ROLLUP_2', 'ROLE_DEPTNAME', 'ROLE_TITLE', 'ROLE_FAMILY_DESC', 'ROLE_FAMILY', 'ROLE_CODE']\n",
      "\n",
      "dataset 4:\n",
      "['RESOURCE', 'MGR_ID', 'ROLE_ROLLUP_1', 'ROLE_ROLLUP_2', 'ROLE_DEPTNAME', 'ROLE_TITLE', 'ROLE_FAMILY_DESC', 'ROLE_FAMILY', 'ROLE_CODE']\n"
     ]
    }
   ],
   "source": [
    "pool1 = Pool(data=X, label=y, cat_features=cat_features)\n",
    "pool2 = Pool(\n",
    "    data=os.path.join(dataset_dir, 'train.csv'), \n",
    "    delimiter=',', \n",
    "    column_description=os.path.join(dataset_dir, 'train.cd'),\n",
    "    has_header=True\n",
    ")\n",
    "pool3 = Pool(data=X, cat_features=cat_features)\n",
    "\n",
    "#Fastest way to create a Pool is to create it from numpy matrix.\n",
    "#This way should be used if you want fast predictions\n",
    "#or fastest way to load the data in python.\n",
    "\n",
    "X_prepared = X.values.astype(str).astype(object)\n",
    "#For FeaturesData class categorial features must have type str\n",
    "\n",
    "pool4 = Pool(\n",
    "    data=FeaturesData(\n",
    "        cat_feature_data=X_prepared,\n",
    "        cat_feature_names=list(X)\n",
    "    ),\n",
    "    label=y.values\n",
    ")\n",
    "\n",
    "print('Dataset shape')\n",
    "print('dataset 1:' + str(pool1.shape) +\n",
    "      '\\ndataset 2:' + str(pool2.shape) + \n",
    "      '\\ndataset 3:' + str(pool3.shape) +\n",
    "      '\\ndataset 4: ' + str(pool4.shape))\n",
    "\n",
    "print('\\n')\n",
    "print('Column names')\n",
    "print('dataset 1:')\n",
    "print(pool1.get_feature_names()) \n",
    "print('\\ndataset 2:')\n",
    "print(pool2.get_feature_names())\n",
    "print('\\ndataset 3:')\n",
    "print(pool3.get_feature_names())\n",
    "print('\\ndataset 4:')\n",
    "print(pool4.get_feature_names())"
   ]
  },
  {
   "cell_type": "markdown",
   "metadata": {
    "id": "fXtl9SJU5Oe-"
   },
   "source": [
    "#### <b> Split Your Data into Train and Validation </b>"
   ]
  },
  {
   "cell_type": "markdown",
   "metadata": {
    "id": "HQEc29rVShpY"
   },
   "source": [
    "Let us split the data into **Train** and **Validation**."
   ]
  },
  {
   "cell_type": "code",
   "execution_count": 27,
   "metadata": {
    "id": "cE-9zYl65Oe_"
   },
   "outputs": [],
   "source": [
    "from sklearn.model_selection import train_test_split\n",
    "X_train, X_validation, y_train, y_validation = train_test_split(X, y, train_size=0.8, random_state=1234)"
   ]
  },
  {
   "cell_type": "markdown",
   "metadata": {
    "id": "Pmy68aJN5OfF"
   },
   "source": [
    "#### <b> Selecting the Objective Function </b>"
   ]
  },
  {
   "cell_type": "markdown",
   "metadata": {
    "id": "6pmmHAOk5OfG"
   },
   "source": [
    "Possible options for binary classification:\n",
    "\n",
    "`Logloss` \n",
    "\n",
    "`CrossEntropy` for probabilities in target"
   ]
  },
  {
   "cell_type": "markdown",
   "metadata": {
    "id": "iNvDzSNatd-r"
   },
   "source": [
    "A **CatBoostClassifier** trains and applies models for the classification problems. It provides compatibility with the scikit-learn tools."
   ]
  },
  {
   "cell_type": "code",
   "execution_count": 31,
   "metadata": {
    "id": "OKW4qD2V5OfI",
    "outputId": "799de3ac-0f50-4d9f-9a44-66718231b5d3"
   },
   "outputs": [
    {
     "name": "stdout",
     "output_type": "stream",
     "text": [
      "0:\tlearn: 0.5796777\ttest: 0.5798709\tbest: 0.5798709 (0)\ttotal: 19ms\tremaining: 6.37s\n",
      "1:\tlearn: 0.4897296\ttest: 0.4881182\tbest: 0.4881182 (1)\ttotal: 36.9ms\tremaining: 6.16s\n",
      "2:\tlearn: 0.4236863\ttest: 0.4219269\tbest: 0.4219269 (2)\ttotal: 52.6ms\tremaining: 5.84s\n",
      "3:\tlearn: 0.3755272\ttest: 0.3741887\tbest: 0.3741887 (3)\ttotal: 58.5ms\tremaining: 4.85s\n",
      "4:\tlearn: 0.3342711\ttest: 0.3319050\tbest: 0.3319050 (4)\ttotal: 70.3ms\tremaining: 4.65s\n",
      "5:\tlearn: 0.3049562\ttest: 0.3030328\tbest: 0.3030328 (5)\ttotal: 82ms\tremaining: 4.51s\n",
      "6:\tlearn: 0.2815803\ttest: 0.2802818\tbest: 0.2802818 (6)\ttotal: 96.7ms\tremaining: 4.54s\n",
      "7:\tlearn: 0.2638375\ttest: 0.2630517\tbest: 0.2630517 (7)\ttotal: 113ms\tremaining: 4.64s\n",
      "8:\tlearn: 0.2468022\ttest: 0.2450253\tbest: 0.2450253 (8)\ttotal: 129ms\tremaining: 4.69s\n",
      "9:\tlearn: 0.2322845\ttest: 0.2290564\tbest: 0.2290564 (9)\ttotal: 148ms\tremaining: 4.82s\n",
      "10:\tlearn: 0.2216224\ttest: 0.2174593\tbest: 0.2174593 (10)\ttotal: 166ms\tremaining: 4.89s\n",
      "11:\tlearn: 0.2117142\ttest: 0.2063963\tbest: 0.2063963 (11)\ttotal: 186ms\tremaining: 5.03s\n",
      "12:\tlearn: 0.2039242\ttest: 0.1977817\tbest: 0.1977817 (12)\ttotal: 203ms\tremaining: 5.04s\n",
      "13:\tlearn: 0.1983194\ttest: 0.1914288\tbest: 0.1914288 (13)\ttotal: 217ms\tremaining: 4.99s\n",
      "14:\tlearn: 0.1932289\ttest: 0.1857205\tbest: 0.1857205 (14)\ttotal: 239ms\tremaining: 5.12s\n",
      "15:\tlearn: 0.1887703\ttest: 0.1808850\tbest: 0.1808850 (15)\ttotal: 261ms\tremaining: 5.22s\n",
      "16:\tlearn: 0.1844571\ttest: 0.1754243\tbest: 0.1754243 (16)\ttotal: 280ms\tremaining: 5.26s\n",
      "17:\tlearn: 0.1821450\ttest: 0.1725792\tbest: 0.1725792 (17)\ttotal: 295ms\tremaining: 5.21s\n",
      "18:\tlearn: 0.1798958\ttest: 0.1697387\tbest: 0.1697387 (18)\ttotal: 309ms\tremaining: 5.16s\n",
      "19:\tlearn: 0.1779568\ttest: 0.1672842\tbest: 0.1672842 (19)\ttotal: 324ms\tremaining: 5.12s\n",
      "20:\tlearn: 0.1759874\ttest: 0.1646320\tbest: 0.1646320 (20)\ttotal: 344ms\tremaining: 5.16s\n",
      "21:\tlearn: 0.1744792\ttest: 0.1624396\tbest: 0.1624396 (21)\ttotal: 360ms\tremaining: 5.14s\n",
      "22:\tlearn: 0.1727085\ttest: 0.1602095\tbest: 0.1602095 (22)\ttotal: 377ms\tremaining: 5.13s\n",
      "23:\tlearn: 0.1710666\ttest: 0.1581579\tbest: 0.1581579 (23)\ttotal: 390ms\tremaining: 5.07s\n",
      "24:\tlearn: 0.1698840\ttest: 0.1567092\tbest: 0.1567092 (24)\ttotal: 404ms\tremaining: 5.02s\n",
      "25:\tlearn: 0.1689511\ttest: 0.1553903\tbest: 0.1553903 (25)\ttotal: 416ms\tremaining: 4.96s\n",
      "26:\tlearn: 0.1679041\ttest: 0.1539534\tbest: 0.1539534 (26)\ttotal: 429ms\tremaining: 4.91s\n",
      "27:\tlearn: 0.1673401\ttest: 0.1533885\tbest: 0.1533885 (27)\ttotal: 446ms\tremaining: 4.9s\n",
      "28:\tlearn: 0.1661992\ttest: 0.1518330\tbest: 0.1518330 (28)\ttotal: 471ms\tremaining: 4.98s\n",
      "29:\tlearn: 0.1652721\ttest: 0.1505519\tbest: 0.1505519 (29)\ttotal: 493ms\tremaining: 5.03s\n",
      "30:\tlearn: 0.1642978\ttest: 0.1496125\tbest: 0.1496125 (30)\ttotal: 515ms\tremaining: 5.07s\n",
      "31:\tlearn: 0.1634355\ttest: 0.1486087\tbest: 0.1486087 (31)\ttotal: 529ms\tremaining: 5.03s\n",
      "32:\tlearn: 0.1628984\ttest: 0.1480285\tbest: 0.1480285 (32)\ttotal: 556ms\tremaining: 5.11s\n",
      "33:\tlearn: 0.1621250\ttest: 0.1468854\tbest: 0.1468854 (33)\ttotal: 581ms\tremaining: 5.16s\n",
      "34:\tlearn: 0.1617444\ttest: 0.1463927\tbest: 0.1463927 (34)\ttotal: 595ms\tremaining: 5.12s\n",
      "35:\tlearn: 0.1613913\ttest: 0.1460115\tbest: 0.1460115 (35)\ttotal: 610ms\tremaining: 5.09s\n",
      "36:\tlearn: 0.1608845\ttest: 0.1455559\tbest: 0.1455559 (36)\ttotal: 628ms\tremaining: 5.07s\n",
      "37:\tlearn: 0.1601023\ttest: 0.1452923\tbest: 0.1452923 (37)\ttotal: 648ms\tremaining: 5.08s\n",
      "38:\tlearn: 0.1599189\ttest: 0.1451101\tbest: 0.1451101 (38)\ttotal: 671ms\tremaining: 5.11s\n",
      "39:\tlearn: 0.1593795\ttest: 0.1447798\tbest: 0.1447798 (39)\ttotal: 692ms\tremaining: 5.12s\n",
      "40:\tlearn: 0.1588002\ttest: 0.1443991\tbest: 0.1443991 (40)\ttotal: 719ms\tremaining: 5.18s\n",
      "41:\tlearn: 0.1583118\ttest: 0.1439706\tbest: 0.1439706 (41)\ttotal: 736ms\tremaining: 5.15s\n",
      "42:\tlearn: 0.1581113\ttest: 0.1438827\tbest: 0.1438827 (42)\ttotal: 759ms\tremaining: 5.17s\n",
      "43:\tlearn: 0.1578574\ttest: 0.1437364\tbest: 0.1437364 (43)\ttotal: 778ms\tremaining: 5.16s\n",
      "44:\tlearn: 0.1574309\ttest: 0.1434537\tbest: 0.1434537 (44)\ttotal: 789ms\tremaining: 5.1s\n",
      "45:\tlearn: 0.1571966\ttest: 0.1431992\tbest: 0.1431992 (45)\ttotal: 805ms\tremaining: 5.08s\n",
      "46:\tlearn: 0.1567265\ttest: 0.1432015\tbest: 0.1431992 (45)\ttotal: 824ms\tremaining: 5.07s\n",
      "47:\tlearn: 0.1564286\ttest: 0.1432209\tbest: 0.1431992 (45)\ttotal: 843ms\tremaining: 5.06s\n",
      "48:\tlearn: 0.1562062\ttest: 0.1431892\tbest: 0.1431892 (48)\ttotal: 868ms\tremaining: 5.08s\n",
      "49:\tlearn: 0.1560821\ttest: 0.1429935\tbest: 0.1429935 (49)\ttotal: 886ms\tremaining: 5.07s\n",
      "50:\tlearn: 0.1556984\ttest: 0.1426605\tbest: 0.1426605 (50)\ttotal: 909ms\tremaining: 5.08s\n",
      "51:\tlearn: 0.1554955\ttest: 0.1424069\tbest: 0.1424069 (51)\ttotal: 935ms\tremaining: 5.11s\n",
      "52:\tlearn: 0.1553500\ttest: 0.1423128\tbest: 0.1423128 (52)\ttotal: 962ms\tremaining: 5.14s\n",
      "53:\tlearn: 0.1551365\ttest: 0.1422577\tbest: 0.1422577 (53)\ttotal: 983ms\tremaining: 5.13s\n",
      "54:\tlearn: 0.1549799\ttest: 0.1419705\tbest: 0.1419705 (54)\ttotal: 1.01s\tremaining: 5.16s\n",
      "55:\tlearn: 0.1546086\ttest: 0.1417190\tbest: 0.1417190 (55)\ttotal: 1.03s\tremaining: 5.17s\n",
      "56:\tlearn: 0.1544921\ttest: 0.1417372\tbest: 0.1417190 (55)\ttotal: 1.06s\tremaining: 5.2s\n",
      "57:\tlearn: 0.1542506\ttest: 0.1414988\tbest: 0.1414988 (57)\ttotal: 1.09s\tremaining: 5.25s\n",
      "58:\tlearn: 0.1540967\ttest: 0.1413611\tbest: 0.1413611 (58)\ttotal: 1.12s\tremaining: 5.26s\n",
      "59:\tlearn: 0.1539458\ttest: 0.1412658\tbest: 0.1412658 (59)\ttotal: 1.15s\tremaining: 5.29s\n",
      "60:\tlearn: 0.1537868\ttest: 0.1412104\tbest: 0.1412104 (60)\ttotal: 1.18s\tremaining: 5.3s\n",
      "61:\tlearn: 0.1535553\ttest: 0.1409923\tbest: 0.1409923 (61)\ttotal: 1.21s\tremaining: 5.33s\n",
      "62:\tlearn: 0.1533200\ttest: 0.1409549\tbest: 0.1409549 (62)\ttotal: 1.23s\tremaining: 5.31s\n",
      "63:\tlearn: 0.1531724\ttest: 0.1408773\tbest: 0.1408773 (63)\ttotal: 1.25s\tremaining: 5.31s\n",
      "64:\tlearn: 0.1530543\ttest: 0.1407600\tbest: 0.1407600 (64)\ttotal: 1.27s\tremaining: 5.31s\n",
      "65:\tlearn: 0.1529928\ttest: 0.1407314\tbest: 0.1407314 (65)\ttotal: 1.3s\tremaining: 5.32s\n",
      "66:\tlearn: 0.1528145\ttest: 0.1406044\tbest: 0.1406044 (66)\ttotal: 1.32s\tremaining: 5.32s\n",
      "67:\tlearn: 0.1526672\ttest: 0.1404895\tbest: 0.1404895 (67)\ttotal: 1.35s\tremaining: 5.34s\n",
      "68:\tlearn: 0.1525990\ttest: 0.1404844\tbest: 0.1404844 (68)\ttotal: 1.38s\tremaining: 5.35s\n",
      "69:\tlearn: 0.1523992\ttest: 0.1404710\tbest: 0.1404710 (69)\ttotal: 1.41s\tremaining: 5.36s\n",
      "70:\tlearn: 0.1522246\ttest: 0.1402975\tbest: 0.1402975 (70)\ttotal: 1.44s\tremaining: 5.36s\n",
      "71:\tlearn: 0.1519981\ttest: 0.1401491\tbest: 0.1401491 (71)\ttotal: 1.46s\tremaining: 5.37s\n",
      "72:\tlearn: 0.1519196\ttest: 0.1402238\tbest: 0.1401491 (71)\ttotal: 1.49s\tremaining: 5.37s\n",
      "73:\tlearn: 0.1518628\ttest: 0.1402078\tbest: 0.1401491 (71)\ttotal: 1.52s\tremaining: 5.38s\n",
      "74:\tlearn: 0.1517612\ttest: 0.1401957\tbest: 0.1401491 (71)\ttotal: 1.54s\tremaining: 5.38s\n",
      "75:\tlearn: 0.1516183\ttest: 0.1401966\tbest: 0.1401491 (71)\ttotal: 1.58s\tremaining: 5.39s\n",
      "76:\tlearn: 0.1515529\ttest: 0.1401920\tbest: 0.1401491 (71)\ttotal: 1.6s\tremaining: 5.37s\n",
      "77:\tlearn: 0.1514599\ttest: 0.1401102\tbest: 0.1401102 (77)\ttotal: 1.62s\tremaining: 5.36s\n",
      "78:\tlearn: 0.1512916\ttest: 0.1400058\tbest: 0.1400058 (78)\ttotal: 1.65s\tremaining: 5.36s\n",
      "79:\tlearn: 0.1511562\ttest: 0.1399347\tbest: 0.1399347 (79)\ttotal: 1.67s\tremaining: 5.36s\n",
      "80:\tlearn: 0.1510289\ttest: 0.1399191\tbest: 0.1399191 (80)\ttotal: 1.7s\tremaining: 5.35s\n",
      "81:\tlearn: 0.1508213\ttest: 0.1397013\tbest: 0.1397013 (81)\ttotal: 1.73s\tremaining: 5.36s\n",
      "82:\tlearn: 0.1506632\ttest: 0.1395879\tbest: 0.1395879 (82)\ttotal: 1.75s\tremaining: 5.34s\n",
      "83:\tlearn: 0.1505771\ttest: 0.1395194\tbest: 0.1395194 (83)\ttotal: 1.78s\tremaining: 5.33s\n",
      "84:\tlearn: 0.1504660\ttest: 0.1394829\tbest: 0.1394829 (84)\ttotal: 1.8s\tremaining: 5.31s\n",
      "85:\tlearn: 0.1503952\ttest: 0.1394707\tbest: 0.1394707 (85)\ttotal: 1.82s\tremaining: 5.3s\n",
      "86:\tlearn: 0.1501601\ttest: 0.1394423\tbest: 0.1394423 (86)\ttotal: 1.85s\tremaining: 5.28s\n",
      "87:\tlearn: 0.1501601\ttest: 0.1394424\tbest: 0.1394423 (86)\ttotal: 1.85s\tremaining: 5.22s\n",
      "88:\tlearn: 0.1500470\ttest: 0.1394449\tbest: 0.1394423 (86)\ttotal: 1.87s\tremaining: 5.2s\n",
      "89:\tlearn: 0.1500004\ttest: 0.1394935\tbest: 0.1394423 (86)\ttotal: 1.89s\tremaining: 5.16s\n",
      "90:\tlearn: 0.1498901\ttest: 0.1395593\tbest: 0.1394423 (86)\ttotal: 1.91s\tremaining: 5.14s\n",
      "91:\tlearn: 0.1498071\ttest: 0.1395759\tbest: 0.1394423 (86)\ttotal: 1.93s\tremaining: 5.11s\n",
      "92:\tlearn: 0.1497376\ttest: 0.1395870\tbest: 0.1394423 (86)\ttotal: 1.95s\tremaining: 5.1s\n",
      "93:\tlearn: 0.1494967\ttest: 0.1393765\tbest: 0.1393765 (93)\ttotal: 1.97s\tremaining: 5.08s\n",
      "94:\tlearn: 0.1494428\ttest: 0.1394080\tbest: 0.1393765 (93)\ttotal: 1.99s\tremaining: 5.05s\n",
      "95:\tlearn: 0.1494002\ttest: 0.1394453\tbest: 0.1393765 (93)\ttotal: 2.01s\tremaining: 5.03s\n",
      "96:\tlearn: 0.1493324\ttest: 0.1395456\tbest: 0.1393765 (93)\ttotal: 2.04s\tremaining: 5.01s\n",
      "97:\tlearn: 0.1491932\ttest: 0.1396551\tbest: 0.1393765 (93)\ttotal: 2.06s\tremaining: 5s\n",
      "98:\tlearn: 0.1491000\ttest: 0.1396880\tbest: 0.1393765 (93)\ttotal: 2.08s\tremaining: 4.99s\n",
      "99:\tlearn: 0.1490187\ttest: 0.1396377\tbest: 0.1393765 (93)\ttotal: 2.11s\tremaining: 4.97s\n",
      "100:\tlearn: 0.1489159\ttest: 0.1396477\tbest: 0.1393765 (93)\ttotal: 2.13s\tremaining: 4.95s\n"
     ]
    },
    {
     "name": "stdout",
     "output_type": "stream",
     "text": [
      "101:\tlearn: 0.1488044\ttest: 0.1396351\tbest: 0.1393765 (93)\ttotal: 2.15s\tremaining: 4.93s\n",
      "102:\tlearn: 0.1486401\ttest: 0.1395328\tbest: 0.1393765 (93)\ttotal: 2.18s\tremaining: 4.93s\n",
      "103:\tlearn: 0.1486013\ttest: 0.1394934\tbest: 0.1393765 (93)\ttotal: 2.21s\tremaining: 4.92s\n",
      "104:\tlearn: 0.1484584\ttest: 0.1394206\tbest: 0.1393765 (93)\ttotal: 2.23s\tremaining: 4.92s\n",
      "105:\tlearn: 0.1484100\ttest: 0.1394178\tbest: 0.1393765 (93)\ttotal: 2.25s\tremaining: 4.89s\n",
      "106:\tlearn: 0.1481831\ttest: 0.1394416\tbest: 0.1393765 (93)\ttotal: 2.27s\tremaining: 4.87s\n",
      "107:\tlearn: 0.1480129\ttest: 0.1393008\tbest: 0.1393008 (107)\ttotal: 2.3s\tremaining: 4.85s\n",
      "108:\tlearn: 0.1479654\ttest: 0.1392641\tbest: 0.1392641 (108)\ttotal: 2.32s\tremaining: 4.83s\n",
      "109:\tlearn: 0.1478877\ttest: 0.1392945\tbest: 0.1392641 (108)\ttotal: 2.34s\tremaining: 4.81s\n",
      "110:\tlearn: 0.1477516\ttest: 0.1392612\tbest: 0.1392612 (110)\ttotal: 2.37s\tremaining: 4.8s\n",
      "111:\tlearn: 0.1475955\ttest: 0.1391813\tbest: 0.1391813 (111)\ttotal: 2.4s\tremaining: 4.79s\n",
      "112:\tlearn: 0.1475481\ttest: 0.1391380\tbest: 0.1391380 (112)\ttotal: 2.42s\tremaining: 4.77s\n",
      "113:\tlearn: 0.1473773\ttest: 0.1390377\tbest: 0.1390377 (113)\ttotal: 2.44s\tremaining: 4.75s\n",
      "114:\tlearn: 0.1472795\ttest: 0.1389871\tbest: 0.1389871 (114)\ttotal: 2.46s\tremaining: 4.73s\n",
      "115:\tlearn: 0.1471683\ttest: 0.1388516\tbest: 0.1388516 (115)\ttotal: 2.48s\tremaining: 4.71s\n",
      "116:\tlearn: 0.1469848\ttest: 0.1388331\tbest: 0.1388331 (116)\ttotal: 2.51s\tremaining: 4.69s\n",
      "117:\tlearn: 0.1469540\ttest: 0.1388574\tbest: 0.1388331 (116)\ttotal: 2.53s\tremaining: 4.67s\n",
      "118:\tlearn: 0.1469140\ttest: 0.1388620\tbest: 0.1388331 (116)\ttotal: 2.54s\tremaining: 4.63s\n",
      "119:\tlearn: 0.1468530\ttest: 0.1388060\tbest: 0.1388060 (119)\ttotal: 2.56s\tremaining: 4.61s\n",
      "120:\tlearn: 0.1467302\ttest: 0.1387650\tbest: 0.1387650 (120)\ttotal: 2.58s\tremaining: 4.59s\n",
      "121:\tlearn: 0.1465843\ttest: 0.1386892\tbest: 0.1386892 (121)\ttotal: 2.61s\tremaining: 4.58s\n",
      "122:\tlearn: 0.1465084\ttest: 0.1385935\tbest: 0.1385935 (122)\ttotal: 2.63s\tremaining: 4.56s\n",
      "123:\tlearn: 0.1463995\ttest: 0.1384639\tbest: 0.1384639 (123)\ttotal: 2.65s\tremaining: 4.53s\n",
      "124:\tlearn: 0.1463551\ttest: 0.1384899\tbest: 0.1384639 (123)\ttotal: 2.67s\tremaining: 4.51s\n",
      "125:\tlearn: 0.1462545\ttest: 0.1384686\tbest: 0.1384639 (123)\ttotal: 2.69s\tremaining: 4.49s\n",
      "126:\tlearn: 0.1461858\ttest: 0.1384939\tbest: 0.1384639 (123)\ttotal: 2.71s\tremaining: 4.47s\n",
      "127:\tlearn: 0.1460424\ttest: 0.1384262\tbest: 0.1384262 (127)\ttotal: 2.73s\tremaining: 4.44s\n",
      "128:\tlearn: 0.1459376\ttest: 0.1383597\tbest: 0.1383597 (128)\ttotal: 2.75s\tremaining: 4.42s\n",
      "129:\tlearn: 0.1457251\ttest: 0.1383431\tbest: 0.1383431 (129)\ttotal: 2.78s\tremaining: 4.4s\n",
      "130:\tlearn: 0.1456196\ttest: 0.1382917\tbest: 0.1382917 (130)\ttotal: 2.8s\tremaining: 4.38s\n",
      "131:\tlearn: 0.1455733\ttest: 0.1382975\tbest: 0.1382917 (130)\ttotal: 2.82s\tremaining: 4.36s\n",
      "132:\tlearn: 0.1453766\ttest: 0.1382785\tbest: 0.1382785 (132)\ttotal: 2.84s\tremaining: 4.33s\n",
      "133:\tlearn: 0.1452541\ttest: 0.1382733\tbest: 0.1382733 (133)\ttotal: 2.86s\tremaining: 4.3s\n",
      "134:\tlearn: 0.1451496\ttest: 0.1383375\tbest: 0.1382733 (133)\ttotal: 2.87s\tremaining: 4.28s\n",
      "135:\tlearn: 0.1451030\ttest: 0.1383654\tbest: 0.1382733 (133)\ttotal: 2.89s\tremaining: 4.25s\n",
      "136:\tlearn: 0.1450428\ttest: 0.1384585\tbest: 0.1382733 (133)\ttotal: 2.92s\tremaining: 4.25s\n",
      "137:\tlearn: 0.1449856\ttest: 0.1384480\tbest: 0.1382733 (133)\ttotal: 2.95s\tremaining: 4.23s\n",
      "138:\tlearn: 0.1449180\ttest: 0.1383755\tbest: 0.1382733 (133)\ttotal: 2.97s\tremaining: 4.21s\n",
      "139:\tlearn: 0.1446942\ttest: 0.1382289\tbest: 0.1382289 (139)\ttotal: 3s\tremaining: 4.2s\n",
      "140:\tlearn: 0.1446442\ttest: 0.1381503\tbest: 0.1381503 (140)\ttotal: 3.03s\tremaining: 4.19s\n",
      "141:\tlearn: 0.1445836\ttest: 0.1381114\tbest: 0.1381114 (141)\ttotal: 3.05s\tremaining: 4.17s\n",
      "142:\tlearn: 0.1444475\ttest: 0.1380491\tbest: 0.1380491 (142)\ttotal: 3.08s\tremaining: 4.15s\n",
      "143:\tlearn: 0.1443457\ttest: 0.1380974\tbest: 0.1380491 (142)\ttotal: 3.1s\tremaining: 4.13s\n",
      "144:\tlearn: 0.1442032\ttest: 0.1381220\tbest: 0.1380491 (142)\ttotal: 3.13s\tremaining: 4.12s\n",
      "145:\tlearn: 0.1440859\ttest: 0.1380888\tbest: 0.1380491 (142)\ttotal: 3.15s\tremaining: 4.1s\n",
      "146:\tlearn: 0.1439903\ttest: 0.1380264\tbest: 0.1380264 (146)\ttotal: 3.17s\tremaining: 4.08s\n",
      "147:\tlearn: 0.1438742\ttest: 0.1379245\tbest: 0.1379245 (147)\ttotal: 3.19s\tremaining: 4.06s\n",
      "148:\tlearn: 0.1437634\ttest: 0.1379299\tbest: 0.1379245 (147)\ttotal: 3.22s\tremaining: 4.04s\n",
      "149:\tlearn: 0.1437048\ttest: 0.1379815\tbest: 0.1379245 (147)\ttotal: 3.25s\tremaining: 4.02s\n",
      "150:\tlearn: 0.1435595\ttest: 0.1379400\tbest: 0.1379245 (147)\ttotal: 3.27s\tremaining: 4s\n",
      "151:\tlearn: 0.1434297\ttest: 0.1378332\tbest: 0.1378332 (151)\ttotal: 3.29s\tremaining: 3.98s\n",
      "152:\tlearn: 0.1433350\ttest: 0.1377633\tbest: 0.1377633 (152)\ttotal: 3.31s\tremaining: 3.96s\n",
      "153:\tlearn: 0.1432743\ttest: 0.1377642\tbest: 0.1377633 (152)\ttotal: 3.34s\tremaining: 3.94s\n",
      "154:\tlearn: 0.1431997\ttest: 0.1377707\tbest: 0.1377633 (152)\ttotal: 3.37s\tremaining: 3.93s\n",
      "155:\tlearn: 0.1430130\ttest: 0.1377506\tbest: 0.1377506 (155)\ttotal: 3.39s\tremaining: 3.91s\n",
      "156:\tlearn: 0.1429805\ttest: 0.1377128\tbest: 0.1377128 (156)\ttotal: 3.42s\tremaining: 3.9s\n",
      "157:\tlearn: 0.1429044\ttest: 0.1377971\tbest: 0.1377128 (156)\ttotal: 3.45s\tremaining: 3.89s\n",
      "158:\tlearn: 0.1427652\ttest: 0.1377904\tbest: 0.1377128 (156)\ttotal: 3.48s\tremaining: 3.88s\n",
      "159:\tlearn: 0.1427086\ttest: 0.1378196\tbest: 0.1377128 (156)\ttotal: 3.51s\tremaining: 3.86s\n",
      "160:\tlearn: 0.1425931\ttest: 0.1378457\tbest: 0.1377128 (156)\ttotal: 3.54s\tremaining: 3.85s\n",
      "161:\tlearn: 0.1425601\ttest: 0.1378561\tbest: 0.1377128 (156)\ttotal: 3.56s\tremaining: 3.82s\n",
      "162:\tlearn: 0.1424426\ttest: 0.1378538\tbest: 0.1377128 (156)\ttotal: 3.59s\tremaining: 3.81s\n",
      "163:\tlearn: 0.1423792\ttest: 0.1378857\tbest: 0.1377128 (156)\ttotal: 3.63s\tremaining: 3.8s\n",
      "164:\tlearn: 0.1423468\ttest: 0.1378943\tbest: 0.1377128 (156)\ttotal: 3.65s\tremaining: 3.78s\n",
      "165:\tlearn: 0.1421663\ttest: 0.1376358\tbest: 0.1376358 (165)\ttotal: 3.68s\tremaining: 3.77s\n",
      "166:\tlearn: 0.1420934\ttest: 0.1376344\tbest: 0.1376344 (166)\ttotal: 3.7s\tremaining: 3.75s\n",
      "167:\tlearn: 0.1418804\ttest: 0.1376564\tbest: 0.1376344 (166)\ttotal: 3.73s\tremaining: 3.73s\n",
      "168:\tlearn: 0.1418062\ttest: 0.1376540\tbest: 0.1376344 (166)\ttotal: 3.75s\tremaining: 3.71s\n",
      "169:\tlearn: 0.1417258\ttest: 0.1376161\tbest: 0.1376161 (169)\ttotal: 3.77s\tremaining: 3.68s\n",
      "170:\tlearn: 0.1416086\ttest: 0.1376323\tbest: 0.1376161 (169)\ttotal: 3.79s\tremaining: 3.65s\n",
      "171:\tlearn: 0.1414709\ttest: 0.1376521\tbest: 0.1376161 (169)\ttotal: 3.82s\tremaining: 3.64s\n",
      "172:\tlearn: 0.1413940\ttest: 0.1376077\tbest: 0.1376077 (172)\ttotal: 3.85s\tremaining: 3.62s\n",
      "173:\tlearn: 0.1413506\ttest: 0.1375207\tbest: 0.1375207 (173)\ttotal: 3.88s\tremaining: 3.61s\n",
      "174:\tlearn: 0.1412925\ttest: 0.1374207\tbest: 0.1374207 (174)\ttotal: 3.9s\tremaining: 3.59s\n",
      "175:\tlearn: 0.1412433\ttest: 0.1374345\tbest: 0.1374207 (174)\ttotal: 3.93s\tremaining: 3.57s\n",
      "176:\tlearn: 0.1411883\ttest: 0.1373493\tbest: 0.1373493 (176)\ttotal: 3.96s\tremaining: 3.55s\n",
      "177:\tlearn: 0.1411103\ttest: 0.1373020\tbest: 0.1373020 (177)\ttotal: 3.98s\tremaining: 3.54s\n",
      "178:\tlearn: 0.1410908\ttest: 0.1372993\tbest: 0.1372993 (178)\ttotal: 4.01s\tremaining: 3.52s\n",
      "179:\tlearn: 0.1410585\ttest: 0.1372988\tbest: 0.1372988 (179)\ttotal: 4.03s\tremaining: 3.49s\n",
      "180:\tlearn: 0.1409604\ttest: 0.1373105\tbest: 0.1372988 (179)\ttotal: 4.07s\tremaining: 3.48s\n",
      "181:\tlearn: 0.1407850\ttest: 0.1371614\tbest: 0.1371614 (181)\ttotal: 4.09s\tremaining: 3.46s\n",
      "182:\tlearn: 0.1407432\ttest: 0.1371734\tbest: 0.1371614 (181)\ttotal: 4.12s\tremaining: 3.45s\n",
      "183:\tlearn: 0.1405587\ttest: 0.1372566\tbest: 0.1371614 (181)\ttotal: 4.15s\tremaining: 3.42s\n",
      "184:\tlearn: 0.1405223\ttest: 0.1372319\tbest: 0.1371614 (181)\ttotal: 4.18s\tremaining: 3.41s\n",
      "185:\tlearn: 0.1402836\ttest: 0.1372351\tbest: 0.1371614 (181)\ttotal: 4.2s\tremaining: 3.39s\n",
      "186:\tlearn: 0.1401814\ttest: 0.1371816\tbest: 0.1371614 (181)\ttotal: 4.23s\tremaining: 3.37s\n",
      "187:\tlearn: 0.1400944\ttest: 0.1372076\tbest: 0.1371614 (181)\ttotal: 4.26s\tremaining: 3.35s\n",
      "188:\tlearn: 0.1400127\ttest: 0.1371495\tbest: 0.1371495 (188)\ttotal: 4.28s\tremaining: 3.33s\n",
      "189:\tlearn: 0.1399553\ttest: 0.1371060\tbest: 0.1371060 (189)\ttotal: 4.32s\tremaining: 3.32s\n",
      "190:\tlearn: 0.1398568\ttest: 0.1370801\tbest: 0.1370801 (190)\ttotal: 4.34s\tremaining: 3.3s\n",
      "191:\tlearn: 0.1397149\ttest: 0.1370831\tbest: 0.1370801 (190)\ttotal: 4.38s\tremaining: 3.28s\n",
      "192:\tlearn: 0.1395228\ttest: 0.1371612\tbest: 0.1370801 (190)\ttotal: 4.4s\tremaining: 3.26s\n",
      "193:\tlearn: 0.1394723\ttest: 0.1371422\tbest: 0.1370801 (190)\ttotal: 4.43s\tremaining: 3.24s\n",
      "194:\tlearn: 0.1393896\ttest: 0.1371700\tbest: 0.1370801 (190)\ttotal: 4.45s\tremaining: 3.22s\n",
      "195:\tlearn: 0.1391905\ttest: 0.1371310\tbest: 0.1370801 (190)\ttotal: 4.47s\tremaining: 3.19s\n"
     ]
    },
    {
     "name": "stdout",
     "output_type": "stream",
     "text": [
      "196:\tlearn: 0.1390993\ttest: 0.1370537\tbest: 0.1370537 (196)\ttotal: 4.5s\tremaining: 3.17s\n",
      "197:\tlearn: 0.1390545\ttest: 0.1370555\tbest: 0.1370537 (196)\ttotal: 4.53s\tremaining: 3.16s\n",
      "198:\tlearn: 0.1390248\ttest: 0.1370574\tbest: 0.1370537 (196)\ttotal: 4.55s\tremaining: 3.13s\n",
      "199:\tlearn: 0.1389486\ttest: 0.1370819\tbest: 0.1370537 (196)\ttotal: 4.58s\tremaining: 3.11s\n",
      "200:\tlearn: 0.1388466\ttest: 0.1369861\tbest: 0.1369861 (200)\ttotal: 4.6s\tremaining: 3.09s\n",
      "201:\tlearn: 0.1387970\ttest: 0.1370062\tbest: 0.1369861 (200)\ttotal: 4.62s\tremaining: 3.06s\n",
      "202:\tlearn: 0.1387638\ttest: 0.1370144\tbest: 0.1369861 (200)\ttotal: 4.64s\tremaining: 3.04s\n",
      "203:\tlearn: 0.1387353\ttest: 0.1370120\tbest: 0.1369861 (200)\ttotal: 4.66s\tremaining: 3.02s\n",
      "204:\tlearn: 0.1385538\ttest: 0.1369999\tbest: 0.1369861 (200)\ttotal: 4.68s\tremaining: 2.99s\n",
      "205:\tlearn: 0.1384875\ttest: 0.1370574\tbest: 0.1369861 (200)\ttotal: 4.7s\tremaining: 2.97s\n",
      "206:\tlearn: 0.1383223\ttest: 0.1369650\tbest: 0.1369650 (206)\ttotal: 4.74s\tremaining: 2.95s\n",
      "207:\tlearn: 0.1382357\ttest: 0.1370394\tbest: 0.1369650 (206)\ttotal: 4.76s\tremaining: 2.93s\n",
      "208:\tlearn: 0.1380462\ttest: 0.1370130\tbest: 0.1369650 (206)\ttotal: 4.78s\tremaining: 2.9s\n",
      "209:\tlearn: 0.1378919\ttest: 0.1369939\tbest: 0.1369650 (206)\ttotal: 4.81s\tremaining: 2.88s\n",
      "210:\tlearn: 0.1378151\ttest: 0.1369721\tbest: 0.1369650 (206)\ttotal: 4.83s\tremaining: 2.86s\n",
      "211:\tlearn: 0.1377393\ttest: 0.1369226\tbest: 0.1369226 (211)\ttotal: 4.86s\tremaining: 2.84s\n",
      "212:\tlearn: 0.1376406\ttest: 0.1369066\tbest: 0.1369066 (212)\ttotal: 4.89s\tremaining: 2.83s\n",
      "213:\tlearn: 0.1375953\ttest: 0.1369086\tbest: 0.1369066 (212)\ttotal: 4.92s\tremaining: 2.81s\n",
      "214:\tlearn: 0.1374964\ttest: 0.1369415\tbest: 0.1369066 (212)\ttotal: 4.95s\tremaining: 2.79s\n",
      "215:\tlearn: 0.1374437\ttest: 0.1369147\tbest: 0.1369066 (212)\ttotal: 4.96s\tremaining: 2.76s\n",
      "216:\tlearn: 0.1374122\ttest: 0.1369463\tbest: 0.1369066 (212)\ttotal: 4.99s\tremaining: 2.73s\n",
      "217:\tlearn: 0.1373197\ttest: 0.1369481\tbest: 0.1369066 (212)\ttotal: 5.01s\tremaining: 2.71s\n",
      "218:\tlearn: 0.1372868\ttest: 0.1369950\tbest: 0.1369066 (212)\ttotal: 5.04s\tremaining: 2.69s\n",
      "219:\tlearn: 0.1372094\ttest: 0.1369920\tbest: 0.1369066 (212)\ttotal: 5.08s\tremaining: 2.68s\n",
      "220:\tlearn: 0.1371393\ttest: 0.1369761\tbest: 0.1369066 (212)\ttotal: 5.12s\tremaining: 2.66s\n",
      "221:\tlearn: 0.1370317\ttest: 0.1369874\tbest: 0.1369066 (212)\ttotal: 5.15s\tremaining: 2.64s\n",
      "222:\tlearn: 0.1370043\ttest: 0.1369956\tbest: 0.1369066 (212)\ttotal: 5.17s\tremaining: 2.62s\n",
      "223:\tlearn: 0.1369739\ttest: 0.1370201\tbest: 0.1369066 (212)\ttotal: 5.19s\tremaining: 2.6s\n",
      "224:\tlearn: 0.1369254\ttest: 0.1370579\tbest: 0.1369066 (212)\ttotal: 5.22s\tremaining: 2.58s\n",
      "225:\tlearn: 0.1369028\ttest: 0.1370850\tbest: 0.1369066 (212)\ttotal: 5.25s\tremaining: 2.55s\n",
      "226:\tlearn: 0.1368473\ttest: 0.1371514\tbest: 0.1369066 (212)\ttotal: 5.27s\tremaining: 2.53s\n",
      "227:\tlearn: 0.1368131\ttest: 0.1371666\tbest: 0.1369066 (212)\ttotal: 5.29s\tremaining: 2.51s\n",
      "228:\tlearn: 0.1367770\ttest: 0.1371681\tbest: 0.1369066 (212)\ttotal: 5.32s\tremaining: 2.48s\n",
      "229:\tlearn: 0.1366772\ttest: 0.1371039\tbest: 0.1369066 (212)\ttotal: 5.34s\tremaining: 2.46s\n",
      "230:\tlearn: 0.1366464\ttest: 0.1371014\tbest: 0.1369066 (212)\ttotal: 5.36s\tremaining: 2.44s\n",
      "231:\tlearn: 0.1366269\ttest: 0.1371030\tbest: 0.1369066 (212)\ttotal: 5.38s\tremaining: 2.41s\n",
      "232:\tlearn: 0.1364928\ttest: 0.1370830\tbest: 0.1369066 (212)\ttotal: 5.4s\tremaining: 2.39s\n",
      "233:\tlearn: 0.1364168\ttest: 0.1371046\tbest: 0.1369066 (212)\ttotal: 5.45s\tremaining: 2.37s\n",
      "234:\tlearn: 0.1362988\ttest: 0.1371205\tbest: 0.1369066 (212)\ttotal: 5.49s\tremaining: 2.36s\n",
      "235:\tlearn: 0.1362214\ttest: 0.1370698\tbest: 0.1369066 (212)\ttotal: 5.53s\tremaining: 2.34s\n",
      "236:\tlearn: 0.1361635\ttest: 0.1370399\tbest: 0.1369066 (212)\ttotal: 5.55s\tremaining: 2.32s\n",
      "237:\tlearn: 0.1361347\ttest: 0.1370482\tbest: 0.1369066 (212)\ttotal: 5.58s\tremaining: 2.3s\n",
      "238:\tlearn: 0.1360997\ttest: 0.1370587\tbest: 0.1369066 (212)\ttotal: 5.62s\tremaining: 2.28s\n",
      "239:\tlearn: 0.1360220\ttest: 0.1370257\tbest: 0.1369066 (212)\ttotal: 5.65s\tremaining: 2.26s\n",
      "240:\tlearn: 0.1359694\ttest: 0.1370357\tbest: 0.1369066 (212)\ttotal: 5.68s\tremaining: 2.24s\n",
      "241:\tlearn: 0.1358634\ttest: 0.1370479\tbest: 0.1369066 (212)\ttotal: 5.7s\tremaining: 2.21s\n",
      "242:\tlearn: 0.1358080\ttest: 0.1370739\tbest: 0.1369066 (212)\ttotal: 5.72s\tremaining: 2.19s\n",
      "243:\tlearn: 0.1357147\ttest: 0.1371006\tbest: 0.1369066 (212)\ttotal: 5.75s\tremaining: 2.17s\n",
      "244:\tlearn: 0.1356291\ttest: 0.1371234\tbest: 0.1369066 (212)\ttotal: 5.78s\tremaining: 2.15s\n",
      "245:\tlearn: 0.1355476\ttest: 0.1371253\tbest: 0.1369066 (212)\ttotal: 5.81s\tremaining: 2.13s\n",
      "246:\tlearn: 0.1354883\ttest: 0.1371122\tbest: 0.1369066 (212)\ttotal: 5.84s\tremaining: 2.1s\n",
      "247:\tlearn: 0.1354152\ttest: 0.1370767\tbest: 0.1369066 (212)\ttotal: 5.88s\tremaining: 2.09s\n",
      "248:\tlearn: 0.1354035\ttest: 0.1370860\tbest: 0.1369066 (212)\ttotal: 5.92s\tremaining: 2.07s\n",
      "249:\tlearn: 0.1353722\ttest: 0.1370897\tbest: 0.1369066 (212)\ttotal: 5.94s\tremaining: 2.04s\n",
      "250:\tlearn: 0.1352664\ttest: 0.1370900\tbest: 0.1369066 (212)\ttotal: 5.97s\tremaining: 2.02s\n",
      "251:\tlearn: 0.1352191\ttest: 0.1370736\tbest: 0.1369066 (212)\ttotal: 6.01s\tremaining: 2s\n",
      "252:\tlearn: 0.1351661\ttest: 0.1370876\tbest: 0.1369066 (212)\ttotal: 6.04s\tremaining: 1.98s\n",
      "253:\tlearn: 0.1350496\ttest: 0.1371478\tbest: 0.1369066 (212)\ttotal: 6.08s\tremaining: 1.96s\n",
      "254:\tlearn: 0.1349645\ttest: 0.1370405\tbest: 0.1369066 (212)\ttotal: 6.11s\tremaining: 1.94s\n",
      "255:\tlearn: 0.1349318\ttest: 0.1370462\tbest: 0.1369066 (212)\ttotal: 6.14s\tremaining: 1.92s\n",
      "256:\tlearn: 0.1347807\ttest: 0.1369195\tbest: 0.1369066 (212)\ttotal: 6.16s\tremaining: 1.89s\n",
      "257:\tlearn: 0.1346517\ttest: 0.1370024\tbest: 0.1369066 (212)\ttotal: 6.19s\tremaining: 1.87s\n",
      "258:\tlearn: 0.1345309\ttest: 0.1369627\tbest: 0.1369066 (212)\ttotal: 6.22s\tremaining: 1.85s\n",
      "259:\tlearn: 0.1344816\ttest: 0.1369590\tbest: 0.1369066 (212)\ttotal: 6.25s\tremaining: 1.83s\n",
      "260:\tlearn: 0.1343916\ttest: 0.1369579\tbest: 0.1369066 (212)\ttotal: 6.28s\tremaining: 1.8s\n",
      "261:\tlearn: 0.1343348\ttest: 0.1370408\tbest: 0.1369066 (212)\ttotal: 6.31s\tremaining: 1.78s\n",
      "262:\tlearn: 0.1342615\ttest: 0.1370226\tbest: 0.1369066 (212)\ttotal: 6.33s\tremaining: 1.76s\n",
      "263:\tlearn: 0.1342340\ttest: 0.1370659\tbest: 0.1369066 (212)\ttotal: 6.35s\tremaining: 1.73s\n",
      "264:\tlearn: 0.1341580\ttest: 0.1370340\tbest: 0.1369066 (212)\ttotal: 6.37s\tremaining: 1.71s\n",
      "265:\tlearn: 0.1341313\ttest: 0.1370518\tbest: 0.1369066 (212)\ttotal: 6.4s\tremaining: 1.68s\n",
      "266:\tlearn: 0.1340391\ttest: 0.1370423\tbest: 0.1369066 (212)\ttotal: 6.42s\tremaining: 1.66s\n",
      "267:\tlearn: 0.1339627\ttest: 0.1370131\tbest: 0.1369066 (212)\ttotal: 6.45s\tremaining: 1.64s\n",
      "268:\tlearn: 0.1339374\ttest: 0.1370145\tbest: 0.1369066 (212)\ttotal: 6.47s\tremaining: 1.61s\n",
      "269:\tlearn: 0.1337173\ttest: 0.1370112\tbest: 0.1369066 (212)\ttotal: 6.5s\tremaining: 1.59s\n",
      "270:\tlearn: 0.1336232\ttest: 0.1369974\tbest: 0.1369066 (212)\ttotal: 6.52s\tremaining: 1.56s\n",
      "271:\tlearn: 0.1335177\ttest: 0.1369995\tbest: 0.1369066 (212)\ttotal: 6.54s\tremaining: 1.54s\n",
      "272:\tlearn: 0.1334074\ttest: 0.1370281\tbest: 0.1369066 (212)\ttotal: 6.56s\tremaining: 1.51s\n",
      "273:\tlearn: 0.1332866\ttest: 0.1370062\tbest: 0.1369066 (212)\ttotal: 6.58s\tremaining: 1.49s\n",
      "274:\tlearn: 0.1332125\ttest: 0.1370593\tbest: 0.1369066 (212)\ttotal: 6.61s\tremaining: 1.47s\n",
      "275:\tlearn: 0.1331812\ttest: 0.1371581\tbest: 0.1369066 (212)\ttotal: 6.63s\tremaining: 1.44s\n",
      "276:\tlearn: 0.1331601\ttest: 0.1371531\tbest: 0.1369066 (212)\ttotal: 6.66s\tremaining: 1.42s\n",
      "277:\tlearn: 0.1330825\ttest: 0.1370783\tbest: 0.1369066 (212)\ttotal: 6.68s\tremaining: 1.39s\n",
      "278:\tlearn: 0.1329788\ttest: 0.1370762\tbest: 0.1369066 (212)\ttotal: 6.71s\tremaining: 1.37s\n",
      "279:\tlearn: 0.1329559\ttest: 0.1370611\tbest: 0.1369066 (212)\ttotal: 6.73s\tremaining: 1.35s\n",
      "280:\tlearn: 0.1328608\ttest: 0.1370336\tbest: 0.1369066 (212)\ttotal: 6.75s\tremaining: 1.32s\n",
      "281:\tlearn: 0.1328261\ttest: 0.1370430\tbest: 0.1369066 (212)\ttotal: 6.77s\tremaining: 1.3s\n",
      "282:\tlearn: 0.1326718\ttest: 0.1369799\tbest: 0.1369066 (212)\ttotal: 6.8s\tremaining: 1.27s\n",
      "283:\tlearn: 0.1325842\ttest: 0.1369769\tbest: 0.1369066 (212)\ttotal: 6.82s\tremaining: 1.25s\n",
      "284:\tlearn: 0.1323222\ttest: 0.1369095\tbest: 0.1369066 (212)\ttotal: 6.85s\tremaining: 1.23s\n",
      "285:\tlearn: 0.1322286\ttest: 0.1368882\tbest: 0.1368882 (285)\ttotal: 6.87s\tremaining: 1.2s\n",
      "286:\tlearn: 0.1321869\ttest: 0.1369300\tbest: 0.1368882 (285)\ttotal: 6.89s\tremaining: 1.18s\n",
      "287:\tlearn: 0.1321162\ttest: 0.1368567\tbest: 0.1368567 (287)\ttotal: 6.91s\tremaining: 1.15s\n",
      "288:\tlearn: 0.1320489\ttest: 0.1367932\tbest: 0.1367932 (288)\ttotal: 6.94s\tremaining: 1.13s\n",
      "289:\tlearn: 0.1320083\ttest: 0.1368163\tbest: 0.1367932 (288)\ttotal: 6.96s\tremaining: 1.1s\n",
      "290:\tlearn: 0.1319122\ttest: 0.1368130\tbest: 0.1367932 (288)\ttotal: 6.98s\tremaining: 1.08s\n",
      "291:\tlearn: 0.1318557\ttest: 0.1367686\tbest: 0.1367686 (291)\ttotal: 7s\tremaining: 1.05s\n",
      "292:\tlearn: 0.1317470\ttest: 0.1367712\tbest: 0.1367686 (291)\ttotal: 7.02s\tremaining: 1.03s\n"
     ]
    },
    {
     "name": "stdout",
     "output_type": "stream",
     "text": [
      "293:\tlearn: 0.1316983\ttest: 0.1367732\tbest: 0.1367686 (291)\ttotal: 7.05s\tremaining: 1.01s\n",
      "294:\tlearn: 0.1316490\ttest: 0.1367839\tbest: 0.1367686 (291)\ttotal: 7.07s\tremaining: 983ms\n",
      "295:\tlearn: 0.1314930\ttest: 0.1367331\tbest: 0.1367331 (295)\ttotal: 7.09s\tremaining: 959ms\n",
      "296:\tlearn: 0.1314443\ttest: 0.1366755\tbest: 0.1366755 (296)\ttotal: 7.12s\tremaining: 935ms\n",
      "297:\tlearn: 0.1313196\ttest: 0.1366956\tbest: 0.1366755 (296)\ttotal: 7.14s\tremaining: 911ms\n",
      "298:\tlearn: 0.1312846\ttest: 0.1366834\tbest: 0.1366755 (296)\ttotal: 7.17s\tremaining: 887ms\n",
      "299:\tlearn: 0.1312586\ttest: 0.1366889\tbest: 0.1366755 (296)\ttotal: 7.19s\tremaining: 863ms\n",
      "300:\tlearn: 0.1311799\ttest: 0.1366691\tbest: 0.1366691 (300)\ttotal: 7.21s\tremaining: 839ms\n",
      "301:\tlearn: 0.1311227\ttest: 0.1366403\tbest: 0.1366403 (301)\ttotal: 7.24s\tremaining: 815ms\n",
      "302:\tlearn: 0.1310610\ttest: 0.1366304\tbest: 0.1366304 (302)\ttotal: 7.26s\tremaining: 791ms\n",
      "303:\tlearn: 0.1310242\ttest: 0.1366884\tbest: 0.1366304 (302)\ttotal: 7.29s\tremaining: 767ms\n",
      "304:\tlearn: 0.1309808\ttest: 0.1366833\tbest: 0.1366304 (302)\ttotal: 7.31s\tremaining: 743ms\n",
      "305:\tlearn: 0.1309474\ttest: 0.1367086\tbest: 0.1366304 (302)\ttotal: 7.33s\tremaining: 719ms\n",
      "306:\tlearn: 0.1307697\ttest: 0.1367301\tbest: 0.1366304 (302)\ttotal: 7.36s\tremaining: 695ms\n",
      "307:\tlearn: 0.1307171\ttest: 0.1367451\tbest: 0.1366304 (302)\ttotal: 7.38s\tremaining: 671ms\n",
      "308:\tlearn: 0.1306874\ttest: 0.1367661\tbest: 0.1366304 (302)\ttotal: 7.41s\tremaining: 647ms\n",
      "309:\tlearn: 0.1306746\ttest: 0.1367894\tbest: 0.1366304 (302)\ttotal: 7.43s\tremaining: 623ms\n",
      "310:\tlearn: 0.1305544\ttest: 0.1367383\tbest: 0.1366304 (302)\ttotal: 7.45s\tremaining: 599ms\n",
      "311:\tlearn: 0.1304837\ttest: 0.1367672\tbest: 0.1366304 (302)\ttotal: 7.47s\tremaining: 575ms\n",
      "312:\tlearn: 0.1303648\ttest: 0.1367508\tbest: 0.1366304 (302)\ttotal: 7.5s\tremaining: 551ms\n",
      "313:\tlearn: 0.1303166\ttest: 0.1368256\tbest: 0.1366304 (302)\ttotal: 7.52s\tremaining: 527ms\n",
      "314:\tlearn: 0.1302924\ttest: 0.1368039\tbest: 0.1366304 (302)\ttotal: 7.54s\tremaining: 503ms\n",
      "315:\tlearn: 0.1301972\ttest: 0.1367390\tbest: 0.1366304 (302)\ttotal: 7.57s\tremaining: 479ms\n",
      "316:\tlearn: 0.1301177\ttest: 0.1367172\tbest: 0.1366304 (302)\ttotal: 7.59s\tremaining: 455ms\n",
      "317:\tlearn: 0.1300515\ttest: 0.1367038\tbest: 0.1366304 (302)\ttotal: 7.61s\tremaining: 431ms\n",
      "318:\tlearn: 0.1299736\ttest: 0.1366997\tbest: 0.1366304 (302)\ttotal: 7.63s\tremaining: 407ms\n",
      "319:\tlearn: 0.1298697\ttest: 0.1367064\tbest: 0.1366304 (302)\ttotal: 7.66s\tremaining: 383ms\n",
      "320:\tlearn: 0.1298001\ttest: 0.1367099\tbest: 0.1366304 (302)\ttotal: 7.69s\tremaining: 359ms\n",
      "321:\tlearn: 0.1297001\ttest: 0.1365954\tbest: 0.1365954 (321)\ttotal: 7.71s\tremaining: 335ms\n",
      "322:\tlearn: 0.1295707\ttest: 0.1364642\tbest: 0.1364642 (322)\ttotal: 7.74s\tremaining: 311ms\n",
      "323:\tlearn: 0.1295705\ttest: 0.1364642\tbest: 0.1364642 (323)\ttotal: 7.76s\tremaining: 287ms\n",
      "324:\tlearn: 0.1295268\ttest: 0.1364796\tbest: 0.1364642 (323)\ttotal: 7.78s\tremaining: 263ms\n",
      "325:\tlearn: 0.1294503\ttest: 0.1364378\tbest: 0.1364378 (325)\ttotal: 7.81s\tremaining: 240ms\n",
      "326:\tlearn: 0.1293240\ttest: 0.1364185\tbest: 0.1364185 (326)\ttotal: 7.83s\tremaining: 216ms\n",
      "327:\tlearn: 0.1292721\ttest: 0.1364014\tbest: 0.1364014 (327)\ttotal: 7.86s\tremaining: 192ms\n",
      "328:\tlearn: 0.1291573\ttest: 0.1364199\tbest: 0.1364014 (327)\ttotal: 7.88s\tremaining: 168ms\n",
      "329:\tlearn: 0.1290646\ttest: 0.1364547\tbest: 0.1364014 (327)\ttotal: 7.9s\tremaining: 144ms\n",
      "330:\tlearn: 0.1288602\ttest: 0.1363960\tbest: 0.1363960 (330)\ttotal: 7.93s\tremaining: 120ms\n",
      "331:\tlearn: 0.1288241\ttest: 0.1364207\tbest: 0.1363960 (330)\ttotal: 7.96s\tremaining: 95.9ms\n",
      "332:\tlearn: 0.1287580\ttest: 0.1364685\tbest: 0.1363960 (330)\ttotal: 7.98s\tremaining: 71.9ms\n",
      "333:\tlearn: 0.1286694\ttest: 0.1364641\tbest: 0.1363960 (330)\ttotal: 8s\tremaining: 47.9ms\n",
      "334:\tlearn: 0.1286351\ttest: 0.1364104\tbest: 0.1363960 (330)\ttotal: 8.02s\tremaining: 23.9ms\n",
      "335:\tlearn: 0.1285135\ttest: 0.1363324\tbest: 0.1363324 (335)\ttotal: 8.04s\tremaining: 0us\n",
      "\n",
      "bestTest = 0.136332436\n",
      "bestIteration = 335\n",
      "\n",
      "Model is fitted: True\n",
      "Model params:\n",
      "{'iterations': 336, 'learning_rate': 0.1}\n"
     ]
    }
   ],
   "source": [
    "from catboost import CatBoostClassifier\n",
    "model = CatBoostClassifier(\n",
    "    iterations=336,\n",
    "    learning_rate=0.1,\n",
    "    #loss_function='CrossEntropy'\n",
    ")\n",
    "model.fit(\n",
    "    X_train, y_train,\n",
    "    cat_features=cat_features,\n",
    "    eval_set=(X_validation, y_validation),\n",
    "    verbose=True\n",
    ")\n",
    "print('Model is fitted: ' + str(model.is_fitted()))\n",
    "print('Model params:')\n",
    "print(model.get_params())"
   ]
  },
  {
   "cell_type": "markdown",
   "metadata": {
    "id": "ZzrnZlaS5OfP"
   },
   "source": [
    "#### <b> Stdout of the Training </b>\n",
    "Stdout displays output directly to the screen console.\n",
    "Output can take any form.\n",
    "It can be output from a print statement, an expression statement, or even a direct prompt.\n"
   ]
  },
  {
   "cell_type": "code",
   "execution_count": null,
   "metadata": {
    "id": "BlkrU9zN5OfQ",
    "outputId": "07632a8e-ee88-4db0-e8e7-a782dac1b610"
   },
   "outputs": [
    {
     "name": "stdout",
     "output_type": "stream",
     "text": [
      "Learning rate set to 0.441257\n",
      "0:\tlearn: 0.4220777\ttest: 0.4223741\tbest: 0.4223741 (0)\ttotal: 10.2ms\tremaining: 143ms\n",
      "1:\tlearn: 0.3149660\ttest: 0.3151186\tbest: 0.3151186 (1)\ttotal: 21.6ms\tremaining: 141ms\n",
      "2:\tlearn: 0.2621494\ttest: 0.2629766\tbest: 0.2629766 (2)\ttotal: 30.6ms\tremaining: 123ms\n",
      "3:\tlearn: 0.2302316\ttest: 0.2302315\tbest: 0.2302315 (3)\ttotal: 41.5ms\tremaining: 114ms\n",
      "4:\tlearn: 0.2060274\ttest: 0.2019603\tbest: 0.2019603 (4)\ttotal: 50.6ms\tremaining: 101ms\n",
      "5:\tlearn: 0.1956107\ttest: 0.1894627\tbest: 0.1894627 (5)\ttotal: 59.3ms\tremaining: 89ms\n",
      "6:\tlearn: 0.1870345\ttest: 0.1790904\tbest: 0.1790904 (6)\ttotal: 69.2ms\tremaining: 79.1ms\n",
      "7:\tlearn: 0.1836943\ttest: 0.1748030\tbest: 0.1748030 (7)\ttotal: 78.1ms\tremaining: 68.3ms\n",
      "8:\tlearn: 0.1807119\ttest: 0.1707896\tbest: 0.1707896 (8)\ttotal: 86.5ms\tremaining: 57.7ms\n",
      "9:\tlearn: 0.1775777\ttest: 0.1662489\tbest: 0.1662489 (9)\ttotal: 96ms\tremaining: 48ms\n",
      "10:\tlearn: 0.1762130\ttest: 0.1654446\tbest: 0.1654446 (10)\ttotal: 105ms\tremaining: 38.1ms\n",
      "11:\tlearn: 0.1760650\ttest: 0.1653191\tbest: 0.1653191 (11)\ttotal: 109ms\tremaining: 27.3ms\n",
      "12:\tlearn: 0.1748232\ttest: 0.1642093\tbest: 0.1642093 (12)\ttotal: 118ms\tremaining: 18.1ms\n",
      "13:\tlearn: 0.1742028\ttest: 0.1638902\tbest: 0.1638902 (13)\ttotal: 127ms\tremaining: 9.05ms\n",
      "14:\tlearn: 0.1733966\ttest: 0.1627237\tbest: 0.1627237 (14)\ttotal: 135ms\tremaining: 0us\n",
      "\n",
      "bestTest = 0.162723674\n",
      "bestIteration = 14\n",
      "\n"
     ]
    },
    {
     "data": {
      "text/plain": [
       "<catboost.core.CatBoostClassifier at 0x7f8d887807d0>"
      ]
     },
     "execution_count": 21,
     "metadata": {},
     "output_type": "execute_result"
    }
   ],
   "source": [
    "from catboost import CatBoostClassifier\n",
    "model = CatBoostClassifier(\n",
    "    iterations=15,\n",
    "#     verbose=5,\n",
    ")\n",
    "model.fit(\n",
    "    X_train, y_train,\n",
    "    cat_features=cat_features,\n",
    "    eval_set=(X_validation, y_validation),\n",
    ")"
   ]
  },
  {
   "cell_type": "markdown",
   "metadata": {
    "id": "zRUBDxgk5OfX"
   },
   "source": [
    "#### <b> Metric Calculation and Graph Plotting </b>"
   ]
  },
  {
   "cell_type": "markdown",
   "metadata": {
    "id": "bxX9-FWZShpZ"
   },
   "source": [
    "Let us perform metric calculation and graph plotting by importing the **CatBoostClassifier**."
   ]
  },
  {
   "cell_type": "code",
   "execution_count": 41,
   "metadata": {},
   "outputs": [
    {
     "name": "stdout",
     "output_type": "stream",
     "text": [
      "Requirement already satisfied: ipywidgets in /usr/local/lib/python3.10/site-packages (8.0.2)\n",
      "Requirement already satisfied: ipykernel>=4.5.1 in /usr/local/lib/python3.10/site-packages (from ipywidgets) (6.16.2)\n",
      "Requirement already satisfied: traitlets>=4.3.1 in /usr/local/lib/python3.10/site-packages (from ipywidgets) (5.5.0)\n",
      "Requirement already satisfied: ipython>=6.1.0 in /usr/local/lib/python3.10/site-packages (from ipywidgets) (8.5.0)\n",
      "Requirement already satisfied: widgetsnbextension~=4.0 in /usr/local/lib/python3.10/site-packages (from ipywidgets) (4.0.3)\n",
      "Requirement already satisfied: jupyterlab-widgets~=3.0 in /usr/local/lib/python3.10/site-packages (from ipywidgets) (3.0.3)\n",
      "Requirement already satisfied: tornado>=6.1 in /usr/local/lib/python3.10/site-packages (from ipykernel>=4.5.1->ipywidgets) (6.2)\n",
      "Requirement already satisfied: nest-asyncio in /usr/local/lib/python3.10/site-packages (from ipykernel>=4.5.1->ipywidgets) (1.5.6)\n",
      "Requirement already satisfied: appnope in /usr/local/lib/python3.10/site-packages (from ipykernel>=4.5.1->ipywidgets) (0.1.3)\n",
      "Requirement already satisfied: debugpy>=1.0 in /usr/local/lib/python3.10/site-packages (from ipykernel>=4.5.1->ipywidgets) (1.6.3)\n",
      "Requirement already satisfied: packaging in /usr/local/lib/python3.10/site-packages (from ipykernel>=4.5.1->ipywidgets) (21.3)\n",
      "Requirement already satisfied: pyzmq>=17 in /usr/local/lib/python3.10/site-packages (from ipykernel>=4.5.1->ipywidgets) (24.0.1)\n",
      "Requirement already satisfied: jupyter-client>=6.1.12 in /usr/local/lib/python3.10/site-packages (from ipykernel>=4.5.1->ipywidgets) (7.4.4)\n",
      "Requirement already satisfied: matplotlib-inline>=0.1 in /usr/local/lib/python3.10/site-packages (from ipykernel>=4.5.1->ipywidgets) (0.1.6)\n",
      "Requirement already satisfied: psutil in /usr/local/lib/python3.10/site-packages (from ipykernel>=4.5.1->ipywidgets) (5.9.3)\n",
      "Requirement already satisfied: decorator in /usr/local/lib/python3.10/site-packages (from ipython>=6.1.0->ipywidgets) (5.1.1)\n",
      "Requirement already satisfied: jedi>=0.16 in /usr/local/lib/python3.10/site-packages (from ipython>=6.1.0->ipywidgets) (0.18.1)\n",
      "Requirement already satisfied: stack-data in /usr/local/lib/python3.10/site-packages (from ipython>=6.1.0->ipywidgets) (0.5.1)\n",
      "Requirement already satisfied: backcall in /usr/local/lib/python3.10/site-packages (from ipython>=6.1.0->ipywidgets) (0.2.0)\n",
      "Requirement already satisfied: pickleshare in /usr/local/lib/python3.10/site-packages (from ipython>=6.1.0->ipywidgets) (0.7.5)\n",
      "Requirement already satisfied: pygments>=2.4.0 in /usr/local/lib/python3.10/site-packages (from ipython>=6.1.0->ipywidgets) (2.13.0)\n",
      "Requirement already satisfied: pexpect>4.3 in /usr/local/lib/python3.10/site-packages (from ipython>=6.1.0->ipywidgets) (4.8.0)\n",
      "Requirement already satisfied: prompt-toolkit<3.1.0,>3.0.1 in /usr/local/lib/python3.10/site-packages (from ipython>=6.1.0->ipywidgets) (3.0.31)\n",
      "Requirement already satisfied: parso<0.9.0,>=0.8.0 in /usr/local/lib/python3.10/site-packages (from jedi>=0.16->ipython>=6.1.0->ipywidgets) (0.8.3)\n",
      "Requirement already satisfied: python-dateutil>=2.8.2 in /usr/local/lib/python3.10/site-packages (from jupyter-client>=6.1.12->ipykernel>=4.5.1->ipywidgets) (2.8.2)\n",
      "Requirement already satisfied: jupyter-core>=4.9.2 in /usr/local/lib/python3.10/site-packages (from jupyter-client>=6.1.12->ipykernel>=4.5.1->ipywidgets) (4.11.2)\n",
      "Requirement already satisfied: entrypoints in /usr/local/lib/python3.10/site-packages (from jupyter-client>=6.1.12->ipykernel>=4.5.1->ipywidgets) (0.4)\n",
      "Requirement already satisfied: ptyprocess>=0.5 in /usr/local/lib/python3.10/site-packages (from pexpect>4.3->ipython>=6.1.0->ipywidgets) (0.7.0)\n",
      "Requirement already satisfied: wcwidth in /usr/local/lib/python3.10/site-packages (from prompt-toolkit<3.1.0,>3.0.1->ipython>=6.1.0->ipywidgets) (0.2.5)\n",
      "Requirement already satisfied: pyparsing!=3.0.5,>=2.0.2 in /usr/local/lib/python3.10/site-packages (from packaging->ipykernel>=4.5.1->ipywidgets) (3.0.9)\n",
      "Requirement already satisfied: asttokens in /usr/local/lib/python3.10/site-packages (from stack-data->ipython>=6.1.0->ipywidgets) (2.0.8)\n",
      "Requirement already satisfied: executing in /usr/local/lib/python3.10/site-packages (from stack-data->ipython>=6.1.0->ipywidgets) (1.1.1)\n",
      "Requirement already satisfied: pure-eval in /usr/local/lib/python3.10/site-packages (from stack-data->ipython>=6.1.0->ipywidgets) (0.2.2)\n",
      "Requirement already satisfied: six>=1.5 in /usr/local/lib/python3.10/site-packages (from python-dateutil>=2.8.2->jupyter-client>=6.1.12->ipykernel>=4.5.1->ipywidgets) (1.16.0)\n"
     ]
    }
   ],
   "source": [
    "!pip3 install ipywidgets"
   ]
  },
  {
   "cell_type": "code",
   "execution_count": 36,
   "metadata": {},
   "outputs": [
    {
     "name": "stdout",
     "output_type": "stream",
     "text": [
      "Enabling notebook extension jupyter-js-widgets/extension...\r\n",
      "      - Validating: \u001b[32mOK\u001b[0m\r\n"
     ]
    }
   ],
   "source": [
    "!jupyter nbextension enable --py widgetsnbextension"
   ]
  },
  {
   "cell_type": "code",
   "execution_count": 42,
   "metadata": {
    "colab": {
     "referenced_widgets": [
      "e62d7e59b8e54eb984d9ff6952a21d36",
      "d4a874c1c53a4e838f4c23ac98f85d24"
     ]
    },
    "id": "nq9gp0YE5OfY",
    "outputId": "eca40a54-b8ce-4e6c-8b5f-508305047eb5"
   },
   "outputs": [
    {
     "data": {
      "application/vnd.jupyter.widget-view+json": {
       "model_id": "c38177b68bc044f39c29200fb166d82e",
       "version_major": 2,
       "version_minor": 0
      },
      "text/plain": [
       "MetricVisualizer(layout=Layout(align_self='stretch', height='500px'))"
      ]
     },
     "metadata": {},
     "output_type": "display_data"
    },
    {
     "data": {
      "text/plain": [
       "<catboost.core.CatBoostClassifier at 0x132cae3e0>"
      ]
     },
     "execution_count": 42,
     "metadata": {},
     "output_type": "execute_result"
    }
   ],
   "source": [
    "from catboost import CatBoostClassifier\n",
    "model = CatBoostClassifier(\n",
    "    iterations=50,\n",
    "    random_seed=63,\n",
    "    learning_rate=0.5,\n",
    "    custom_loss=['AUC', 'Accuracy']\n",
    ")\n",
    "model.fit(\n",
    "    X_train, y_train,\n",
    "    cat_features=cat_features,\n",
    "    eval_set=(X_validation, y_validation),\n",
    "    verbose=False,\n",
    "    plot=True\n",
    ")"
   ]
  },
  {
   "cell_type": "markdown",
   "metadata": {
    "id": "DemIlngc5Ofd"
   },
   "source": [
    "#### <b> Model Comparison </b>"
   ]
  },
  {
   "cell_type": "markdown",
   "metadata": {
    "id": "qfLm729MShpZ"
   },
   "source": [
    "Let us compare the models."
   ]
  },
  {
   "cell_type": "code",
   "execution_count": 34,
   "metadata": {
    "id": "oC9hegPs5Ofe",
    "outputId": "73bbe9cf-efba-4020-ebd2-a6fd8fff56d5"
   },
   "outputs": [
    {
     "data": {
      "text/plain": [
       "<catboost.core.CatBoostClassifier at 0x12f6bf4c0>"
      ]
     },
     "execution_count": 34,
     "metadata": {},
     "output_type": "execute_result"
    }
   ],
   "source": [
    "model1 = CatBoostClassifier(\n",
    "    learning_rate=0.7,\n",
    "    iterations=100,\n",
    "    random_seed=0,\n",
    "    train_dir='learing_rate_0.7'\n",
    ")\n",
    "\n",
    "model2 = CatBoostClassifier(\n",
    "    learning_rate=0.01,\n",
    "    iterations=100,\n",
    "    random_seed=0,\n",
    "    train_dir='learing_rate_0.01'\n",
    ")\n",
    "model1.fit(\n",
    "    X_train, y_train,\n",
    "    eval_set=(X_validation, y_validation),\n",
    "    cat_features=cat_features,\n",
    "    verbose=False\n",
    ")\n",
    "model2.fit(\n",
    "    X_train, y_train,\n",
    "    eval_set=(X_validation, y_validation),\n",
    "    cat_features=cat_features,\n",
    "    verbose=False\n",
    ")"
   ]
  },
  {
   "cell_type": "code",
   "execution_count": 43,
   "metadata": {},
   "outputs": [
    {
     "data": {
      "application/vnd.jupyter.widget-view+json": {
       "model_id": "45dcf8789c1843dfbcead29b4f3e04ff",
       "version_major": 2,
       "version_minor": 0
      },
      "text/plain": [
       "MetricVisualizer(layout=Layout(align_self='stretch', height='500px'))"
      ]
     },
     "metadata": {},
     "output_type": "display_data"
    }
   ],
   "source": [
    "model1.compare(model2,data=Pool(X_validation,y_validation,cat_features),metrics=['Logloss','Accuracy'])"
   ]
  },
  {
   "cell_type": "code",
   "execution_count": 44,
   "metadata": {
    "colab": {
     "referenced_widgets": [
      "b8aacfcf2d224c00b22a31bee8287cf0",
      "82f6f10a397b468f8acb7e26d289ed49"
     ]
    },
    "id": "_eFSknNm5Ofi",
    "outputId": "2f4d1802-1b08-46ac-d59f-571e7c1cee1e"
   },
   "outputs": [
    {
     "data": {
      "application/vnd.jupyter.widget-view+json": {
       "model_id": "72bafb0debd44999827fce19ea432fcd",
       "version_major": 2,
       "version_minor": 0
      },
      "text/plain": [
       "MetricVisualizer(layout=Layout(align_self='stretch', height='500px'))"
      ]
     },
     "metadata": {},
     "output_type": "display_data"
    }
   ],
   "source": [
    "from catboost import MetricVisualizer\n",
    "MetricVisualizer(['learing_rate_0.01', 'learing_rate_0.7']).start()"
   ]
  },
  {
   "cell_type": "markdown",
   "metadata": {
    "id": "bbW98AMw5Ofm"
   },
   "source": [
    "#### <b> Best Iteration </b>"
   ]
  },
  {
   "cell_type": "code",
   "execution_count": 45,
   "metadata": {
    "colab": {
     "referenced_widgets": [
      "91d7354aa35844bfab82f40bf08d2fc0",
      "a0a59673a8cb47ec95ee513789c0a61c"
     ]
    },
    "id": "ZkfYD0ht5Ofn",
    "outputId": "cc6148f2-a825-4e54-cec0-09f1374ec479"
   },
   "outputs": [
    {
     "data": {
      "application/vnd.jupyter.widget-view+json": {
       "model_id": "6328dd2dc85c44dbb75b03ade9076450",
       "version_major": 2,
       "version_minor": 0
      },
      "text/plain": [
       "MetricVisualizer(layout=Layout(align_self='stretch', height='500px'))"
      ]
     },
     "metadata": {},
     "output_type": "display_data"
    },
    {
     "data": {
      "text/plain": [
       "<catboost.core.CatBoostClassifier at 0x132cae4d0>"
      ]
     },
     "execution_count": 45,
     "metadata": {},
     "output_type": "execute_result"
    }
   ],
   "source": [
    "#Performing best iteration\n",
    "from catboost import CatBoostClassifier\n",
    "model = CatBoostClassifier(\n",
    "    iterations=100,\n",
    "    random_seed=63,\n",
    "    learning_rate=0.5,\n",
    "#use_best_model=False\n",
    ")\n",
    "model.fit(\n",
    "    X_train, y_train,\n",
    "    cat_features=cat_features,\n",
    "    eval_set=(X_validation, y_validation),\n",
    "    verbose=False,\n",
    "    plot=True\n",
    ")"
   ]
  },
  {
   "cell_type": "code",
   "execution_count": 46,
   "metadata": {
    "id": "mPJ8Uy7o5Ofs",
    "outputId": "81d939e9-cd36-4511-b750-c9397b3a86ea"
   },
   "outputs": [
    {
     "name": "stdout",
     "output_type": "stream",
     "text": [
      "Tree count: 82\n"
     ]
    }
   ],
   "source": [
    "print('Tree count: ' + str(model.tree_count_))"
   ]
  },
  {
   "cell_type": "markdown",
   "metadata": {
    "id": "RcUeZopH5Ofw"
   },
   "source": [
    "#### <b> Cross-Validation </b>"
   ]
  },
  {
   "cell_type": "markdown",
   "metadata": {
    "id": "DX_ow3UNNklj"
   },
   "source": [
    "Cross-validation is a technique which involves reserving a particular sample of a dataset on which you do not train the model.\n",
    "CatBoost allows to perform cross-validation on the given dataset."
   ]
  },
  {
   "cell_type": "code",
   "execution_count": 48,
   "metadata": {
    "colab": {
     "referenced_widgets": [
      "76bc366fdb7c40ac9c95a1210ff894de",
      "3ff3b0e279cd4b399718e8947d61ceb1"
     ]
    },
    "id": "YpzDR3Qn5Ofx",
    "outputId": "75a3060f-94ab-404c-9a6f-0d70acfc0f09"
   },
   "outputs": [
    {
     "name": "stdout",
     "output_type": "stream",
     "text": [
      "Training on fold [0/5]\n",
      "\n",
      "bestTest = 0.1695893693\n",
      "bestIteration = 38\n",
      "\n",
      "Training on fold [1/5]\n",
      "\n",
      "bestTest = 0.164632916\n",
      "bestIteration = 48\n",
      "\n",
      "Training on fold [2/5]\n",
      "\n",
      "bestTest = 0.1515742763\n",
      "bestIteration = 60\n",
      "\n",
      "Training on fold [3/5]\n",
      "\n",
      "bestTest = 0.1426916182\n",
      "bestIteration = 78\n",
      "\n",
      "Training on fold [4/5]\n",
      "\n",
      "bestTest = 0.1563234371\n",
      "bestIteration = 37\n",
      "\n"
     ]
    }
   ],
   "source": [
    "#Performing cross-validation\n",
    "from catboost import cv\n",
    "\n",
    "params = {}\n",
    "params['loss_function'] = 'Logloss'\n",
    "params['iterations'] = 80\n",
    "params['custom_loss'] = 'AUC'\n",
    "params['random_seed'] = 63\n",
    "params['learning_rate'] = 0.5\n",
    "\n",
    "cv_data = cv(\n",
    "    params = params,\n",
    "    pool = Pool(X, label=y, cat_features=cat_features),\n",
    "    fold_count=5,\n",
    "    shuffle=True,\n",
    "    partition_random_seed=0,\n",
    "#     plot=True,\n",
    "    stratified=False,\n",
    "    verbose=False\n",
    ")"
   ]
  },
  {
   "cell_type": "code",
   "execution_count": 49,
   "metadata": {
    "id": "7bZHjNBk5Of2",
    "outputId": "6977177c-3046-466c-8a46-d01c1331f404"
   },
   "outputs": [
    {
     "data": {
      "text/html": [
       "<div>\n",
       "<style scoped>\n",
       "    .dataframe tbody tr th:only-of-type {\n",
       "        vertical-align: middle;\n",
       "    }\n",
       "\n",
       "    .dataframe tbody tr th {\n",
       "        vertical-align: top;\n",
       "    }\n",
       "\n",
       "    .dataframe thead th {\n",
       "        text-align: right;\n",
       "    }\n",
       "</style>\n",
       "<table border=\"1\" class=\"dataframe\">\n",
       "  <thead>\n",
       "    <tr style=\"text-align: right;\">\n",
       "      <th></th>\n",
       "      <th>iterations</th>\n",
       "      <th>test-Logloss-mean</th>\n",
       "      <th>test-Logloss-std</th>\n",
       "      <th>train-Logloss-mean</th>\n",
       "      <th>train-Logloss-std</th>\n",
       "      <th>test-AUC-mean</th>\n",
       "      <th>test-AUC-std</th>\n",
       "    </tr>\n",
       "  </thead>\n",
       "  <tbody>\n",
       "    <tr>\n",
       "      <th>0</th>\n",
       "      <td>0</td>\n",
       "      <td>0.302367</td>\n",
       "      <td>0.004317</td>\n",
       "      <td>0.302196</td>\n",
       "      <td>0.004517</td>\n",
       "      <td>0.513577</td>\n",
       "      <td>0.030360</td>\n",
       "    </tr>\n",
       "    <tr>\n",
       "      <th>1</th>\n",
       "      <td>1</td>\n",
       "      <td>0.227370</td>\n",
       "      <td>0.007679</td>\n",
       "      <td>0.228497</td>\n",
       "      <td>0.005126</td>\n",
       "      <td>0.642263</td>\n",
       "      <td>0.048004</td>\n",
       "    </tr>\n",
       "    <tr>\n",
       "      <th>2</th>\n",
       "      <td>2</td>\n",
       "      <td>0.190856</td>\n",
       "      <td>0.006917</td>\n",
       "      <td>0.196796</td>\n",
       "      <td>0.003999</td>\n",
       "      <td>0.791709</td>\n",
       "      <td>0.011361</td>\n",
       "    </tr>\n",
       "    <tr>\n",
       "      <th>3</th>\n",
       "      <td>3</td>\n",
       "      <td>0.178884</td>\n",
       "      <td>0.007455</td>\n",
       "      <td>0.186682</td>\n",
       "      <td>0.003242</td>\n",
       "      <td>0.813889</td>\n",
       "      <td>0.009362</td>\n",
       "    </tr>\n",
       "    <tr>\n",
       "      <th>4</th>\n",
       "      <td>4</td>\n",
       "      <td>0.172286</td>\n",
       "      <td>0.007957</td>\n",
       "      <td>0.181380</td>\n",
       "      <td>0.002135</td>\n",
       "      <td>0.826529</td>\n",
       "      <td>0.005319</td>\n",
       "    </tr>\n",
       "  </tbody>\n",
       "</table>\n",
       "</div>"
      ],
      "text/plain": [
       "   iterations  test-Logloss-mean  test-Logloss-std  train-Logloss-mean  \\\n",
       "0           0           0.302367          0.004317            0.302196   \n",
       "1           1           0.227370          0.007679            0.228497   \n",
       "2           2           0.190856          0.006917            0.196796   \n",
       "3           3           0.178884          0.007455            0.186682   \n",
       "4           4           0.172286          0.007957            0.181380   \n",
       "\n",
       "   train-Logloss-std  test-AUC-mean  test-AUC-std  \n",
       "0           0.004517       0.513577      0.030360  \n",
       "1           0.005126       0.642263      0.048004  \n",
       "2           0.003999       0.791709      0.011361  \n",
       "3           0.003242       0.813889      0.009362  \n",
       "4           0.002135       0.826529      0.005319  "
      ]
     },
     "execution_count": 49,
     "metadata": {},
     "output_type": "execute_result"
    }
   ],
   "source": [
    "cv_data.head()"
   ]
  },
  {
   "cell_type": "markdown",
   "metadata": {
    "id": "3onuoT6BShpb"
   },
   "source": [
    "<b> Logloss </b> is indicative of how close the prediction probability is to the corresponding true value.\n",
    "\n",
    "Let us print the **Best validation Logloss score**."
   ]
  },
  {
   "cell_type": "code",
   "execution_count": 50,
   "metadata": {
    "id": "3G_wLwaC5Of5",
    "outputId": "73c6a6fb-e8be-4fa3-d69f-7c356489ee7b"
   },
   "outputs": [
    {
     "name": "stdout",
     "output_type": "stream",
     "text": [
      "Best validation Logloss score, not stratified: 0.1581±0.0104 on step 52\n"
     ]
    }
   ],
   "source": [
    "best_value = np.min(cv_data['test-Logloss-mean'])\n",
    "best_iter = np.argmin(cv_data['test-Logloss-mean'])\n",
    "\n",
    "print('Best validation Logloss score, not stratified: {:.4f}±{:.4f} on step {}'.format(\n",
    "    best_value,\n",
    "    cv_data['test-Logloss-std'][best_iter],\n",
    "    best_iter)\n",
    ")"
   ]
  },
  {
   "cell_type": "code",
   "execution_count": 51,
   "metadata": {
    "colab": {
     "referenced_widgets": [
      "f33d77a327b240e0a6f7ec8ef1b14605",
      "b5b4aa4b383e46e998644f18996bced8"
     ]
    },
    "id": "cmZMkPh15OgC",
    "outputId": "ecf5ece0-f367-4616-eaba-984793bc3238"
   },
   "outputs": [
    {
     "name": "stdout",
     "output_type": "stream",
     "text": [
      "Training on fold [0/5]\n",
      "\n",
      "bestTest = 0.1614486451\n",
      "bestIteration = 31\n",
      "\n",
      "Training on fold [1/5]\n",
      "\n",
      "bestTest = 0.1554856763\n",
      "bestIteration = 57\n",
      "\n",
      "Training on fold [2/5]\n",
      "\n",
      "bestTest = 0.1588065247\n",
      "bestIteration = 46\n",
      "\n",
      "Training on fold [3/5]\n",
      "\n",
      "bestTest = 0.1525713791\n",
      "bestIteration = 60\n",
      "\n",
      "Training on fold [4/5]\n",
      "\n",
      "bestTest = 0.1576264978\n",
      "bestIteration = 29\n",
      "\n",
      "Best validation Logloss score, stratified: 0.1579±0.0036 on step 57\n"
     ]
    }
   ],
   "source": [
    "cv_data = cv(\n",
    "    params = params,\n",
    "    pool = Pool(X, label=y, cat_features=cat_features),\n",
    "    fold_count=5,\n",
    "    type = 'Classical',\n",
    "    shuffle=True,\n",
    "    partition_random_seed=0,\n",
    "#     plot=True,\n",
    "    stratified=True,\n",
    "    verbose=False\n",
    ")\n",
    "\n",
    "best_value = np.min(cv_data['test-Logloss-mean'])\n",
    "best_iter = np.argmin(cv_data['test-Logloss-mean'])\n",
    "\n",
    "print('Best validation Logloss score, stratified: {:.4f}±{:.4f} on step {}'.format(\n",
    "    best_value,\n",
    "    cv_data['test-Logloss-std'][best_iter],\n",
    "    best_iter)\n",
    ")"
   ]
  },
  {
   "cell_type": "markdown",
   "metadata": {
    "id": "4G_qISWi5OgH"
   },
   "source": [
    "####  <b> Overfitting Detector </b>"
   ]
  },
  {
   "cell_type": "markdown",
   "metadata": {
    "id": "D8wK2NxxNklk"
   },
   "source": [
    "If overfitting occurs, CatBoost can stop the training earlier than the training parameters dictate. For example, it can be stopped before the specified number of trees are built. This option is set in the starting parameters."
   ]
  },
  {
   "cell_type": "code",
   "execution_count": 52,
   "metadata": {
    "colab": {
     "referenced_widgets": [
      "0e1841ffcc2948829815023ddef4adf2",
      "9eec2a0b54904c8b88a573d249aab21a"
     ]
    },
    "id": "90aASIdT5OgH",
    "outputId": "197b26e6-c680-4644-dfa0-1829d4e59714"
   },
   "outputs": [
    {
     "data": {
      "text/plain": [
       "<catboost.core.CatBoostClassifier at 0x122e770a0>"
      ]
     },
     "execution_count": 52,
     "metadata": {},
     "output_type": "execute_result"
    }
   ],
   "source": [
    "model_with_early_stop = CatBoostClassifier(\n",
    "    iterations=200,\n",
    "    random_seed=63,\n",
    "    learning_rate=0.5,\n",
    "    early_stopping_rounds=20\n",
    ")\n",
    "model_with_early_stop.fit(\n",
    "    X_train, y_train,\n",
    "    cat_features=cat_features,\n",
    "    eval_set=(X_validation, y_validation),\n",
    "    verbose=False,\n",
    "#     plot=True\n",
    ")"
   ]
  },
  {
   "cell_type": "code",
   "execution_count": 53,
   "metadata": {
    "id": "kE8PeJo75OgM",
    "outputId": "5563415b-f409-4072-cbd9-39cc2daa08a0"
   },
   "outputs": [
    {
     "name": "stdout",
     "output_type": "stream",
     "text": [
      "30\n"
     ]
    }
   ],
   "source": [
    "print(model_with_early_stop.tree_count_)"
   ]
  },
  {
   "cell_type": "code",
   "execution_count": 54,
   "metadata": {
    "colab": {
     "referenced_widgets": [
      "1531eed4e779494583a0afb80ba0c36c",
      "7a7827852e6e4d4dae09925aa203ed7a"
     ]
    },
    "id": "krNSogvR5OgQ",
    "outputId": "19b41933-621e-4ac6-c34a-d43e9e52a757"
   },
   "outputs": [
    {
     "data": {
      "text/plain": [
       "<catboost.core.CatBoostClassifier at 0x132caeaa0>"
      ]
     },
     "execution_count": 54,
     "metadata": {},
     "output_type": "execute_result"
    }
   ],
   "source": [
    "model_with_early_stop = CatBoostClassifier(\n",
    "    eval_metric='AUC',\n",
    "    iterations=200,\n",
    "    random_seed=63,\n",
    "    learning_rate=0.5,\n",
    "    early_stopping_rounds=20\n",
    ")\n",
    "model_with_early_stop.fit(\n",
    "    X_train, y_train,\n",
    "    cat_features=cat_features,\n",
    "    eval_set=(X_validation, y_validation),\n",
    "    verbose=False,\n",
    "#     plot=True\n",
    ")"
   ]
  },
  {
   "cell_type": "code",
   "execution_count": 55,
   "metadata": {
    "id": "dxBiKSFD5OgV",
    "outputId": "5eceb682-e3d2-49bf-cb99-39926f9d86d2"
   },
   "outputs": [
    {
     "name": "stdout",
     "output_type": "stream",
     "text": [
      "30\n"
     ]
    }
   ],
   "source": [
    "print(model_with_early_stop.tree_count_)"
   ]
  },
  {
   "cell_type": "markdown",
   "metadata": {
    "id": "PxAb9Kl15OgY"
   },
   "source": [
    "#### <b> Select Decision Boundary </b>"
   ]
  },
  {
   "cell_type": "markdown",
   "metadata": {
    "id": "KGCB5MV-Nklk"
   },
   "source": [
    "In classification problems with two or more classes, a decision boundary is a hypersurface that separates the underlying vector space into sets, keeping one for each class."
   ]
  },
  {
   "cell_type": "code",
   "execution_count": 56,
   "metadata": {
    "colab": {
     "referenced_widgets": [
      "ff8a649adf424cbdb096e92ad9df871b",
      "a78e54693e1148d4960144fdbf0ffe97"
     ]
    },
    "id": "M1XlJ4ET5OgZ",
    "outputId": "d300cb7a-9739-437c-bc33-c50457537cc1"
   },
   "outputs": [
    {
     "data": {
      "text/plain": [
       "<catboost.core.CatBoostClassifier at 0x132caeb60>"
      ]
     },
     "execution_count": 56,
     "metadata": {},
     "output_type": "execute_result"
    }
   ],
   "source": [
    "model = CatBoostClassifier(\n",
    "    random_seed=63,\n",
    "    iterations=200,\n",
    "    learning_rate=0.03,\n",
    ")\n",
    "model.fit(\n",
    "    X_train, y_train,\n",
    "    cat_features=cat_features,\n",
    "    verbose=False,\n",
    "#     plot=True\n",
    ")"
   ]
  },
  {
   "cell_type": "markdown",
   "metadata": {
    "id": "9gy--FHg5Ogd"
   },
   "source": [
    "![Decision_Boundary](https://labcontent.simplicdn.net/data-content/content-assets/Data_and_AI/Applied_Machine_Learning/Images/Lesson_07_Ensemble_Learning/Decision_Boundary.png)"
   ]
  },
  {
   "cell_type": "code",
   "execution_count": 57,
   "metadata": {
    "id": "2D0OXjqK5Ogh",
    "outputId": "ed129b7f-e51d-4217-f8bf-2958a6f88db4"
   },
   "outputs": [
    {
     "data": {
      "image/png": "[encoded data removed]",
      "text/plain": [
       "<Figure size 1600x800 with 1 Axes>"
      ]
     },
     "metadata": {},
     "output_type": "display_data"
    }
   ],
   "source": [
    "#Using utils to make the pattern easier\n",
    "from catboost.utils import get_roc_curve\n",
    "import sklearn\n",
    "from sklearn import metrics\n",
    "\n",
    "eval_pool = Pool(X_validation, y_validation, cat_features=cat_features)\n",
    "curve = get_roc_curve(model, eval_pool)\n",
    "(fpr, tpr, thresholds) = curve\n",
    "roc_auc = sklearn.metrics.auc(fpr, tpr)\n",
    "\n",
    "import matplotlib.pyplot as plt\n",
    "\n",
    "plt.figure(figsize=(16, 8))\n",
    "lw = 2\n",
    "\n",
    "plt.plot(fpr, tpr, color='darkorange',\n",
    "         lw=lw, label='ROC curve (area = %0.2f)' % roc_auc, alpha=0.5)\n",
    "\n",
    "plt.plot([0, 1], [0, 1], color='navy', lw=lw, linestyle='--', alpha=0.5)\n",
    "\n",
    "plt.xlim([0.0, 1.0])\n",
    "plt.ylim([0.0, 1.05])\n",
    "plt.xticks(fontsize=16)\n",
    "plt.yticks(fontsize=16)\n",
    "plt.grid(True)\n",
    "plt.xlabel('False Positive Rate', fontsize=16)\n",
    "plt.ylabel('True Positive Rate', fontsize=16)\n",
    "plt.title('Receiver operating characteristic', fontsize=20)\n",
    "plt.legend(loc=\"lower right\", fontsize=16)\n",
    "plt.show()"
   ]
  },
  {
   "cell_type": "markdown",
   "metadata": {
    "id": "pm5u4WQyNkll"
   },
   "source": [
    "The above graph illustrates the diagnostic ability of a binary classifier system as its discrimination threshold is varied."
   ]
  },
  {
   "cell_type": "code",
   "execution_count": 58,
   "metadata": {
    "id": "yO22sy2R5Ogn",
    "outputId": "29f539e2-7458-4192-fb96-51d2af58410a"
   },
   "outputs": [
    {
     "data": {
      "image/png": "[encoded data removed]",
      "text/plain": [
       "<Figure size 1600x800 with 1 Axes>"
      ]
     },
     "metadata": {},
     "output_type": "display_data"
    }
   ],
   "source": [
    "from catboost.utils import get_fpr_curve\n",
    "from catboost.utils import get_fnr_curve\n",
    "\n",
    "(thresholds, fpr) = get_fpr_curve(curve=curve)\n",
    "(thresholds, fnr) = get_fnr_curve(curve=curve)\n",
    "\n",
    "plt.figure(figsize=(16, 8))\n",
    "lw = 2\n",
    "\n",
    "plt.plot(thresholds, fpr, color='blue', lw=lw, label='FPR', alpha=0.5)\n",
    "plt.plot(thresholds, fnr, color='green', lw=lw, label='FNR', alpha=0.5)\n",
    "\n",
    "plt.xlim([0.0, 1.0])\n",
    "plt.ylim([0.0, 1.05])\n",
    "plt.xticks(fontsize=16)\n",
    "plt.yticks(fontsize=16)\n",
    "plt.grid(True)\n",
    "plt.xlabel('Threshold', fontsize=16)\n",
    "plt.ylabel('Error Rate', fontsize=16)\n",
    "plt.title('FPR-FNR curves', fontsize=20)\n",
    "plt.legend(loc=\"lower left\", fontsize=16)\n",
    "plt.show()"
   ]
  },
  {
   "cell_type": "markdown",
   "metadata": {
    "id": "T8lJSZAONkll"
   },
   "source": [
    "The above graph displays the FPR-FNR curves for error rate and threshold."
   ]
  },
  {
   "cell_type": "code",
   "execution_count": 59,
   "metadata": {
    "id": "WAcclDiN5Ogr",
    "outputId": "833b3f18-c1af-42b5-f1ad-e38bbae8bf29"
   },
   "outputs": [
    {
     "name": "stdout",
     "output_type": "stream",
     "text": [
      "0.4803474528996477\n",
      "0.9899643475743053\n"
     ]
    }
   ],
   "source": [
    "from catboost.utils import select_threshold\n",
    "\n",
    "print(select_threshold(model=model, data=eval_pool, FNR=0.01))\n",
    "print(select_threshold(model=model, data=eval_pool, FPR=0.01))"
   ]
  },
  {
   "cell_type": "markdown",
   "metadata": {
    "id": "aIAjbgbE5Ogv"
   },
   "source": [
    "#### <b> Snapshotting </b>"
   ]
  },
  {
   "cell_type": "markdown",
   "metadata": {
    "id": "0RYEUiDVNkll"
   },
   "source": [
    "Catboost supports snapshotting. You can use it to recover training after an interruption or start training with previous results."
   ]
  },
  {
   "cell_type": "code",
   "execution_count": 60,
   "metadata": {
    "id": "UxB4pDMC5Ogw",
    "outputId": "c635e351-1147-409e-d1f3-040be0cbae80",
    "scrolled": true
   },
   "outputs": [
    {
     "name": "stdout",
     "output_type": "stream",
     "text": [
      "Learning rate set to 0.193326\n",
      "0:\tlearn: 0.5565905\ttest: 0.5566217\tbest: 0.5566217 (0)\ttotal: 26.2ms\tremaining: 2.59s\n",
      "1:\tlearn: 0.4642626\ttest: 0.4639935\tbest: 0.4639935 (1)\ttotal: 40.1ms\tremaining: 1.96s\n",
      "2:\tlearn: 0.3989148\ttest: 0.3981304\tbest: 0.3981304 (2)\ttotal: 59.6ms\tremaining: 1.93s\n",
      "3:\tlearn: 0.3516186\ttest: 0.3510286\tbest: 0.3510286 (3)\ttotal: 65.1ms\tremaining: 1.56s\n",
      "4:\tlearn: 0.3164302\ttest: 0.3161297\tbest: 0.3161297 (4)\ttotal: 78.3ms\tremaining: 1.49s\n",
      "5:\tlearn: 0.2906047\ttest: 0.2905494\tbest: 0.2905494 (5)\ttotal: 82.5ms\tremaining: 1.29s\n",
      "6:\tlearn: 0.2710475\ttest: 0.2708899\tbest: 0.2708899 (6)\ttotal: 90.8ms\tremaining: 1.21s\n",
      "7:\tlearn: 0.2538458\ttest: 0.2539798\tbest: 0.2539798 (7)\ttotal: 106ms\tremaining: 1.22s\n",
      "8:\tlearn: 0.2399269\ttest: 0.2401350\tbest: 0.2401350 (8)\ttotal: 115ms\tremaining: 1.17s\n",
      "9:\tlearn: 0.2298664\ttest: 0.2304173\tbest: 0.2304173 (9)\ttotal: 122ms\tremaining: 1.1s\n",
      "10:\tlearn: 0.2180381\ttest: 0.2161946\tbest: 0.2161946 (10)\ttotal: 133ms\tremaining: 1.07s\n",
      "11:\tlearn: 0.2089276\ttest: 0.2055572\tbest: 0.2055572 (11)\ttotal: 150ms\tremaining: 1.1s\n",
      "12:\tlearn: 0.2027605\ttest: 0.1985313\tbest: 0.1985313 (12)\ttotal: 156ms\tremaining: 1.05s\n",
      "13:\tlearn: 0.1980597\ttest: 0.1929079\tbest: 0.1929079 (13)\ttotal: 162ms\tremaining: 994ms\n",
      "14:\tlearn: 0.1931802\ttest: 0.1869335\tbest: 0.1869335 (14)\ttotal: 171ms\tremaining: 967ms\n",
      "15:\tlearn: 0.1899584\ttest: 0.1827767\tbest: 0.1827767 (15)\ttotal: 184ms\tremaining: 968ms\n",
      "16:\tlearn: 0.1868109\ttest: 0.1791481\tbest: 0.1791481 (16)\ttotal: 195ms\tremaining: 952ms\n",
      "17:\tlearn: 0.1844046\ttest: 0.1764212\tbest: 0.1764212 (17)\ttotal: 205ms\tremaining: 932ms\n",
      "18:\tlearn: 0.1826815\ttest: 0.1739992\tbest: 0.1739992 (18)\ttotal: 212ms\tremaining: 904ms\n",
      "19:\tlearn: 0.1813182\ttest: 0.1724242\tbest: 0.1724242 (19)\ttotal: 221ms\tremaining: 882ms\n",
      "20:\tlearn: 0.1799044\ttest: 0.1705979\tbest: 0.1705979 (20)\ttotal: 230ms\tremaining: 863ms\n",
      "21:\tlearn: 0.1787567\ttest: 0.1691593\tbest: 0.1691593 (21)\ttotal: 238ms\tremaining: 845ms\n",
      "22:\tlearn: 0.1778479\ttest: 0.1679138\tbest: 0.1679138 (22)\ttotal: 245ms\tremaining: 819ms\n",
      "23:\tlearn: 0.1769800\ttest: 0.1669261\tbest: 0.1669261 (23)\ttotal: 250ms\tremaining: 791ms\n",
      "24:\tlearn: 0.1761963\ttest: 0.1659238\tbest: 0.1659238 (24)\ttotal: 257ms\tremaining: 771ms\n",
      "25:\tlearn: 0.1759394\ttest: 0.1656044\tbest: 0.1656044 (25)\ttotal: 261ms\tremaining: 742ms\n",
      "26:\tlearn: 0.1756321\ttest: 0.1651183\tbest: 0.1651183 (26)\ttotal: 267ms\tremaining: 722ms\n",
      "27:\tlearn: 0.1753093\ttest: 0.1645482\tbest: 0.1645482 (27)\ttotal: 274ms\tremaining: 706ms\n",
      "28:\tlearn: 0.1746490\ttest: 0.1634569\tbest: 0.1634569 (28)\ttotal: 288ms\tremaining: 704ms\n",
      "29:\tlearn: 0.1741248\ttest: 0.1626719\tbest: 0.1626719 (29)\ttotal: 298ms\tremaining: 696ms\n",
      "30:\tlearn: 0.1739190\ttest: 0.1624505\tbest: 0.1624505 (30)\ttotal: 304ms\tremaining: 677ms\n",
      "31:\tlearn: 0.1737505\ttest: 0.1621577\tbest: 0.1621577 (31)\ttotal: 311ms\tremaining: 660ms\n",
      "32:\tlearn: 0.1735156\ttest: 0.1617652\tbest: 0.1617652 (32)\ttotal: 318ms\tremaining: 645ms\n",
      "33:\tlearn: 0.1733737\ttest: 0.1616706\tbest: 0.1616706 (33)\ttotal: 326ms\tremaining: 632ms\n",
      "34:\tlearn: 0.1730710\ttest: 0.1615700\tbest: 0.1615700 (34)\ttotal: 332ms\tremaining: 616ms\n",
      "35:\tlearn: 0.1726234\ttest: 0.1613597\tbest: 0.1613597 (35)\ttotal: 341ms\tremaining: 607ms\n",
      "36:\tlearn: 0.1724223\ttest: 0.1609771\tbest: 0.1609771 (36)\ttotal: 348ms\tremaining: 593ms\n",
      "37:\tlearn: 0.1723166\ttest: 0.1609138\tbest: 0.1609138 (37)\ttotal: 354ms\tremaining: 578ms\n",
      "38:\tlearn: 0.1721109\ttest: 0.1607760\tbest: 0.1607760 (38)\ttotal: 361ms\tremaining: 564ms\n",
      "39:\tlearn: 0.1718253\ttest: 0.1604844\tbest: 0.1604844 (39)\ttotal: 367ms\tremaining: 550ms\n",
      "40:\tlearn: 0.1718135\ttest: 0.1604838\tbest: 0.1604838 (40)\ttotal: 370ms\tremaining: 533ms\n",
      "41:\tlearn: 0.1717654\ttest: 0.1604337\tbest: 0.1604337 (41)\ttotal: 381ms\tremaining: 526ms\n",
      "42:\tlearn: 0.1714937\ttest: 0.1602021\tbest: 0.1602021 (42)\ttotal: 387ms\tremaining: 513ms\n",
      "43:\tlearn: 0.1713759\ttest: 0.1601088\tbest: 0.1601088 (43)\ttotal: 397ms\tremaining: 505ms\n",
      "44:\tlearn: 0.1712930\ttest: 0.1601280\tbest: 0.1601088 (43)\ttotal: 404ms\tremaining: 494ms\n",
      "45:\tlearn: 0.1710363\ttest: 0.1601333\tbest: 0.1601088 (43)\ttotal: 409ms\tremaining: 480ms\n",
      "46:\tlearn: 0.1708310\ttest: 0.1598021\tbest: 0.1598021 (46)\ttotal: 416ms\tremaining: 469ms\n",
      "47:\tlearn: 0.1707415\ttest: 0.1598379\tbest: 0.1598021 (46)\ttotal: 423ms\tremaining: 458ms\n",
      "48:\tlearn: 0.1706194\ttest: 0.1597803\tbest: 0.1597803 (48)\ttotal: 428ms\tremaining: 446ms\n",
      "49:\tlearn: 0.1705094\ttest: 0.1598181\tbest: 0.1597803 (48)\ttotal: 435ms\tremaining: 435ms\n",
      "50:\tlearn: 0.1703454\ttest: 0.1596611\tbest: 0.1596611 (50)\ttotal: 440ms\tremaining: 423ms\n",
      "51:\tlearn: 0.1701364\ttest: 0.1594569\tbest: 0.1594569 (51)\ttotal: 446ms\tremaining: 412ms\n",
      "52:\tlearn: 0.1699351\ttest: 0.1594792\tbest: 0.1594569 (51)\ttotal: 452ms\tremaining: 401ms\n",
      "53:\tlearn: 0.1698191\ttest: 0.1594453\tbest: 0.1594453 (53)\ttotal: 458ms\tremaining: 390ms\n",
      "54:\tlearn: 0.1696360\ttest: 0.1594233\tbest: 0.1594233 (54)\ttotal: 464ms\tremaining: 380ms\n",
      "55:\tlearn: 0.1695476\ttest: 0.1593201\tbest: 0.1593201 (55)\ttotal: 470ms\tremaining: 369ms\n",
      "56:\tlearn: 0.1694507\ttest: 0.1593702\tbest: 0.1593201 (55)\ttotal: 475ms\tremaining: 359ms\n",
      "57:\tlearn: 0.1693879\ttest: 0.1593558\tbest: 0.1593201 (55)\ttotal: 481ms\tremaining: 348ms\n",
      "58:\tlearn: 0.1692182\ttest: 0.1593365\tbest: 0.1593201 (55)\ttotal: 487ms\tremaining: 338ms\n",
      "59:\tlearn: 0.1691692\ttest: 0.1593046\tbest: 0.1593046 (59)\ttotal: 492ms\tremaining: 328ms\n",
      "60:\tlearn: 0.1689825\ttest: 0.1590959\tbest: 0.1590959 (60)\ttotal: 497ms\tremaining: 318ms\n",
      "61:\tlearn: 0.1688233\ttest: 0.1587949\tbest: 0.1587949 (61)\ttotal: 503ms\tremaining: 308ms\n",
      "62:\tlearn: 0.1687423\ttest: 0.1587121\tbest: 0.1587121 (62)\ttotal: 508ms\tremaining: 298ms\n",
      "63:\tlearn: 0.1685821\ttest: 0.1585367\tbest: 0.1585367 (63)\ttotal: 515ms\tremaining: 289ms\n",
      "64:\tlearn: 0.1682095\ttest: 0.1583598\tbest: 0.1583598 (64)\ttotal: 520ms\tremaining: 280ms\n",
      "65:\tlearn: 0.1680435\ttest: 0.1581916\tbest: 0.1581916 (65)\ttotal: 525ms\tremaining: 271ms\n",
      "66:\tlearn: 0.1678092\ttest: 0.1580685\tbest: 0.1580685 (66)\ttotal: 531ms\tremaining: 261ms\n",
      "67:\tlearn: 0.1676905\ttest: 0.1579741\tbest: 0.1579741 (67)\ttotal: 536ms\tremaining: 252ms\n",
      "68:\tlearn: 0.1674648\ttest: 0.1579143\tbest: 0.1579143 (68)\ttotal: 541ms\tremaining: 243ms\n",
      "69:\tlearn: 0.1673214\ttest: 0.1579064\tbest: 0.1579064 (69)\ttotal: 548ms\tremaining: 235ms\n",
      "70:\tlearn: 0.1672664\ttest: 0.1579522\tbest: 0.1579064 (69)\ttotal: 553ms\tremaining: 226ms\n",
      "71:\tlearn: 0.1672555\ttest: 0.1579174\tbest: 0.1579064 (69)\ttotal: 564ms\tremaining: 219ms\n",
      "72:\tlearn: 0.1672462\ttest: 0.1579299\tbest: 0.1579064 (69)\ttotal: 571ms\tremaining: 211ms\n",
      "73:\tlearn: 0.1670767\ttest: 0.1578301\tbest: 0.1578301 (73)\ttotal: 577ms\tremaining: 203ms\n",
      "74:\tlearn: 0.1670546\ttest: 0.1577969\tbest: 0.1577969 (74)\ttotal: 583ms\tremaining: 194ms\n",
      "75:\tlearn: 0.1669987\ttest: 0.1577948\tbest: 0.1577948 (75)\ttotal: 591ms\tremaining: 187ms\n",
      "76:\tlearn: 0.1668860\ttest: 0.1577237\tbest: 0.1577237 (76)\ttotal: 598ms\tremaining: 179ms\n",
      "77:\tlearn: 0.1667215\ttest: 0.1576140\tbest: 0.1576140 (77)\ttotal: 604ms\tremaining: 170ms\n",
      "78:\tlearn: 0.1667140\ttest: 0.1575968\tbest: 0.1575968 (78)\ttotal: 610ms\tremaining: 162ms\n",
      "79:\tlearn: 0.1666534\ttest: 0.1575803\tbest: 0.1575803 (79)\ttotal: 617ms\tremaining: 154ms\n",
      "80:\tlearn: 0.1666215\ttest: 0.1575678\tbest: 0.1575678 (80)\ttotal: 623ms\tremaining: 146ms\n",
      "81:\tlearn: 0.1665369\ttest: 0.1576578\tbest: 0.1575678 (80)\ttotal: 630ms\tremaining: 138ms\n",
      "82:\tlearn: 0.1664881\ttest: 0.1576933\tbest: 0.1575678 (80)\ttotal: 636ms\tremaining: 130ms\n",
      "83:\tlearn: 0.1664809\ttest: 0.1576931\tbest: 0.1575678 (80)\ttotal: 643ms\tremaining: 122ms\n",
      "84:\tlearn: 0.1664459\ttest: 0.1577250\tbest: 0.1575678 (80)\ttotal: 648ms\tremaining: 114ms\n",
      "85:\tlearn: 0.1664193\ttest: 0.1577061\tbest: 0.1575678 (80)\ttotal: 653ms\tremaining: 106ms\n",
      "86:\tlearn: 0.1663895\ttest: 0.1577540\tbest: 0.1575678 (80)\ttotal: 658ms\tremaining: 98.3ms\n",
      "87:\tlearn: 0.1663837\ttest: 0.1577521\tbest: 0.1575678 (80)\ttotal: 663ms\tremaining: 90.4ms\n",
      "88:\tlearn: 0.1663628\ttest: 0.1577793\tbest: 0.1575678 (80)\ttotal: 668ms\tremaining: 82.5ms\n",
      "89:\tlearn: 0.1663101\ttest: 0.1577507\tbest: 0.1575678 (80)\ttotal: 673ms\tremaining: 74.8ms\n",
      "90:\tlearn: 0.1662302\ttest: 0.1576135\tbest: 0.1575678 (80)\ttotal: 678ms\tremaining: 67ms\n",
      "91:\tlearn: 0.1662257\ttest: 0.1576185\tbest: 0.1575678 (80)\ttotal: 683ms\tremaining: 59.4ms\n",
      "92:\tlearn: 0.1662070\ttest: 0.1576770\tbest: 0.1575678 (80)\ttotal: 688ms\tremaining: 51.8ms\n",
      "93:\tlearn: 0.1661519\ttest: 0.1576925\tbest: 0.1575678 (80)\ttotal: 693ms\tremaining: 44.3ms\n",
      "94:\tlearn: 0.1659885\ttest: 0.1576700\tbest: 0.1575678 (80)\ttotal: 699ms\tremaining: 36.8ms\n",
      "95:\tlearn: 0.1659752\ttest: 0.1577138\tbest: 0.1575678 (80)\ttotal: 704ms\tremaining: 29.3ms\n",
      "96:\tlearn: 0.1658729\ttest: 0.1577104\tbest: 0.1575678 (80)\ttotal: 709ms\tremaining: 21.9ms\n",
      "97:\tlearn: 0.1658312\ttest: 0.1577005\tbest: 0.1575678 (80)\ttotal: 714ms\tremaining: 14.6ms\n",
      "98:\tlearn: 0.1657567\ttest: 0.1576310\tbest: 0.1575678 (80)\ttotal: 719ms\tremaining: 7.26ms\n",
      "99:\tlearn: 0.1655047\ttest: 0.1576241\tbest: 0.1575678 (80)\ttotal: 724ms\tremaining: 0us\n",
      "\n",
      "bestTest = 0.1575677776\n",
      "bestIteration = 80\n",
      "\n",
      "Shrink model to first 81 iterations.\n"
     ]
    },
    {
     "data": {
      "text/plain": [
       "<catboost.core.CatBoostClassifier at 0x133ebfc70>"
      ]
     },
     "execution_count": 60,
     "metadata": {},
     "output_type": "execute_result"
    }
   ],
   "source": [
    "#!rm 'catboost_info/snapshot.bkp'\n",
    "from catboost import CatBoostClassifier\n",
    "model = CatBoostClassifier(\n",
    "    iterations=100,\n",
    "    save_snapshot=True,\n",
    "    snapshot_file='snapshot.bkp',\n",
    "    snapshot_interval=1,\n",
    "    random_seed=43\n",
    ")\n",
    "model.fit(\n",
    "    X_train, y_train,\n",
    "    eval_set=(X_validation, y_validation),\n",
    "    cat_features=cat_features,\n",
    "    verbose=True\n",
    ")"
   ]
  },
  {
   "cell_type": "markdown",
   "metadata": {
    "id": "vcDF3uub5Og0"
   },
   "source": [
    "#### <b> Model Predictions </b>"
   ]
  },
  {
   "cell_type": "markdown",
   "metadata": {
    "id": "Cw6A0o-fNklm"
   },
   "source": [
    "predict_proba gives you the probabilities for the target in array form. The number of probabilities for each row is equal to the number of categories in the target variable."
   ]
  },
  {
   "cell_type": "code",
   "execution_count": 61,
   "metadata": {
    "id": "nZ-EOgNs5Og1",
    "outputId": "7d214afd-e1df-42f0-d71f-7e7c76cffb31"
   },
   "outputs": [
    {
     "name": "stdout",
     "output_type": "stream",
     "text": [
      "[[0.0508 0.9492]\n",
      " [0.0181 0.9819]\n",
      " [0.0179 0.9821]\n",
      " ...\n",
      " [0.0161 0.9839]\n",
      " [0.017  0.983 ]\n",
      " [0.0236 0.9764]]\n"
     ]
    }
   ],
   "source": [
    "print(model.predict_proba(X=X_validation))"
   ]
  },
  {
   "cell_type": "code",
   "execution_count": 62,
   "metadata": {
    "id": "QofNHstF5Og8",
    "outputId": "5f26f440-f5a4-49c9-e265-366db4f00553"
   },
   "outputs": [
    {
     "name": "stdout",
     "output_type": "stream",
     "text": [
      "[1 1 1 ... 1 1 1]\n"
     ]
    }
   ],
   "source": [
    "print(model.predict(data=X_validation))"
   ]
  },
  {
   "cell_type": "code",
   "execution_count": null,
   "metadata": {
    "id": "0wRvj9K45OhA",
    "outputId": "05602437-9a51-40b4-9a64-eb247af6059d"
   },
   "outputs": [
    {
     "name": "stdout",
     "output_type": "stream",
     "text": [
      "[2.9282 3.9947 4.0077 ... 4.1115 4.06   3.7207]\n"
     ]
    }
   ],
   "source": [
    "raw_pred = model.predict(\n",
    "    data=X_validation,\n",
    "    prediction_type='RawFormulaVal'\n",
    ")\n",
    "print(raw_pred)"
   ]
  },
  {
   "cell_type": "code",
   "execution_count": null,
   "metadata": {
    "id": "rPnLlKoP5OhF",
    "outputId": "2e208fb7-ee97-4e99-eae4-777bd324ea52"
   },
   "outputs": [
    {
     "name": "stdout",
     "output_type": "stream",
     "text": [
      "[0.9492 0.9819 0.9821 ... 0.9839 0.983  0.9764]\n"
     ]
    }
   ],
   "source": [
    "from numpy import exp\n",
    "\n",
    "#Calculating sigmoid\n",
    "sigmoid = lambda x: 1 / (1 + exp(-x))\n",
    "\n",
    "probabilities = sigmoid(raw_pred)\n",
    "\n",
    "print(probabilities)"
   ]
  },
  {
   "cell_type": "markdown",
   "metadata": {
    "id": "tfu959oGNklm"
   },
   "source": [
    "The probabilities will be displayed on the screen."
   ]
  },
  {
   "cell_type": "code",
   "execution_count": null,
   "metadata": {
    "id": "QOnzpfW_5OhJ",
    "outputId": "0eeaa872-a1ee-4969-c6f4-1c6990c7a95e"
   },
   "outputs": [
    {
     "name": "stdout",
     "output_type": "stream",
     "text": [
      "[[0.0508 0.9492]\n",
      " [0.0181 0.9819]\n",
      " [0.0179 0.9821]\n",
      " ...\n",
      " [0.0161 0.9839]\n",
      " [0.017  0.983 ]\n",
      " [0.0236 0.9764]]\n"
     ]
    }
   ],
   "source": [
    "X_prepared = X_validation.values.astype(str).astype(object)\n",
    "#For FeaturesData class categorial features must have type str\n",
    "\n",
    "fast_predictions = model.predict_proba(\n",
    "    X=FeaturesData(\n",
    "        cat_feature_data=X_prepared,\n",
    "        cat_feature_names=list(X_validation)\n",
    "    )\n",
    ")\n",
    "print(fast_predictions)"
   ]
  },
  {
   "cell_type": "markdown",
   "metadata": {
    "id": "j7nBYBzI5OhN"
   },
   "source": [
    "#### <b> Staged Prediction </b>"
   ]
  },
  {
   "cell_type": "markdown",
   "metadata": {
    "id": "vgJCOks8Nklm"
   },
   "source": [
    "CatBoost allows to apply a trained model and calculate the results for each i-th tree of the model, taking into consideration only the trees in the range [0; i)."
   ]
  },
  {
   "cell_type": "code",
   "execution_count": 63,
   "metadata": {
    "id": "cRYfQdbD5OhO",
    "outputId": "af7c4b71-c11c-4486-db40-15ace5c03912"
   },
   "outputs": [
    {
     "name": "stdout",
     "output_type": "stream",
     "text": [
      "<generator object CatBoost._staged_predict at 0x133f7d770>\n",
      "Iteration 0, predictions:\n",
      "[[0.4154 0.5846]\n",
      " [0.4154 0.5846]\n",
      " [0.4154 0.5846]\n",
      " ...\n",
      " [0.4154 0.5846]\n",
      " [0.4154 0.5846]\n",
      " [0.4154 0.5846]]\n",
      "Iteration 1, predictions:\n",
      "[[0.3476 0.6524]\n",
      " [0.3476 0.6524]\n",
      " [0.3476 0.6524]\n",
      " ...\n",
      " [0.3476 0.6524]\n",
      " [0.3476 0.6524]\n",
      " [0.3476 0.6524]]\n",
      "Iteration 2, predictions:\n",
      "[[0.292  0.708 ]\n",
      " [0.292  0.708 ]\n",
      " [0.2978 0.7022]\n",
      " ...\n",
      " [0.2978 0.7022]\n",
      " [0.292  0.708 ]\n",
      " [0.2978 0.7022]]\n",
      "Iteration 3, predictions:\n",
      "[[0.2485 0.7515]\n",
      " [0.2485 0.7515]\n",
      " [0.2538 0.7462]\n",
      " ...\n",
      " [0.2538 0.7462]\n",
      " [0.2485 0.7515]\n",
      " [0.2538 0.7462]]\n",
      "Iteration 4, predictions:\n",
      "[[0.2126 0.7874]\n",
      " [0.2126 0.7874]\n",
      " [0.2173 0.7827]\n",
      " ...\n",
      " [0.2173 0.7827]\n",
      " [0.2126 0.7874]\n",
      " [0.2173 0.7827]]\n"
     ]
    }
   ],
   "source": [
    "predictions_gen = model.staged_predict_proba(\n",
    "    data=X_validation,\n",
    "    ntree_start=0, \n",
    "    ntree_end=5, \n",
    "    eval_period=1\n",
    ")\n",
    "print(predictions_gen)\n",
    "try:\n",
    "    for iteration, predictions in enumerate(predictions_gen):\n",
    "        print('Iteration ' + str(iteration) + ', predictions:')\n",
    "        print(predictions)\n",
    "except Exception:\n",
    "    pass"
   ]
  },
  {
   "cell_type": "markdown",
   "metadata": {
    "id": "3aW6hlAi5OhR"
   },
   "source": [
    "#### <b> Solving Multiclass Classification Problem </b>"
   ]
  },
  {
   "cell_type": "markdown",
   "metadata": {
    "id": "rCwesf-eShpf"
   },
   "source": [
    "Let us solve the **Multiclass Classification Problem** using the **CatBoostClassifier.**"
   ]
  },
  {
   "cell_type": "code",
   "execution_count": 64,
   "metadata": {
    "colab": {
     "referenced_widgets": [
      "0327b93beef24d888c8d7f0010219b84",
      "22b5a0cdd5e649d9b35a4a039fb52bd1"
     ]
    },
    "id": "rT5s48co5OhS",
    "outputId": "da0eaf76-4345-4737-ac9c-bd8f5a788b5e"
   },
   "outputs": [
    {
     "data": {
      "text/plain": [
       "<catboost.core.CatBoostClassifier at 0x133fffe50>"
      ]
     },
     "execution_count": 64,
     "metadata": {},
     "output_type": "execute_result"
    }
   ],
   "source": [
    "from catboost import CatBoostClassifier\n",
    "model = CatBoostClassifier(\n",
    "    iterations=50,\n",
    "    random_seed=43,\n",
    "    loss_function='MultiClass'\n",
    ")\n",
    "model.fit(\n",
    "    X_train, y_train,\n",
    "    cat_features=cat_features,\n",
    "    eval_set=(X_validation, y_validation),\n",
    "    verbose=False,\n",
    "#     plot=True\n",
    ")"
   ]
  },
  {
   "cell_type": "markdown",
   "metadata": {
    "id": "FlpFRZCz5OhX"
   },
   "source": [
    "For multiclass problems with many classes, sometimes, it's better to solve classification problems using ranking. To do that, we will build a dataset with groups. Every group will represent one object from our initial dataset. But it will have one additional categorical feature, a possible class value. Target values will be equal to 1 if the class value is equal to the correct class and 0 otherwise. Thus, each group will have exactly one 1 in labels and some zeros. You can put all possible class values in the group, or you can try setting only hard negatives if there are too many labels. We'll show this approach as an example of a binary classification problem."
   ]
  },
  {
   "cell_type": "code",
   "execution_count": 65,
   "metadata": {
    "id": "zIvkXuVl5OhX"
   },
   "outputs": [],
   "source": [
    "#Defining custom function to build multiclass ranking\n",
    "from copy import deepcopy\n",
    "def build_multiclass_ranking_dataset(X, y, cat_features, label_values=[0,1], start_group_id=0):\n",
    "    ranking_matrix = []\n",
    "    ranking_labels = []\n",
    "    group_ids = []\n",
    "\n",
    "    X_train_matrix = X.values\n",
    "    y_train_vector = y.values\n",
    "\n",
    "    for obj_idx in range(X.shape[0]):\n",
    "        obj = list(X_train_matrix[obj_idx])\n",
    "\n",
    "        for label in label_values:\n",
    "            obj_of_given_class = deepcopy(obj)\n",
    "            obj_of_given_class.append(label)\n",
    "            ranking_matrix.append(obj_of_given_class)\n",
    "            ranking_labels.append(float(y_train_vector[obj_idx] == label)) \n",
    "            group_ids.append(start_group_id + obj_idx)\n",
    "        \n",
    "    final_cat_features = deepcopy(cat_features)\n",
    "    final_cat_features.append(X.shape[1]) # new feature that we are adding should be categorical.\n",
    "    return Pool(ranking_matrix, ranking_labels, cat_features=final_cat_features, group_id = group_ids)"
   ]
  },
  {
   "cell_type": "code",
   "execution_count": 67,
   "metadata": {
    "colab": {
     "referenced_widgets": [
      "4e0e1252d5b04dbca3952276a8475fd5",
      "52b87a3ce3684f7e958ab1df8380d9d7"
     ]
    },
    "id": "VlxBiDwl5Ohb",
    "outputId": "4214d974-54bd-4c64-ec62-aed3acb1bfbd"
   },
   "outputs": [
    {
     "data": {
      "text/plain": [
       "<catboost.core.CatBoost at 0x12fa449d0>"
      ]
     },
     "execution_count": 67,
     "metadata": {},
     "output_type": "execute_result"
    }
   ],
   "source": [
    "from catboost import CatBoost\n",
    "params = {'iterations':150, 'learning_rate':0.01, 'l2_leaf_reg':30, 'random_seed':0, 'loss_function':'QuerySoftMax'}\n",
    "\n",
    "groupwise_train_pool = build_multiclass_ranking_dataset(X_train, y_train, cat_features, [0,1])\n",
    "groupwise_eval_pool = build_multiclass_ranking_dataset(X_validation, y_validation, cat_features, [0,1], X_train.shape[0])\n",
    "\n",
    "model = CatBoost(params)\n",
    "model.fit(\n",
    "    X=groupwise_train_pool,\n",
    "    verbose=False,\n",
    "    eval_set=groupwise_eval_pool,\n",
    "#     plot=True\n",
    ")"
   ]
  },
  {
   "cell_type": "markdown",
   "metadata": {
    "id": "e_jOxVQC5Ohm"
   },
   "source": [
    "Making predictions with ranking mode"
   ]
  },
  {
   "cell_type": "code",
   "execution_count": 68,
   "metadata": {
    "id": "0LJ1_59F5Ohn",
    "outputId": "29213586-7da0-4ad2-b4b5-efa2b2599ff7"
   },
   "outputs": [
    {
     "name": "stdout",
     "output_type": "stream",
     "text": [
      "Raw values: [-0.471   0.4713]\n",
      "Probabilities [0.2804 0.7196]\n"
     ]
    }
   ],
   "source": [
    "import math\n",
    "\n",
    "obj = list(X_validation.values[0])\n",
    "ratings = []\n",
    "for label in [0,1]:\n",
    "    obj_with_label = deepcopy(obj)\n",
    "    obj_with_label.append(label)\n",
    "    rating = model.predict([obj_with_label])[0]\n",
    "    ratings.append(rating)\n",
    "print('Raw values:', np.array(ratings))\n",
    "\n",
    "def soft_max(values):\n",
    "    return [math.exp(val) / sum([math.exp(val) for val in values]) for val in values]\n",
    "\n",
    "print('Probabilities', np.array(soft_max(ratings)))"
   ]
  },
  {
   "cell_type": "markdown",
   "metadata": {
    "id": "Cq-I_WzD5Ohq"
   },
   "source": [
    "#### <b> Metric Evaluation on a New Dataset </b>"
   ]
  },
  {
   "cell_type": "markdown",
   "metadata": {
    "id": "8N4RMYRjShpg"
   },
   "source": [
    "Let us perform **Metric Evaluation** on a new dataset using the training data."
   ]
  },
  {
   "cell_type": "code",
   "execution_count": 69,
   "metadata": {
    "id": "uFDHHfJi5Ohr",
    "outputId": "21b31825-976c-4bcc-86f4-998030456ac9"
   },
   "outputs": [
    {
     "name": "stdout",
     "output_type": "stream",
     "text": [
      "0:\tlearn: 0.6569860\ttotal: 40.6ms\tremaining: 8.08s\n",
      "50:\tlearn: 0.1907871\ttotal: 1.04s\tremaining: 3.03s\n",
      "100:\tlearn: 0.1645125\ttotal: 2s\tremaining: 1.96s\n",
      "150:\tlearn: 0.1565519\ttotal: 3.02s\tremaining: 981ms\n",
      "199:\tlearn: 0.1533854\ttotal: 4.06s\tremaining: 0us\n"
     ]
    },
    {
     "data": {
      "text/plain": [
       "<catboost.core.CatBoostClassifier at 0x133ebe2c0>"
      ]
     },
     "execution_count": 69,
     "metadata": {},
     "output_type": "execute_result"
    }
   ],
   "source": [
    "model = CatBoostClassifier(\n",
    "    random_seed=63,\n",
    "    iterations=200,\n",
    "    learning_rate=0.03,\n",
    ")\n",
    "model.fit(\n",
    "    X_train, y_train,\n",
    "    cat_features=cat_features,\n",
    "    verbose=50\n",
    ")"
   ]
  },
  {
   "cell_type": "code",
   "execution_count": 70,
   "metadata": {
    "colab": {
     "referenced_widgets": [
      "d6422b8f754f4f00a51745e654eae249",
      "22b276b56dda46f999aec525cf70dfb1"
     ]
    },
    "id": "7taQUL7v5Ohu",
    "outputId": "deaf4ec5-ac17-4bf2-a292-5f260a27c847"
   },
   "outputs": [],
   "source": [
    "metrics = model.eval_metrics(\n",
    "    data=pool1,\n",
    "    metrics=['Logloss','AUC'],\n",
    "    ntree_start=0,\n",
    "    ntree_end=0,\n",
    "    eval_period=1,\n",
    "#     plot=True\n",
    ")"
   ]
  },
  {
   "cell_type": "code",
   "execution_count": 71,
   "metadata": {
    "id": "UD4ATFHB5Oh0",
    "outputId": "42a593e0-3a43-4e66-d510-6311634b77e2"
   },
   "outputs": [
    {
     "name": "stdout",
     "output_type": "stream",
     "text": [
      "AUC values:\n",
      "[0.4998 0.538  0.5504 0.5888 0.6536 0.6515 0.6476 0.648  0.7117 0.731\n",
      " 0.7277 0.7278 0.7299 0.7298 0.7275 0.7273 0.7336 0.735  0.7445 0.7606\n",
      " 0.7627 0.7627 0.7715 0.7699 0.7773 0.7824 0.7859 0.8067 0.818  0.846\n",
      " 0.8607 0.8651 0.874  0.8745 0.8797 0.8794 0.8964 0.8969 0.9042 0.9129\n",
      " 0.9154 0.916  0.9175 0.9197 0.9245 0.9253 0.9301 0.9298 0.9305 0.931\n",
      " 0.9316 0.9332 0.9333 0.9356 0.9361 0.938  0.9393 0.9392 0.9395 0.941\n",
      " 0.9417 0.9431 0.9433 0.9436 0.944  0.9452 0.9458 0.9458 0.9479 0.9492\n",
      " 0.9503 0.9509 0.9517 0.9527 0.9537 0.9541 0.955  0.9556 0.9559 0.9564\n",
      " 0.9574 0.958  0.9591 0.9598 0.9602 0.9606 0.961  0.9615 0.9621 0.9625\n",
      " 0.9629 0.9635 0.9641 0.9644 0.9646 0.965  0.9654 0.9657 0.9659 0.966\n",
      " 0.9662 0.9666 0.9668 0.9669 0.9673 0.9675 0.9677 0.9678 0.9679 0.9679\n",
      " 0.9681 0.9682 0.9682 0.9683 0.9684 0.9685 0.9686 0.9687 0.9687 0.9688\n",
      " 0.9688 0.9689 0.9689 0.9691 0.9692 0.9693 0.9693 0.9694 0.9694 0.9693\n",
      " 0.9694 0.9699 0.9704 0.9708 0.9712 0.9716 0.972  0.9721 0.9724 0.9724\n",
      " 0.9728 0.9731 0.9733 0.9736 0.9738 0.9738 0.9739 0.974  0.974  0.9742\n",
      " 0.9741 0.9744 0.9746 0.975  0.9751 0.9754 0.9756 0.9755 0.9759 0.9759\n",
      " 0.9762 0.9765 0.9765 0.9766 0.9767 0.9767 0.9768 0.9771 0.9771 0.9771\n",
      " 0.9772 0.9773 0.9775 0.9777 0.9777 0.9778 0.9779 0.9779 0.9779 0.9779\n",
      " 0.9779 0.9779 0.9779 0.9779 0.978  0.978  0.978  0.978  0.978  0.978\n",
      " 0.978  0.9783 0.9785 0.9785 0.9785 0.9785 0.9785 0.9785 0.9787 0.9788]\n"
     ]
    }
   ],
   "source": [
    "print('AUC values:')\n",
    "print(np.array(metrics['AUC']))"
   ]
  },
  {
   "cell_type": "markdown",
   "metadata": {
    "id": "UIVIjy4s5Oh3"
   },
   "source": [
    "#### <b> Feature Importances </b>"
   ]
  },
  {
   "cell_type": "markdown",
   "metadata": {
    "id": "ITnCQi5VNklo"
   },
   "source": [
    "<b> Feature importance </b> refers to techniques that assign a score to input features based on how useful they are at predicting a target variable."
   ]
  },
  {
   "cell_type": "code",
   "execution_count": 72,
   "metadata": {
    "id": "h62IP0nx5Oh4",
    "outputId": "21bd1304-8cc0-4417-a760-3779b695a739"
   },
   "outputs": [
    {
     "data": {
      "text/html": [
       "<div>\n",
       "<style scoped>\n",
       "    .dataframe tbody tr th:only-of-type {\n",
       "        vertical-align: middle;\n",
       "    }\n",
       "\n",
       "    .dataframe tbody tr th {\n",
       "        vertical-align: top;\n",
       "    }\n",
       "\n",
       "    .dataframe thead th {\n",
       "        text-align: right;\n",
       "    }\n",
       "</style>\n",
       "<table border=\"1\" class=\"dataframe\">\n",
       "  <thead>\n",
       "    <tr style=\"text-align: right;\">\n",
       "      <th></th>\n",
       "      <th>Feature Id</th>\n",
       "      <th>Importances</th>\n",
       "    </tr>\n",
       "  </thead>\n",
       "  <tbody>\n",
       "    <tr>\n",
       "      <th>0</th>\n",
       "      <td>RESOURCE</td>\n",
       "      <td>22.311819</td>\n",
       "    </tr>\n",
       "    <tr>\n",
       "      <th>1</th>\n",
       "      <td>MGR_ID</td>\n",
       "      <td>18.121045</td>\n",
       "    </tr>\n",
       "    <tr>\n",
       "      <th>2</th>\n",
       "      <td>ROLE_DEPTNAME</td>\n",
       "      <td>14.891573</td>\n",
       "    </tr>\n",
       "    <tr>\n",
       "      <th>3</th>\n",
       "      <td>ROLE_ROLLUP_2</td>\n",
       "      <td>12.310360</td>\n",
       "    </tr>\n",
       "    <tr>\n",
       "      <th>4</th>\n",
       "      <td>ROLE_CODE</td>\n",
       "      <td>10.388989</td>\n",
       "    </tr>\n",
       "    <tr>\n",
       "      <th>5</th>\n",
       "      <td>ROLE_FAMILY_DESC</td>\n",
       "      <td>9.144182</td>\n",
       "    </tr>\n",
       "    <tr>\n",
       "      <th>6</th>\n",
       "      <td>ROLE_TITLE</td>\n",
       "      <td>6.402628</td>\n",
       "    </tr>\n",
       "    <tr>\n",
       "      <th>7</th>\n",
       "      <td>ROLE_FAMILY</td>\n",
       "      <td>4.649123</td>\n",
       "    </tr>\n",
       "    <tr>\n",
       "      <th>8</th>\n",
       "      <td>ROLE_ROLLUP_1</td>\n",
       "      <td>1.780282</td>\n",
       "    </tr>\n",
       "  </tbody>\n",
       "</table>\n",
       "</div>"
      ],
      "text/plain": [
       "         Feature Id  Importances\n",
       "0          RESOURCE    22.311819\n",
       "1            MGR_ID    18.121045\n",
       "2     ROLE_DEPTNAME    14.891573\n",
       "3     ROLE_ROLLUP_2    12.310360\n",
       "4         ROLE_CODE    10.388989\n",
       "5  ROLE_FAMILY_DESC     9.144182\n",
       "6        ROLE_TITLE     6.402628\n",
       "7       ROLE_FAMILY     4.649123\n",
       "8     ROLE_ROLLUP_1     1.780282"
      ]
     },
     "execution_count": 72,
     "metadata": {},
     "output_type": "execute_result"
    }
   ],
   "source": [
    "#To find feature importance\n",
    "model.get_feature_importance(prettified=True)"
   ]
  },
  {
   "cell_type": "markdown",
   "metadata": {
    "id": "837_z1K8Nklp"
   },
   "source": [
    "Scores are assigned to the input features."
   ]
  },
  {
   "cell_type": "markdown",
   "metadata": {
    "id": "kj1c82tM5OiP"
   },
   "source": [
    "#### <b> Feature Evaluation </b>"
   ]
  },
  {
   "cell_type": "markdown",
   "metadata": {
    "id": "EtDVXC7IShph"
   },
   "source": [
    "Let us perform feature evaluation using the **eval_features( )** function."
   ]
  },
  {
   "cell_type": "code",
   "execution_count": 73,
   "metadata": {
    "id": "spKLWsNT5OiT",
    "outputId": "cbb7fcea-a18a-4691-8f35-cef203c6f9f3"
   },
   "outputs": [
    {
     "name": "stderr",
     "output_type": "stream",
     "text": [
      "/usr/local/lib/python3.10/site-packages/catboost/eval/evaluation_result.py:93: FutureWarning: The default dtype for empty Series will be 'object' instead of 'float64' in a future version. Specify a dtype explicitly to silence this warning.\n",
      "  self._fold_metric = pd.Series()\n",
      "/usr/local/lib/python3.10/site-packages/catboost/eval/evaluation_result.py:94: FutureWarning: The default dtype for empty Series will be 'object' instead of 'float64' in a future version. Specify a dtype explicitly to silence this warning.\n",
      "  self._fold_metric_iteration = pd.Series()\n",
      "/usr/local/lib/python3.10/site-packages/catboost/eval/evaluation_result.py:93: FutureWarning: The default dtype for empty Series will be 'object' instead of 'float64' in a future version. Specify a dtype explicitly to silence this warning.\n",
      "  self._fold_metric = pd.Series()\n",
      "/usr/local/lib/python3.10/site-packages/catboost/eval/evaluation_result.py:94: FutureWarning: The default dtype for empty Series will be 'object' instead of 'float64' in a future version. Specify a dtype explicitly to silence this warning.\n",
      "  self._fold_metric_iteration = pd.Series()\n",
      "/usr/local/lib/python3.10/site-packages/catboost/eval/evaluation_result.py:93: FutureWarning: The default dtype for empty Series will be 'object' instead of 'float64' in a future version. Specify a dtype explicitly to silence this warning.\n",
      "  self._fold_metric = pd.Series()\n",
      "/usr/local/lib/python3.10/site-packages/catboost/eval/evaluation_result.py:94: FutureWarning: The default dtype for empty Series will be 'object' instead of 'float64' in a future version. Specify a dtype explicitly to silence this warning.\n",
      "  self._fold_metric_iteration = pd.Series()\n",
      "/usr/local/lib/python3.10/site-packages/catboost/eval/evaluation_result.py:93: FutureWarning: The default dtype for empty Series will be 'object' instead of 'float64' in a future version. Specify a dtype explicitly to silence this warning.\n",
      "  self._fold_metric = pd.Series()\n",
      "/usr/local/lib/python3.10/site-packages/catboost/eval/evaluation_result.py:94: FutureWarning: The default dtype for empty Series will be 'object' instead of 'float64' in a future version. Specify a dtype explicitly to silence this warning.\n",
      "  self._fold_metric_iteration = pd.Series()\n",
      "/usr/local/lib/python3.10/site-packages/catboost/eval/evaluation_result.py:93: FutureWarning: The default dtype for empty Series will be 'object' instead of 'float64' in a future version. Specify a dtype explicitly to silence this warning.\n",
      "  self._fold_metric = pd.Series()\n",
      "/usr/local/lib/python3.10/site-packages/catboost/eval/evaluation_result.py:94: FutureWarning: The default dtype for empty Series will be 'object' instead of 'float64' in a future version. Specify a dtype explicitly to silence this warning.\n",
      "  self._fold_metric_iteration = pd.Series()\n",
      "/usr/local/lib/python3.10/site-packages/catboost/eval/evaluation_result.py:93: FutureWarning: The default dtype for empty Series will be 'object' instead of 'float64' in a future version. Specify a dtype explicitly to silence this warning.\n",
      "  self._fold_metric = pd.Series()\n",
      "/usr/local/lib/python3.10/site-packages/catboost/eval/evaluation_result.py:94: FutureWarning: The default dtype for empty Series will be 'object' instead of 'float64' in a future version. Specify a dtype explicitly to silence this warning.\n",
      "  self._fold_metric_iteration = pd.Series()\n",
      "/usr/local/lib/python3.10/site-packages/catboost/eval/evaluation_result.py:93: FutureWarning: The default dtype for empty Series will be 'object' instead of 'float64' in a future version. Specify a dtype explicitly to silence this warning.\n",
      "  self._fold_metric = pd.Series()\n",
      "/usr/local/lib/python3.10/site-packages/catboost/eval/evaluation_result.py:94: FutureWarning: The default dtype for empty Series will be 'object' instead of 'float64' in a future version. Specify a dtype explicitly to silence this warning.\n",
      "  self._fold_metric_iteration = pd.Series()\n",
      "/usr/local/lib/python3.10/site-packages/catboost/eval/evaluation_result.py:93: FutureWarning: The default dtype for empty Series will be 'object' instead of 'float64' in a future version. Specify a dtype explicitly to silence this warning.\n",
      "  self._fold_metric = pd.Series()\n",
      "/usr/local/lib/python3.10/site-packages/catboost/eval/evaluation_result.py:94: FutureWarning: The default dtype for empty Series will be 'object' instead of 'float64' in a future version. Specify a dtype explicitly to silence this warning.\n",
      "  self._fold_metric_iteration = pd.Series()\n"
     ]
    },
    {
     "data": {
      "text/html": [
       "<div>\n",
       "<style scoped>\n",
       "    .dataframe tbody tr th:only-of-type {\n",
       "        vertical-align: middle;\n",
       "    }\n",
       "\n",
       "    .dataframe tbody tr th {\n",
       "        vertical-align: top;\n",
       "    }\n",
       "\n",
       "    .dataframe thead th {\n",
       "        text-align: right;\n",
       "    }\n",
       "</style>\n",
       "<table border=\"1\" class=\"dataframe\">\n",
       "  <thead>\n",
       "    <tr style=\"text-align: right;\">\n",
       "      <th></th>\n",
       "      <th>PValue</th>\n",
       "      <th>Score</th>\n",
       "      <th>Quantile 0.005</th>\n",
       "      <th>Quantile 0.995</th>\n",
       "      <th>Decision</th>\n",
       "    </tr>\n",
       "  </thead>\n",
       "  <tbody>\n",
       "    <tr>\n",
       "      <th>Features: 6</th>\n",
       "      <td>0.000189</td>\n",
       "      <td>1.010962</td>\n",
       "      <td>0.604661</td>\n",
       "      <td>1.466826</td>\n",
       "      <td>GOOD</td>\n",
       "    </tr>\n",
       "    <tr>\n",
       "      <th>Features: 7</th>\n",
       "      <td>0.681322</td>\n",
       "      <td>-0.033237</td>\n",
       "      <td>-0.331671</td>\n",
       "      <td>0.328593</td>\n",
       "      <td>UNKNOWN</td>\n",
       "    </tr>\n",
       "    <tr>\n",
       "      <th>Features: 8</th>\n",
       "      <td>0.005111</td>\n",
       "      <td>-0.439271</td>\n",
       "      <td>-0.780469</td>\n",
       "      <td>-0.083621</td>\n",
       "      <td>BAD</td>\n",
       "    </tr>\n",
       "  </tbody>\n",
       "</table>\n",
       "</div>"
      ],
      "text/plain": [
       "               PValue     Score  Quantile 0.005  Quantile 0.995 Decision\n",
       "Features: 6  0.000189  1.010962        0.604661        1.466826     GOOD\n",
       "Features: 7  0.681322 -0.033237       -0.331671        0.328593  UNKNOWN\n",
       "Features: 8  0.005111 -0.439271       -0.780469       -0.083621      BAD"
      ]
     },
     "execution_count": 73,
     "metadata": {},
     "output_type": "execute_result"
    }
   ],
   "source": [
    "from catboost.eval.catboost_evaluation import *\n",
    "learn_params = {'iterations': 20, # 2000\n",
    "                'learning_rate': 0.5, #we set big learning_rate, because we have small iterations\n",
    "                'random_seed': 0,\n",
    "                'verbose': False,\n",
    "                'loss_function' : 'Logloss',\n",
    "                'boosting_type': 'Plain'}\n",
    "evaluator = CatboostEvaluation('amazon/train.tsv',\n",
    "                               fold_size=10000, #<= 50% of dataset\n",
    "                               fold_count=20,\n",
    "                               column_description='amazon/train.cd',\n",
    "                               partition_random_seed=0,\n",
    "                               #working_dir=... \n",
    ")\n",
    "result = evaluator.eval_features(learn_config=learn_params,\n",
    "                                 eval_metrics=['Logloss', 'Accuracy'],\n",
    "                                 features_to_eval=[6, 7, 8])\n",
    "\n",
    "from catboost.eval.evaluation_result import *\n",
    "logloss_result = result.get_metric_results('Logloss')\n",
    "logloss_result.get_baseline_comparison(\n",
    "    ScoreConfig(ScoreType.Rel, overfit_iterations_info=False)\n",
    ")"
   ]
  },
  {
   "cell_type": "markdown",
   "metadata": {
    "id": "UcZJ4fdD5OiX"
   },
   "source": [
    "#### <b> Saving the Model </b>"
   ]
  },
  {
   "cell_type": "code",
   "execution_count": 74,
   "metadata": {
    "id": "Xglg7jcd5OiX"
   },
   "outputs": [],
   "source": [
    "my_best_model = CatBoostClassifier(iterations=10)\n",
    "my_best_model.fit(\n",
    "    X_train, y_train,\n",
    "    eval_set=(X_validation, y_validation),\n",
    "    cat_features=cat_features,\n",
    "    verbose=False\n",
    ")\n",
    "my_best_model.save_model('catboost_model.bin')\n",
    "my_best_model.save_model('catboost_model.json', format='json')"
   ]
  },
  {
   "cell_type": "code",
   "execution_count": 75,
   "metadata": {
    "id": "IgMDZPUH5Oi6",
    "outputId": "363c4aa5-05da-4016-d67f-526b25d6f73f"
   },
   "outputs": [
    {
     "name": "stdout",
     "output_type": "stream",
     "text": [
      "{'iterations': 10, 'loss_function': 'Logloss', 'verbose': 0}\n",
      "0\n"
     ]
    }
   ],
   "source": [
    "my_best_model.load_model('catboost_model.bin')\n",
    "print(my_best_model.get_params())\n",
    "print(my_best_model.random_seed_)"
   ]
  },
  {
   "cell_type": "markdown",
   "metadata": {
    "id": "0aAqAHuV5Oi9"
   },
   "source": [
    "### **Hyperparameter Tunning**"
   ]
  },
  {
   "cell_type": "markdown",
   "metadata": {
    "id": "_D23SEkMNklp"
   },
   "source": [
    "Hyperparameter tuning is the process of determining the right combination of hyperparameters that allows the model to maximize model performance. Setting the correct combination of hyperparameters is the only way to extract the maximum performance out of models."
   ]
  },
  {
   "cell_type": "markdown",
   "metadata": {
    "id": "GzuTd82i5Oi9"
   },
   "source": [
    "#### <b> Training Speed </b>"
   ]
  },
  {
   "cell_type": "code",
   "execution_count": 77,
   "metadata": {
    "colab": {
     "referenced_widgets": [
      "5919aaf4ce58490d8010972c0d27e2d9",
      "76030f163f7c44199cbae12b33a3b1e3"
     ]
    },
    "id": "U9T_sgtS5Oi9",
    "outputId": "eb7b6801-1b60-4dc5-8320-9d35d28c1f7d"
   },
   "outputs": [
    {
     "data": {
      "text/plain": [
       "<catboost.core.CatBoostClassifier at 0x133ebc160>"
      ]
     },
     "execution_count": 77,
     "metadata": {},
     "output_type": "execute_result"
    }
   ],
   "source": [
    "from catboost import CatBoost\n",
    "fast_model = CatBoostClassifier(\n",
    "    random_seed=63,\n",
    "    iterations=150,\n",
    "    learning_rate=0.01,\n",
    "    boosting_type='Plain',\n",
    "    bootstrap_type='Bernoulli',\n",
    "    subsample=0.5,\n",
    "    one_hot_max_size=20,\n",
    "    rsm=0.5,\n",
    "    leaf_estimation_iterations=5,\n",
    "    max_ctr_complexity=1)\n",
    "\n",
    "fast_model.fit(\n",
    "    X_train, y_train,\n",
    "    cat_features=cat_features,\n",
    "    verbose=False,\n",
    "#     plot=True\n",
    ")"
   ]
  },
  {
   "cell_type": "markdown",
   "metadata": {
    "id": "dJ4Q2M3S5OjB"
   },
   "source": [
    "#### <b> Accuracy </b>"
   ]
  },
  {
   "cell_type": "code",
   "execution_count": 78,
   "metadata": {
    "colab": {
     "referenced_widgets": [
      "a753f2a03cd64448969399ae15bf5f8e",
      "ef0114e102ed4ff694f884264ec7d64d"
     ]
    },
    "id": "6AHvnAq95OjB",
    "outputId": "50e8d209-c8dd-420f-ce47-3768cd0986a9"
   },
   "outputs": [
    {
     "data": {
      "text/plain": [
       "<catboost.core.CatBoostClassifier at 0x133ebe800>"
      ]
     },
     "execution_count": 78,
     "metadata": {},
     "output_type": "execute_result"
    }
   ],
   "source": [
    "tunned_model = CatBoostClassifier(\n",
    "    random_seed=63,\n",
    "    iterations=1000,\n",
    "    learning_rate=0.03,\n",
    "    l2_leaf_reg=3,\n",
    "    bagging_temperature=1,\n",
    "    random_strength=1,\n",
    "    one_hot_max_size=2,\n",
    "    leaf_estimation_method='Newton'\n",
    ")\n",
    "tunned_model.fit(\n",
    "    X_train, y_train,\n",
    "    cat_features=cat_features,\n",
    "    verbose=False,\n",
    "    eval_set=(X_validation, y_validation),\n",
    "#     plot=True\n",
    ")"
   ]
  },
  {
   "cell_type": "markdown",
   "metadata": {
    "id": "ICXlZNSk5OjE"
   },
   "source": [
    "#### <b> Training the Model after Parameter Tuning </b>"
   ]
  },
  {
   "cell_type": "code",
   "execution_count": 79,
   "metadata": {
    "id": "cNRcMeN65OjF",
    "outputId": "fd5992b7-15e8-4219-9efc-7ca073977848"
   },
   "outputs": [
    {
     "name": "stdout",
     "output_type": "stream",
     "text": [
      "Learning rate set to 0.040343\n",
      "0:\tlearn: 0.6456466\ttotal: 12.8ms\tremaining: 14.6s\n",
      "100:\tlearn: 0.1534434\ttotal: 2.42s\tremaining: 25.1s\n",
      "200:\tlearn: 0.1466718\ttotal: 4.79s\tremaining: 22.5s\n",
      "300:\tlearn: 0.1430361\ttotal: 7.32s\tremaining: 20.5s\n",
      "400:\tlearn: 0.1399976\ttotal: 9.73s\tremaining: 18.1s\n",
      "500:\tlearn: 0.1372704\ttotal: 12.6s\tremaining: 16.2s\n",
      "600:\tlearn: 0.1341051\ttotal: 15.3s\tremaining: 13.9s\n",
      "700:\tlearn: 0.1313257\ttotal: 19s\tremaining: 12s\n",
      "800:\tlearn: 0.1285775\ttotal: 21.5s\tremaining: 9.24s\n",
      "900:\tlearn: 0.1263064\ttotal: 24.1s\tremaining: 6.56s\n",
      "1000:\tlearn: 0.1238298\ttotal: 26.7s\tremaining: 3.87s\n",
      "1100:\tlearn: 0.1212612\ttotal: 29.2s\tremaining: 1.2s\n",
      "1145:\tlearn: 0.1200895\ttotal: 30.5s\tremaining: 0us\n"
     ]
    },
    {
     "data": {
      "text/plain": [
       "<catboost.core.CatBoostClassifier at 0x133ebf220>"
      ]
     },
     "execution_count": 79,
     "metadata": {},
     "output_type": "execute_result"
    }
   ],
   "source": [
    "best_model = CatBoostClassifier(\n",
    "    random_seed=63,\n",
    "    iterations=int(tunned_model.tree_count_ * 1.2),\n",
    ")\n",
    "best_model.fit(\n",
    "    X, y,\n",
    "    cat_features=cat_features,\n",
    "    verbose=100\n",
    ")"
   ]
  },
  {
   "cell_type": "markdown",
   "metadata": {
    "id": "qW0i-lul5OjI"
   },
   "source": [
    "#### <b> Calculate Prediction </b>"
   ]
  },
  {
   "cell_type": "code",
   "execution_count": 80,
   "metadata": {
    "id": "hIfCEu-b5OjJ",
    "outputId": "35628d37-1425-4140-8ce3-3028339f7649"
   },
   "outputs": [
    {
     "name": "stdout",
     "output_type": "stream",
     "text": [
      "Predictions:\n",
      "[[0.4509 0.5491]\n",
      " [0.0131 0.9869]\n",
      " [0.0118 0.9882]\n",
      " ...\n",
      " [0.0053 0.9947]\n",
      " [0.04   0.96  ]\n",
      " [0.0118 0.9882]]\n"
     ]
    }
   ],
   "source": [
    "#Let us calculate contest predictions\n",
    "X_test = test_df.drop('id', axis=1)\n",
    "test_pool = Pool(data=X_test, cat_features=cat_features)\n",
    "contest_predictions = best_model.predict_proba(test_pool)\n",
    "print('Predictions:')\n",
    "print(contest_predictions)"
   ]
  },
  {
   "cell_type": "markdown",
   "metadata": {
    "id": "vnyu4ovB5OjL"
   },
   "source": [
    "### <b>Voting Ensemble</b>\n",
    "\n",
    "Voting is one of the simplest ways of combining the predictions from multiple machine learning algorithms.\n",
    "\n",
    "It works by first creating two or more standalone models from your training dataset. A Voting Classifier can then be used to wrap your models and average the predictions of the submodels when asked to make predictions for new data.\n",
    "\n",
    "The predictions of the submodels can be weighted, but specifying the weights for classifiers manually or even heuristically is difficult. More advanced methods can learn how to best weight the predictions from submodels, but this is called stacking (stacked generalization) and is currently not provided in scikit-learn.\n",
    "\n",
    "You can create a voting ensemble model for classification using the **VotingClassifier** class.\n",
    "\n",
    "The code below provides an example of combining the predictions of logistic regression, classification, and regression trees and support vector machines together for a classification problem.\n"
   ]
  },
  {
   "cell_type": "code",
   "execution_count": 83,
   "metadata": {
    "id": "wmMBPdN58cMW",
    "outputId": "ca81f02d-ec1a-46b1-a6b0-20c5c47cd309"
   },
   "outputs": [
    {
     "name": "stdout",
     "output_type": "stream",
     "text": [
      "[('logistic', LogisticRegression()), ('cart', DecisionTreeClassifier()), ('svm', SVC())]\n"
     ]
    },
    {
     "name": "stderr",
     "output_type": "stream",
     "text": [
      "/usr/local/lib/python3.10/site-packages/sklearn/linear_model/_logistic.py:444: ConvergenceWarning: lbfgs failed to converge (status=1):\n",
      "STOP: TOTAL NO. of ITERATIONS REACHED LIMIT.\n",
      "\n",
      "Increase the number of iterations (max_iter) or scale the data as shown in:\n",
      "    https://scikit-learn.org/stable/modules/preprocessing.html\n",
      "Please also refer to the documentation for alternative solver options:\n",
      "    https://scikit-learn.org/stable/modules/linear_model.html#logistic-regression\n",
      "  n_iter_i = _check_optimize_result(\n",
      "/usr/local/lib/python3.10/site-packages/sklearn/linear_model/_logistic.py:444: ConvergenceWarning: lbfgs failed to converge (status=1):\n",
      "STOP: TOTAL NO. of ITERATIONS REACHED LIMIT.\n",
      "\n",
      "Increase the number of iterations (max_iter) or scale the data as shown in:\n",
      "    https://scikit-learn.org/stable/modules/preprocessing.html\n",
      "Please also refer to the documentation for alternative solver options:\n",
      "    https://scikit-learn.org/stable/modules/linear_model.html#logistic-regression\n",
      "  n_iter_i = _check_optimize_result(\n",
      "/usr/local/lib/python3.10/site-packages/sklearn/linear_model/_logistic.py:444: ConvergenceWarning: lbfgs failed to converge (status=1):\n",
      "STOP: TOTAL NO. of ITERATIONS REACHED LIMIT.\n",
      "\n",
      "Increase the number of iterations (max_iter) or scale the data as shown in:\n",
      "    https://scikit-learn.org/stable/modules/preprocessing.html\n",
      "Please also refer to the documentation for alternative solver options:\n",
      "    https://scikit-learn.org/stable/modules/linear_model.html#logistic-regression\n",
      "  n_iter_i = _check_optimize_result(\n",
      "/usr/local/lib/python3.10/site-packages/sklearn/linear_model/_logistic.py:444: ConvergenceWarning: lbfgs failed to converge (status=1):\n",
      "STOP: TOTAL NO. of ITERATIONS REACHED LIMIT.\n",
      "\n",
      "Increase the number of iterations (max_iter) or scale the data as shown in:\n",
      "    https://scikit-learn.org/stable/modules/preprocessing.html\n",
      "Please also refer to the documentation for alternative solver options:\n",
      "    https://scikit-learn.org/stable/modules/linear_model.html#logistic-regression\n",
      "  n_iter_i = _check_optimize_result(\n",
      "/usr/local/lib/python3.10/site-packages/sklearn/linear_model/_logistic.py:444: ConvergenceWarning: lbfgs failed to converge (status=1):\n",
      "STOP: TOTAL NO. of ITERATIONS REACHED LIMIT.\n",
      "\n",
      "Increase the number of iterations (max_iter) or scale the data as shown in:\n",
      "    https://scikit-learn.org/stable/modules/preprocessing.html\n",
      "Please also refer to the documentation for alternative solver options:\n",
      "    https://scikit-learn.org/stable/modules/linear_model.html#logistic-regression\n",
      "  n_iter_i = _check_optimize_result(\n",
      "/usr/local/lib/python3.10/site-packages/sklearn/linear_model/_logistic.py:444: ConvergenceWarning: lbfgs failed to converge (status=1):\n",
      "STOP: TOTAL NO. of ITERATIONS REACHED LIMIT.\n",
      "\n",
      "Increase the number of iterations (max_iter) or scale the data as shown in:\n",
      "    https://scikit-learn.org/stable/modules/preprocessing.html\n",
      "Please also refer to the documentation for alternative solver options:\n",
      "    https://scikit-learn.org/stable/modules/linear_model.html#logistic-regression\n",
      "  n_iter_i = _check_optimize_result(\n"
     ]
    },
    {
     "name": "stdout",
     "output_type": "stream",
     "text": [
      "[0.6494 0.8052 0.7143 0.6623 0.7792 0.8052 0.8442 0.8442 0.7368 0.7632]\n",
      "0.7603896103896104\n"
     ]
    },
    {
     "name": "stderr",
     "output_type": "stream",
     "text": [
      "/usr/local/lib/python3.10/site-packages/sklearn/linear_model/_logistic.py:444: ConvergenceWarning: lbfgs failed to converge (status=1):\n",
      "STOP: TOTAL NO. of ITERATIONS REACHED LIMIT.\n",
      "\n",
      "Increase the number of iterations (max_iter) or scale the data as shown in:\n",
      "    https://scikit-learn.org/stable/modules/preprocessing.html\n",
      "Please also refer to the documentation for alternative solver options:\n",
      "    https://scikit-learn.org/stable/modules/linear_model.html#logistic-regression\n",
      "  n_iter_i = _check_optimize_result(\n",
      "/usr/local/lib/python3.10/site-packages/sklearn/linear_model/_logistic.py:444: ConvergenceWarning: lbfgs failed to converge (status=1):\n",
      "STOP: TOTAL NO. of ITERATIONS REACHED LIMIT.\n",
      "\n",
      "Increase the number of iterations (max_iter) or scale the data as shown in:\n",
      "    https://scikit-learn.org/stable/modules/preprocessing.html\n",
      "Please also refer to the documentation for alternative solver options:\n",
      "    https://scikit-learn.org/stable/modules/linear_model.html#logistic-regression\n",
      "  n_iter_i = _check_optimize_result(\n",
      "/usr/local/lib/python3.10/site-packages/sklearn/linear_model/_logistic.py:444: ConvergenceWarning: lbfgs failed to converge (status=1):\n",
      "STOP: TOTAL NO. of ITERATIONS REACHED LIMIT.\n",
      "\n",
      "Increase the number of iterations (max_iter) or scale the data as shown in:\n",
      "    https://scikit-learn.org/stable/modules/preprocessing.html\n",
      "Please also refer to the documentation for alternative solver options:\n",
      "    https://scikit-learn.org/stable/modules/linear_model.html#logistic-regression\n",
      "  n_iter_i = _check_optimize_result(\n",
      "/usr/local/lib/python3.10/site-packages/sklearn/linear_model/_logistic.py:444: ConvergenceWarning: lbfgs failed to converge (status=1):\n",
      "STOP: TOTAL NO. of ITERATIONS REACHED LIMIT.\n",
      "\n",
      "Increase the number of iterations (max_iter) or scale the data as shown in:\n",
      "    https://scikit-learn.org/stable/modules/preprocessing.html\n",
      "Please also refer to the documentation for alternative solver options:\n",
      "    https://scikit-learn.org/stable/modules/linear_model.html#logistic-regression\n",
      "  n_iter_i = _check_optimize_result(\n"
     ]
    }
   ],
   "source": [
    "#Voting Ensemble for Classification\n",
    "import pandas\n",
    "from sklearn import model_selection\n",
    "from sklearn.linear_model import LogisticRegression\n",
    "from sklearn.tree import DecisionTreeClassifier\n",
    "from sklearn.svm import SVC\n",
    "from sklearn.ensemble import VotingClassifier\n",
    "\n",
    "url = \"https://raw.githubusercontent.com/jbrownlee/Datasets/master/pima-indians-diabetes.data.csv\"\n",
    "names = ['preg', 'plas', 'pres', 'skin', 'test', 'mass', 'pedi', 'age', 'class']\n",
    "dataframe = pandas.read_csv(url, names=names)\n",
    "\n",
    "array = dataframe.values\n",
    "X = array[:,0:8]\n",
    "Y = array[:,8]\n",
    "seed = 7\n",
    "kfold = model_selection.KFold(n_splits=10)\n",
    "\n",
    "#Create the sub models\n",
    "estimators = []\n",
    "model1 = LogisticRegression()\n",
    "estimators.append(('logistic', model1))\n",
    "model2 = DecisionTreeClassifier()\n",
    "estimators.append(('cart', model2))\n",
    "model3 = SVC()\n",
    "estimators.append(('svm', model3))\n",
    "print(estimators)\n",
    "\n",
    "#Create the ensemble model\n",
    "ensemble = VotingClassifier(estimators)\n",
    "results = model_selection.cross_val_score(ensemble, X, Y, cv=kfold)\n",
    "print(results)\n",
    "print(results.mean())"
   ]
  },
  {
   "cell_type": "markdown",
   "metadata": {
    "id": "3xKjDdV7WeLM"
   },
   "source": [
    "**Note: In this lesson, we saw the use of the ensemble learning methods, and in the next lesson, we will be working on Recommender Systems.**"
   ]
  },
  {
   "cell_type": "markdown",
   "metadata": {
    "id": "x5yqWygG8lPX"
   },
   "source": [
    "![Simplilearn_Logo](https://labcontent.simplicdn.net/data-content/content-assets/Data_and_AI/Logo_Powered_By_Simplilearn/SL_Logo_1.png)"
   ]
  }
 ],
 "metadata": {
  "colab": {
   "collapsed_sections": [],
   "name": "7.01_Ensemble_Learning.ipynb",
   "provenance": []
  },
  "kernelspec": {
   "display_name": "Python 3 (ipykernel)",
   "language": "python",
   "name": "python3"
  },
  "language_info": {
   "codemirror_mode": {
    "name": "ipython",
    "version": 3
   },
   "file_extension": ".py",
   "mimetype": "text/x-python",
   "name": "python",
   "nbconvert_exporter": "python",
   "pygments_lexer": "ipython3",
   "version": "3.10.8"
  }
 },
 "nbformat": 4,
 "nbformat_minor": 4
}
