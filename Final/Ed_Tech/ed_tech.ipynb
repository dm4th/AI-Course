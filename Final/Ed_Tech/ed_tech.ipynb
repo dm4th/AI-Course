{
 "cells": [
  {
   "cell_type": "code",
   "execution_count": null,
   "metadata": {},
   "outputs": [],
   "source": []
  },
  {
   "attachments": {},
   "cell_type": "markdown",
   "metadata": {},
   "source": [
    "# Outline\n",
    "\n",
    "Project Task: Week 1\n",
    "\n",
    "Video Segmentation: \n",
    "\n",
    "1. The first task is to divide the video into keyframes using Uniform Time Sampling followed by clustering.\n",
    "\n",
    " Uniform Time Sampling\n",
    "Identify a suitable time interval for each video by analyzing each video individually. Divide the video into multiple equally spaced segments using this time interval. Within each segment, select one or more keyframes by clustering on individual frames in each segment.\n",
    "E.g., initially take one minute as a time interval and divide the video into 1-minute segments. Now, within each segment, select one or more keyframes using clustering on video frames.\n",
    "\n",
    " \n",
    "\n",
    "Project Task: Week 2\n",
    "\n",
    "Assessment of Instructor Presence and Interaction:\n",
    "\n",
    "Time: Identify the fraction of the amount of time the Instructor is \"visible\" over total video length. Also, identify, whether the instructor is present on the whole screen or a part of the video frame (PIP).\n",
    "Interaction of Instructor: Identify body movements (e.g., full-body, face, hands, etc.).\n",
    "Assessment of the use of blackboard, slides:\n",
    "\n",
    "Identify whether the instructor has used blackboard or slides or a combination of both in the video. Also, identify the fraction of time each of the teaching aids is used.\n",
    "If instructors have used slides, determine if the instructor has put too much text in one slide.\n",
    " \n",
    "\n",
    "Project Task: Week 3\n",
    "\n",
    "\n",
    "Youtube comments and reply sentiments detection and Analysis using Youtube API v3\n",
    "\n",
    "Using Youtube Data API v3, extract comments (and replies to comments) for each video.\n",
    "Classify comments (and their replies) as one of the categories: neutral comment, positive comment, negative comment, or a question.\n",
    " \n",
    "\n",
    "The combined output of all tasks may have the following information:\n",
    "\n",
    "Playlist ID:\n",
    "Video ID:\n",
    "Video Title:\n",
    "Total Duration (in hh:mm:ss)\n",
    "Number of Segments, Number of Keyframes, Timing of each keyframe\n",
    "Instructor Presence\n",
    "The total time when the instructor is present (mm:ss)\n",
    "Body movement (Y/N)\n",
    "Use of Slides (mm:ss), Use of Blackboard (mm:ss)\n",
    "Average fraction of text on slides w.r.t. total slide area\n",
    "Number of Total Comments, Number of Positive comments, Number of Negative comments, Number of questions\n",
    " \n",
    "\n",
    "Project Task: Week 4\n",
    "\n",
    "Deployment In Sagemaker\n",
    "\n",
    " \n",
    "\n",
    "Take the comment datasets that have been generated from the last tasks\n",
    "Split the data in train and test\n",
    " Use predefined inbuilt xgboost model to train in container\n",
    "Train the model using sagemaker estimator\n",
    "Deploy the model using sagemaker estimator"
   ]
  },
  {
   "cell_type": "code",
   "execution_count": 11,
   "metadata": {},
   "outputs": [],
   "source": [
    "# Load needed modules\n",
    "import pandas as pd\n",
    "import numpy as np\n",
    "import matplotlib.pyplot as plt\n",
    "import seaborn as sns\n",
    "import os\n",
    "\n",
    "# Import video libraries\n",
    "import cv2\n",
    "from yt_dlp import YoutubeDL\n",
    "\n",
    "# Set plot style\n",
    "plt.style.use('ggplot')"
   ]
  },
  {
   "cell_type": "code",
   "execution_count": 3,
   "metadata": {},
   "outputs": [],
   "source": [
    "# Load data\n",
    "df_ai = pd.read_csv('datasets/nptel_ai/metadata2.csv')\n",
    "df_ml = pd.read_csv('datasets/nptel_ml/metadata2.csv')\n",
    "\n",
    "# Combine data\n",
    "df = pd.concat([df_ai, df_ml], ignore_index=True)"
   ]
  },
  {
   "cell_type": "code",
   "execution_count": 4,
   "metadata": {},
   "outputs": [
    {
     "data": {
      "text/html": [
       "<div>\n",
       "<style scoped>\n",
       "    .dataframe tbody tr th:only-of-type {\n",
       "        vertical-align: middle;\n",
       "    }\n",
       "\n",
       "    .dataframe tbody tr th {\n",
       "        vertical-align: top;\n",
       "    }\n",
       "\n",
       "    .dataframe thead th {\n",
       "        text-align: right;\n",
       "    }\n",
       "</style>\n",
       "<table border=\"1\" class=\"dataframe\">\n",
       "  <thead>\n",
       "    <tr style=\"text-align: right;\">\n",
       "      <th></th>\n",
       "      <th>VideoID</th>\n",
       "      <th>PlayListID</th>\n",
       "      <th>Title</th>\n",
       "    </tr>\n",
       "  </thead>\n",
       "  <tbody>\n",
       "    <tr>\n",
       "      <th>0</th>\n",
       "      <td>zWg7U0OEAoE</td>\n",
       "      <td>PLJ5C_6qdAvBFfF7qtFi8Pv_RK8x55jsUQ</td>\n",
       "      <td>How to Learn and Follow the Course</td>\n",
       "    </tr>\n",
       "    <tr>\n",
       "      <th>1</th>\n",
       "      <td>BRMS3T11Cdw</td>\n",
       "      <td>PL3pGy4HtqwD2a57wl7Cl7tmfxfk7JWJ9Y</td>\n",
       "      <td>Introduction</td>\n",
       "    </tr>\n",
       "  </tbody>\n",
       "</table>\n",
       "</div>"
      ],
      "text/plain": [
       "       VideoID                          PlayListID  \\\n",
       "0  zWg7U0OEAoE  PLJ5C_6qdAvBFfF7qtFi8Pv_RK8x55jsUQ   \n",
       "1  BRMS3T11Cdw  PL3pGy4HtqwD2a57wl7Cl7tmfxfk7JWJ9Y   \n",
       "\n",
       "                                Title  \n",
       "0  How to Learn and Follow the Course  \n",
       "1                        Introduction  "
      ]
     },
     "execution_count": 4,
     "metadata": {},
     "output_type": "execute_result"
    }
   ],
   "source": [
    "df.head()"
   ]
  },
  {
   "cell_type": "code",
   "execution_count": 12,
   "metadata": {},
   "outputs": [],
   "source": [
    "# Define a function to stream video frames given a video ID\n",
    "def stream_video(video_id):\n",
    "    url = f'https://www.youtube.com/watch?v={video_id}'\n",
    "    \n",
    "    # Download video at URL\n",
    "    with YoutubeDL({'format': 'bestvideo+bestaudio'}) as ydl:\n",
    "        video = ydl.extract_info(url)\n",
    "\n",
    "    capture = cv2.VideoCapture(video)\n",
    "    streaming = True\n",
    "    while streaming:\n",
    "        ret, frame = capture.read()\n",
    "        print(ret, frame)\n",
    "        if not ret:\n",
    "            streaming = False\n",
    "        cv2.imshow('frame', frame)\n",
    "        cv2.waitKey(5)\n",
    "\n",
    "    capture.release()\n",
    "    cv2.destroyAllWindows()"
   ]
  },
  {
   "cell_type": "code",
   "execution_count": 13,
   "metadata": {},
   "outputs": [
    {
     "name": "stdout",
     "output_type": "stream",
     "text": [
      "[youtube] Extracting URL: https://www.youtube.com/watch?v=zWg7U0OEAoE\n",
      "[youtube] zWg7U0OEAoE: Downloading webpage\n",
      "[youtube] zWg7U0OEAoE: Downloading android player API JSON\n",
      "[info] zWg7U0OEAoE: Downloading 1 format(s): 242+251\n"
     ]
    },
    {
     "name": "stderr",
     "output_type": "stream",
     "text": [
      "ERROR: You have requested merging of multiple formats but ffmpeg is not installed. Aborting due to --abort-on-error\n"
     ]
    },
    {
     "ename": "DownloadError",
     "evalue": "ERROR: You have requested merging of multiple formats but ffmpeg is not installed. Aborting due to --abort-on-error",
     "output_type": "error",
     "traceback": [
      "\u001b[0;31m---------------------------------------------------------------------------\u001b[0m",
      "\u001b[0;31mDownloadError\u001b[0m                             Traceback (most recent call last)",
      "Cell \u001b[0;32mIn[13], line 3\u001b[0m\n\u001b[1;32m      1\u001b[0m \u001b[39m# Test the function\u001b[39;00m\n\u001b[1;32m      2\u001b[0m test_video_id \u001b[39m=\u001b[39m df[\u001b[39m'\u001b[39m\u001b[39mVideoID\u001b[39m\u001b[39m'\u001b[39m][\u001b[39m0\u001b[39m]\n\u001b[0;32m----> 3\u001b[0m stream_video(test_video_id)\n",
      "Cell \u001b[0;32mIn[12], line 7\u001b[0m, in \u001b[0;36mstream_video\u001b[0;34m(video_id)\u001b[0m\n\u001b[1;32m      5\u001b[0m \u001b[39m# Download video at URL\u001b[39;00m\n\u001b[1;32m      6\u001b[0m \u001b[39mwith\u001b[39;00m YoutubeDL({\u001b[39m'\u001b[39m\u001b[39mformat\u001b[39m\u001b[39m'\u001b[39m: \u001b[39m'\u001b[39m\u001b[39mbestvideo+bestaudio\u001b[39m\u001b[39m'\u001b[39m}) \u001b[39mas\u001b[39;00m ydl:\n\u001b[0;32m----> 7\u001b[0m     video \u001b[39m=\u001b[39m ydl\u001b[39m.\u001b[39;49mextract_info(url)\n\u001b[1;32m      9\u001b[0m capture \u001b[39m=\u001b[39m cv2\u001b[39m.\u001b[39mVideoCapture(video)\n\u001b[1;32m     10\u001b[0m streaming \u001b[39m=\u001b[39m \u001b[39mTrue\u001b[39;00m\n",
      "File \u001b[0;32m/usr/local/lib/python3.11/site-packages/yt_dlp/YoutubeDL.py:1507\u001b[0m, in \u001b[0;36mYoutubeDL.extract_info\u001b[0;34m(self, url, download, ie_key, extra_info, process, force_generic_extractor)\u001b[0m\n\u001b[1;32m   1505\u001b[0m             \u001b[39mraise\u001b[39;00m ExistingVideoReached()\n\u001b[1;32m   1506\u001b[0m         \u001b[39mbreak\u001b[39;00m\n\u001b[0;32m-> 1507\u001b[0m     \u001b[39mreturn\u001b[39;00m \u001b[39mself\u001b[39;49m\u001b[39m.\u001b[39;49m__extract_info(url, \u001b[39mself\u001b[39;49m\u001b[39m.\u001b[39;49mget_info_extractor(key), download, extra_info, process)\n\u001b[1;32m   1508\u001b[0m \u001b[39melse\u001b[39;00m:\n\u001b[1;32m   1509\u001b[0m     extractors_restricted \u001b[39m=\u001b[39m \u001b[39mself\u001b[39m\u001b[39m.\u001b[39mparams\u001b[39m.\u001b[39mget(\u001b[39m'\u001b[39m\u001b[39mallowed_extractors\u001b[39m\u001b[39m'\u001b[39m) \u001b[39mnot\u001b[39;00m \u001b[39min\u001b[39;00m (\u001b[39mNone\u001b[39;00m, [\u001b[39m'\u001b[39m\u001b[39mdefault\u001b[39m\u001b[39m'\u001b[39m])\n",
      "File \u001b[0;32m/usr/local/lib/python3.11/site-packages/yt_dlp/YoutubeDL.py:1518\u001b[0m, in \u001b[0;36mYoutubeDL._handle_extraction_exceptions.<locals>.wrapper\u001b[0;34m(self, *args, **kwargs)\u001b[0m\n\u001b[1;32m   1516\u001b[0m \u001b[39mwhile\u001b[39;00m \u001b[39mTrue\u001b[39;00m:\n\u001b[1;32m   1517\u001b[0m     \u001b[39mtry\u001b[39;00m:\n\u001b[0;32m-> 1518\u001b[0m         \u001b[39mreturn\u001b[39;00m func(\u001b[39mself\u001b[39;49m, \u001b[39m*\u001b[39;49margs, \u001b[39m*\u001b[39;49m\u001b[39m*\u001b[39;49mkwargs)\n\u001b[1;32m   1519\u001b[0m     \u001b[39mexcept\u001b[39;00m (DownloadCancelled, LazyList\u001b[39m.\u001b[39mIndexError, PagedList\u001b[39m.\u001b[39mIndexError):\n\u001b[1;32m   1520\u001b[0m         \u001b[39mraise\u001b[39;00m\n",
      "File \u001b[0;32m/usr/local/lib/python3.11/site-packages/yt_dlp/YoutubeDL.py:1615\u001b[0m, in \u001b[0;36mYoutubeDL.__extract_info\u001b[0;34m(self, url, ie, download, extra_info, process)\u001b[0m\n\u001b[1;32m   1613\u001b[0m \u001b[39mif\u001b[39;00m process:\n\u001b[1;32m   1614\u001b[0m     \u001b[39mself\u001b[39m\u001b[39m.\u001b[39m_wait_for_video(ie_result)\n\u001b[0;32m-> 1615\u001b[0m     \u001b[39mreturn\u001b[39;00m \u001b[39mself\u001b[39;49m\u001b[39m.\u001b[39;49mprocess_ie_result(ie_result, download, extra_info)\n\u001b[1;32m   1616\u001b[0m \u001b[39melse\u001b[39;00m:\n\u001b[1;32m   1617\u001b[0m     \u001b[39mreturn\u001b[39;00m ie_result\n",
      "File \u001b[0;32m/usr/local/lib/python3.11/site-packages/yt_dlp/YoutubeDL.py:1674\u001b[0m, in \u001b[0;36mYoutubeDL.process_ie_result\u001b[0;34m(self, ie_result, download, extra_info)\u001b[0m\n\u001b[1;32m   1672\u001b[0m \u001b[39mif\u001b[39;00m result_type \u001b[39m==\u001b[39m \u001b[39m'\u001b[39m\u001b[39mvideo\u001b[39m\u001b[39m'\u001b[39m:\n\u001b[1;32m   1673\u001b[0m     \u001b[39mself\u001b[39m\u001b[39m.\u001b[39madd_extra_info(ie_result, extra_info)\n\u001b[0;32m-> 1674\u001b[0m     ie_result \u001b[39m=\u001b[39m \u001b[39mself\u001b[39;49m\u001b[39m.\u001b[39;49mprocess_video_result(ie_result, download\u001b[39m=\u001b[39;49mdownload)\n\u001b[1;32m   1675\u001b[0m     \u001b[39mself\u001b[39m\u001b[39m.\u001b[39m_raise_pending_errors(ie_result)\n\u001b[1;32m   1676\u001b[0m     additional_urls \u001b[39m=\u001b[39m (ie_result \u001b[39mor\u001b[39;00m {})\u001b[39m.\u001b[39mget(\u001b[39m'\u001b[39m\u001b[39madditional_urls\u001b[39m\u001b[39m'\u001b[39m)\n",
      "File \u001b[0;32m/usr/local/lib/python3.11/site-packages/yt_dlp/YoutubeDL.py:2779\u001b[0m, in \u001b[0;36mYoutubeDL.process_video_result\u001b[0;34m(self, info_dict, download)\u001b[0m\n\u001b[1;32m   2777\u001b[0m downloaded_formats\u001b[39m.\u001b[39mappend(new_info)\n\u001b[1;32m   2778\u001b[0m \u001b[39mtry\u001b[39;00m:\n\u001b[0;32m-> 2779\u001b[0m     \u001b[39mself\u001b[39;49m\u001b[39m.\u001b[39;49mprocess_info(new_info)\n\u001b[1;32m   2780\u001b[0m \u001b[39mexcept\u001b[39;00m MaxDownloadsReached:\n\u001b[1;32m   2781\u001b[0m     max_downloads_reached \u001b[39m=\u001b[39m \u001b[39mTrue\u001b[39;00m\n",
      "File \u001b[0;32m/usr/local/lib/python3.11/site-packages/yt_dlp/YoutubeDL.py:3205\u001b[0m, in \u001b[0;36mYoutubeDL.process_info\u001b[0;34m(self, info_dict)\u001b[0m\n\u001b[1;32m   3203\u001b[0m msg \u001b[39m=\u001b[39m \u001b[39m'\u001b[39m\u001b[39mYou have requested merging of multiple formats but ffmpeg is not installed\u001b[39m\u001b[39m'\u001b[39m\n\u001b[1;32m   3204\u001b[0m \u001b[39mif\u001b[39;00m \u001b[39mnot\u001b[39;00m \u001b[39mself\u001b[39m\u001b[39m.\u001b[39mparams\u001b[39m.\u001b[39mget(\u001b[39m'\u001b[39m\u001b[39mignoreerrors\u001b[39m\u001b[39m'\u001b[39m):\n\u001b[0;32m-> 3205\u001b[0m     \u001b[39mself\u001b[39;49m\u001b[39m.\u001b[39;49mreport_error(\u001b[39mf\u001b[39;49m\u001b[39m'\u001b[39;49m\u001b[39m{\u001b[39;49;00mmsg\u001b[39m}\u001b[39;49;00m\u001b[39m. Aborting due to --abort-on-error\u001b[39;49m\u001b[39m'\u001b[39;49m)\n\u001b[1;32m   3206\u001b[0m     \u001b[39mreturn\u001b[39;00m\n\u001b[1;32m   3207\u001b[0m \u001b[39mself\u001b[39m\u001b[39m.\u001b[39mreport_warning(\u001b[39mf\u001b[39m\u001b[39m'\u001b[39m\u001b[39m{\u001b[39;00mmsg\u001b[39m}\u001b[39;00m\u001b[39m. The formats won\u001b[39m\u001b[39m\\'\u001b[39;00m\u001b[39mt be merged\u001b[39m\u001b[39m'\u001b[39m)\n",
      "File \u001b[0;32m/usr/local/lib/python3.11/site-packages/yt_dlp/YoutubeDL.py:1015\u001b[0m, in \u001b[0;36mYoutubeDL.report_error\u001b[0;34m(self, message, *args, **kwargs)\u001b[0m\n\u001b[1;32m   1010\u001b[0m \u001b[39mdef\u001b[39;00m \u001b[39mreport_error\u001b[39m(\u001b[39mself\u001b[39m, message, \u001b[39m*\u001b[39margs, \u001b[39m*\u001b[39m\u001b[39m*\u001b[39mkwargs):\n\u001b[1;32m   1011\u001b[0m \u001b[39m    \u001b[39m\u001b[39m'''\u001b[39;00m\n\u001b[1;32m   1012\u001b[0m \u001b[39m    Do the same as trouble, but prefixes the message with 'ERROR:', colored\u001b[39;00m\n\u001b[1;32m   1013\u001b[0m \u001b[39m    in red if stderr is a tty file.\u001b[39;00m\n\u001b[1;32m   1014\u001b[0m \u001b[39m    '''\u001b[39;00m\n\u001b[0;32m-> 1015\u001b[0m     \u001b[39mself\u001b[39;49m\u001b[39m.\u001b[39;49mtrouble(\u001b[39mf\u001b[39;49m\u001b[39m'\u001b[39;49m\u001b[39m{\u001b[39;49;00m\u001b[39mself\u001b[39;49m\u001b[39m.\u001b[39;49m_format_err(\u001b[39m\"\u001b[39;49m\u001b[39mERROR:\u001b[39;49m\u001b[39m\"\u001b[39;49m,\u001b[39m \u001b[39;49m\u001b[39mself\u001b[39;49m\u001b[39m.\u001b[39;49mStyles\u001b[39m.\u001b[39;49mERROR)\u001b[39m}\u001b[39;49;00m\u001b[39m \u001b[39;49m\u001b[39m{\u001b[39;49;00mmessage\u001b[39m}\u001b[39;49;00m\u001b[39m'\u001b[39;49m, \u001b[39m*\u001b[39;49margs, \u001b[39m*\u001b[39;49m\u001b[39m*\u001b[39;49mkwargs)\n",
      "File \u001b[0;32m/usr/local/lib/python3.11/site-packages/yt_dlp/YoutubeDL.py:955\u001b[0m, in \u001b[0;36mYoutubeDL.trouble\u001b[0;34m(self, message, tb, is_error)\u001b[0m\n\u001b[1;32m    953\u001b[0m     \u001b[39melse\u001b[39;00m:\n\u001b[1;32m    954\u001b[0m         exc_info \u001b[39m=\u001b[39m sys\u001b[39m.\u001b[39mexc_info()\n\u001b[0;32m--> 955\u001b[0m     \u001b[39mraise\u001b[39;00m DownloadError(message, exc_info)\n\u001b[1;32m    956\u001b[0m \u001b[39mself\u001b[39m\u001b[39m.\u001b[39m_download_retcode \u001b[39m=\u001b[39m \u001b[39m1\u001b[39m\n",
      "\u001b[0;31mDownloadError\u001b[0m: ERROR: You have requested merging of multiple formats but ffmpeg is not installed. Aborting due to --abort-on-error"
     ]
    }
   ],
   "source": [
    "# Test the function\n",
    "test_video_id = df['VideoID'][0]\n",
    "stream_video(test_video_id)"
   ]
  },
  {
   "cell_type": "code",
   "execution_count": null,
   "metadata": {},
   "outputs": [],
   "source": []
  }
 ],
 "metadata": {
  "kernelspec": {
   "display_name": "Python 3",
   "language": "python",
   "name": "python3"
  },
  "language_info": {
   "codemirror_mode": {
    "name": "ipython",
    "version": 3
   },
   "file_extension": ".py",
   "mimetype": "text/x-python",
   "name": "python",
   "nbconvert_exporter": "python",
   "pygments_lexer": "ipython3",
   "version": "3.11.2"
  },
  "orig_nbformat": 4
 },
 "nbformat": 4,
 "nbformat_minor": 2
}
