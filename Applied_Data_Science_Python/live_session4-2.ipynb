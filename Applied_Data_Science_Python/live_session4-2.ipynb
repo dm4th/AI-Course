{
 "cells": [
  {
   "cell_type": "code",
   "execution_count": 4,
   "id": "955f11dc",
   "metadata": {},
   "outputs": [],
   "source": [
    "import numpy as np\n",
    "import pandas as pd\n",
    "import matplotlib.pyplot as plt\n",
    "from matplotlib import style"
   ]
  },
  {
   "cell_type": "code",
   "execution_count": 5,
   "id": "70737ce8",
   "metadata": {},
   "outputs": [],
   "source": [
    "months = ['Jan','Feb','Mar']\n",
    "sales = [2378,3210,1988]"
   ]
  },
  {
   "cell_type": "code",
   "execution_count": 6,
   "id": "2831c3f5",
   "metadata": {},
   "outputs": [
    {
     "data": {
      "image/png": "[encoded data removed]",
      "text/plain": [
       "<Figure size 640x480 with 1 Axes>"
      ]
     },
     "metadata": {},
     "output_type": "display_data"
    }
   ],
   "source": [
    "style.use('ggplot')\n",
    "plt.plot(months,sales)\n",
    "plt.show()"
   ]
  },
  {
   "cell_type": "code",
   "execution_count": 7,
   "id": "e6aa7129",
   "metadata": {},
   "outputs": [
    {
     "ename": "ModuleNotFoundError",
     "evalue": "No module named 'livelossplot'",
     "output_type": "error",
     "traceback": [
      "\u001b[0;31m---------------------------------------------------------------------------\u001b[0m",
      "\u001b[0;31mModuleNotFoundError\u001b[0m                       Traceback (most recent call last)",
      "Cell \u001b[0;32mIn [7], line 1\u001b[0m\n\u001b[0;32m----> 1\u001b[0m \u001b[38;5;28;01mimport\u001b[39;00m \u001b[38;5;21;01mlivelossplot\u001b[39;00m\n",
      "\u001b[0;31mModuleNotFoundError\u001b[0m: No module named 'livelossplot'"
     ]
    }
   ],
   "source": [
    "import livelossplot"
   ]
  },
  {
   "cell_type": "code",
   "execution_count": 8,
   "id": "4d9c250b",
   "metadata": {},
   "outputs": [],
   "source": [
    "## Web Scraping"
   ]
  },
  {
   "cell_type": "code",
   "execution_count": 9,
   "id": "34e46109",
   "metadata": {},
   "outputs": [],
   "source": [
    "import requests\n",
    "import urllib.request as url\n",
    "from bs4 import BeautifulSoup"
   ]
  },
  {
   "cell_type": "code",
   "execution_count": 10,
   "id": "a030065f",
   "metadata": {},
   "outputs": [],
   "source": [
    "page = requests.get('https://www.passiton.com/inspirational-quotes/4080-to-forgive-is-to-set-a-prisoner-free-and')"
   ]
  },
  {
   "cell_type": "code",
   "execution_count": 11,
   "id": "77b6ae8d",
   "metadata": {},
   "outputs": [],
   "source": [
    "import wget"
   ]
  },
  {
   "cell_type": "code",
   "execution_count": 12,
   "id": "139109cd",
   "metadata": {},
   "outputs": [
    {
     "name": "stdout",
     "output_type": "stream",
     "text": [
      "\r",
      "  0% [                                                                            ]     0 / 25499\r",
      " 32% [........................                                                    ]  8192 / 25499\r",
      " 64% [................................................                            ] 16384 / 25499\r",
      " 96% [.........................................................................   ] 24576 / 25499\r",
      "100% [............................................................................] 25499 / 25499"
     ]
    },
    {
     "data": {
      "text/plain": [
       "'dataset_3 (1).csv'"
      ]
     },
     "execution_count": 12,
     "metadata": {},
     "output_type": "execute_result"
    }
   ],
   "source": [
    "url ='https://datasciencetrack.s3.us-east-2.amazonaws.com/dataset_3.csv'\n",
    "wget.download(url)"
   ]
  },
  {
   "cell_type": "code",
   "execution_count": 13,
   "id": "cf8361bc",
   "metadata": {},
   "outputs": [],
   "source": [
    "ds3 = pd.read_csv('./dataset_3.csv')"
   ]
  },
  {
   "cell_type": "code",
   "execution_count": 14,
   "id": "f780f321",
   "metadata": {},
   "outputs": [
    {
     "data": {
      "text/html": [
       "<div>\n",
       "<style scoped>\n",
       "    .dataframe tbody tr th:only-of-type {\n",
       "        vertical-align: middle;\n",
       "    }\n",
       "\n",
       "    .dataframe tbody tr th {\n",
       "        vertical-align: top;\n",
       "    }\n",
       "\n",
       "    .dataframe thead th {\n",
       "        text-align: right;\n",
       "    }\n",
       "</style>\n",
       "<table border=\"1\" class=\"dataframe\">\n",
       "  <thead>\n",
       "    <tr style=\"text-align: right;\">\n",
       "      <th></th>\n",
       "      <th>instant</th>\n",
       "      <th>season</th>\n",
       "      <th>yr</th>\n",
       "      <th>mnth</th>\n",
       "      <th>hr</th>\n",
       "      <th>weekday</th>\n",
       "      <th>weathersit</th>\n",
       "      <th>temp</th>\n",
       "      <th>atemp</th>\n",
       "      <th>hum</th>\n",
       "      <th>windspeed</th>\n",
       "      <th>casual</th>\n",
       "      <th>registered</th>\n",
       "      <th>cnt</th>\n",
       "    </tr>\n",
       "  </thead>\n",
       "  <tbody>\n",
       "    <tr>\n",
       "      <th>count</th>\n",
       "      <td>390.000000</td>\n",
       "      <td>390.0</td>\n",
       "      <td>390.0</td>\n",
       "      <td>390.000000</td>\n",
       "      <td>390.000000</td>\n",
       "      <td>390.000000</td>\n",
       "      <td>390.000000</td>\n",
       "      <td>390.000000</td>\n",
       "      <td>390.000000</td>\n",
       "      <td>390.000000</td>\n",
       "      <td>390.000000</td>\n",
       "      <td>390.000000</td>\n",
       "      <td>390.000000</td>\n",
       "      <td>390.000000</td>\n",
       "    </tr>\n",
       "    <tr>\n",
       "      <th>mean</th>\n",
       "      <td>805.500000</td>\n",
       "      <td>1.0</td>\n",
       "      <td>0.0</td>\n",
       "      <td>1.800000</td>\n",
       "      <td>11.687179</td>\n",
       "      <td>2.989744</td>\n",
       "      <td>1.484615</td>\n",
       "      <td>0.220000</td>\n",
       "      <td>0.230424</td>\n",
       "      <td>0.613769</td>\n",
       "      <td>0.179416</td>\n",
       "      <td>5.576923</td>\n",
       "      <td>57.002564</td>\n",
       "      <td>62.579487</td>\n",
       "    </tr>\n",
       "    <tr>\n",
       "      <th>std</th>\n",
       "      <td>112.727548</td>\n",
       "      <td>0.0</td>\n",
       "      <td>0.0</td>\n",
       "      <td>0.400514</td>\n",
       "      <td>6.980295</td>\n",
       "      <td>2.149884</td>\n",
       "      <td>0.663805</td>\n",
       "      <td>0.073095</td>\n",
       "      <td>0.069455</td>\n",
       "      <td>0.202361</td>\n",
       "      <td>0.138551</td>\n",
       "      <td>9.317478</td>\n",
       "      <td>49.070198</td>\n",
       "      <td>53.274838</td>\n",
       "    </tr>\n",
       "    <tr>\n",
       "      <th>min</th>\n",
       "      <td>611.000000</td>\n",
       "      <td>1.0</td>\n",
       "      <td>0.0</td>\n",
       "      <td>1.000000</td>\n",
       "      <td>0.000000</td>\n",
       "      <td>0.000000</td>\n",
       "      <td>1.000000</td>\n",
       "      <td>0.060000</td>\n",
       "      <td>0.075800</td>\n",
       "      <td>0.210000</td>\n",
       "      <td>0.000000</td>\n",
       "      <td>0.000000</td>\n",
       "      <td>0.000000</td>\n",
       "      <td>1.000000</td>\n",
       "    </tr>\n",
       "    <tr>\n",
       "      <th>25%</th>\n",
       "      <td>708.250000</td>\n",
       "      <td>1.0</td>\n",
       "      <td>0.0</td>\n",
       "      <td>2.000000</td>\n",
       "      <td>6.000000</td>\n",
       "      <td>1.000000</td>\n",
       "      <td>1.000000</td>\n",
       "      <td>0.160000</td>\n",
       "      <td>0.181800</td>\n",
       "      <td>0.450000</td>\n",
       "      <td>0.089600</td>\n",
       "      <td>1.000000</td>\n",
       "      <td>17.000000</td>\n",
       "      <td>18.500000</td>\n",
       "    </tr>\n",
       "    <tr>\n",
       "      <th>50%</th>\n",
       "      <td>805.500000</td>\n",
       "      <td>1.0</td>\n",
       "      <td>0.0</td>\n",
       "      <td>2.000000</td>\n",
       "      <td>12.000000</td>\n",
       "      <td>3.000000</td>\n",
       "      <td>1.000000</td>\n",
       "      <td>0.220000</td>\n",
       "      <td>0.227300</td>\n",
       "      <td>0.600000</td>\n",
       "      <td>0.164200</td>\n",
       "      <td>3.000000</td>\n",
       "      <td>48.000000</td>\n",
       "      <td>52.000000</td>\n",
       "    </tr>\n",
       "    <tr>\n",
       "      <th>75%</th>\n",
       "      <td>902.750000</td>\n",
       "      <td>1.0</td>\n",
       "      <td>0.0</td>\n",
       "      <td>2.000000</td>\n",
       "      <td>18.000000</td>\n",
       "      <td>5.000000</td>\n",
       "      <td>2.000000</td>\n",
       "      <td>0.260000</td>\n",
       "      <td>0.272700</td>\n",
       "      <td>0.750000</td>\n",
       "      <td>0.283600</td>\n",
       "      <td>6.000000</td>\n",
       "      <td>83.750000</td>\n",
       "      <td>88.750000</td>\n",
       "    </tr>\n",
       "    <tr>\n",
       "      <th>max</th>\n",
       "      <td>1000.000000</td>\n",
       "      <td>1.0</td>\n",
       "      <td>0.0</td>\n",
       "      <td>2.000000</td>\n",
       "      <td>23.000000</td>\n",
       "      <td>6.000000</td>\n",
       "      <td>3.000000</td>\n",
       "      <td>0.420000</td>\n",
       "      <td>0.424200</td>\n",
       "      <td>1.000000</td>\n",
       "      <td>0.582100</td>\n",
       "      <td>62.000000</td>\n",
       "      <td>236.000000</td>\n",
       "      <td>243.000000</td>\n",
       "    </tr>\n",
       "  </tbody>\n",
       "</table>\n",
       "</div>"
      ],
      "text/plain": [
       "           instant  season     yr        mnth          hr     weekday  \\\n",
       "count   390.000000   390.0  390.0  390.000000  390.000000  390.000000   \n",
       "mean    805.500000     1.0    0.0    1.800000   11.687179    2.989744   \n",
       "std     112.727548     0.0    0.0    0.400514    6.980295    2.149884   \n",
       "min     611.000000     1.0    0.0    1.000000    0.000000    0.000000   \n",
       "25%     708.250000     1.0    0.0    2.000000    6.000000    1.000000   \n",
       "50%     805.500000     1.0    0.0    2.000000   12.000000    3.000000   \n",
       "75%     902.750000     1.0    0.0    2.000000   18.000000    5.000000   \n",
       "max    1000.000000     1.0    0.0    2.000000   23.000000    6.000000   \n",
       "\n",
       "       weathersit        temp       atemp         hum   windspeed      casual  \\\n",
       "count  390.000000  390.000000  390.000000  390.000000  390.000000  390.000000   \n",
       "mean     1.484615    0.220000    0.230424    0.613769    0.179416    5.576923   \n",
       "std      0.663805    0.073095    0.069455    0.202361    0.138551    9.317478   \n",
       "min      1.000000    0.060000    0.075800    0.210000    0.000000    0.000000   \n",
       "25%      1.000000    0.160000    0.181800    0.450000    0.089600    1.000000   \n",
       "50%      1.000000    0.220000    0.227300    0.600000    0.164200    3.000000   \n",
       "75%      2.000000    0.260000    0.272700    0.750000    0.283600    6.000000   \n",
       "max      3.000000    0.420000    0.424200    1.000000    0.582100   62.000000   \n",
       "\n",
       "       registered         cnt  \n",
       "count  390.000000  390.000000  \n",
       "mean    57.002564   62.579487  \n",
       "std     49.070198   53.274838  \n",
       "min      0.000000    1.000000  \n",
       "25%     17.000000   18.500000  \n",
       "50%     48.000000   52.000000  \n",
       "75%     83.750000   88.750000  \n",
       "max    236.000000  243.000000  "
      ]
     },
     "execution_count": 14,
     "metadata": {},
     "output_type": "execute_result"
    }
   ],
   "source": [
    "ds3.describe()"
   ]
  },
  {
   "cell_type": "code",
   "execution_count": 20,
   "id": "484dc66d",
   "metadata": {},
   "outputs": [
    {
     "data": {
      "text/plain": [
       "instant                int64\n",
       "dteday        datetime64[ns]\n",
       "season                 int64\n",
       "yr                     int64\n",
       "mnth                   int64\n",
       "hr                     int64\n",
       "holiday                 bool\n",
       "weekday                int64\n",
       "weathersit             int64\n",
       "temp                 float64\n",
       "atemp                float64\n",
       "hum                  float64\n",
       "windspeed            float64\n",
       "casual                 int64\n",
       "registered             int64\n",
       "cnt                    int64\n",
       "dtype: object"
      ]
     },
     "execution_count": 20,
     "metadata": {},
     "output_type": "execute_result"
    }
   ],
   "source": [
    "ds3.dtypes"
   ]
  },
  {
   "cell_type": "code",
   "execution_count": 17,
   "id": "93f92719",
   "metadata": {},
   "outputs": [
    {
     "name": "stderr",
     "output_type": "stream",
     "text": [
      "/var/folders/r7/dtjny68152z02rjhb55rxv300000gn/T/ipykernel_90332/2540880275.py:1: UserWarning: Parsing dates in DD/MM/YYYY format when dayfirst=False (the default) was specified. This may lead to inconsistently parsed dates! Specify a format to ensure consistent parsing.\n",
      "  pd.to_datetime(ds3.dteday)\n"
     ]
    },
    {
     "data": {
      "text/plain": [
       "0     2011-01-29\n",
       "1     2011-01-29\n",
       "2     2011-01-29\n",
       "3     2011-01-29\n",
       "4     2011-01-29\n",
       "         ...    \n",
       "385   2011-01-28\n",
       "386   2011-01-28\n",
       "387   2011-01-28\n",
       "388   2011-01-28\n",
       "389   2011-01-29\n",
       "Name: dteday, Length: 390, dtype: datetime64[ns]"
      ]
     },
     "execution_count": 17,
     "metadata": {},
     "output_type": "execute_result"
    }
   ],
   "source": [
    "pd.to_datetime(ds3.dteday)"
   ]
  },
  {
   "cell_type": "code",
   "execution_count": 19,
   "id": "edb319f9",
   "metadata": {},
   "outputs": [
    {
     "name": "stderr",
     "output_type": "stream",
     "text": [
      "/var/folders/r7/dtjny68152z02rjhb55rxv300000gn/T/ipykernel_90332/439596351.py:1: UserWarning: Parsing dates in DD/MM/YYYY format when dayfirst=False (the default) was specified. This may lead to inconsistently parsed dates! Specify a format to ensure consistent parsing.\n",
      "  ds3.dteday = pd.to_datetime(ds3.dteday)\n"
     ]
    }
   ],
   "source": [
    "ds3.dteday = pd.to_datetime(ds3.dteday)"
   ]
  },
  {
   "cell_type": "code",
   "execution_count": 27,
   "id": "37b17a0f",
   "metadata": {},
   "outputs": [
    {
     "data": {
      "text/plain": [
       "instant       0.0\n",
       "dteday        0.0\n",
       "season        0.0\n",
       "yr            0.0\n",
       "mnth          0.0\n",
       "hr            0.0\n",
       "holiday       0.0\n",
       "weekday       0.0\n",
       "weathersit    0.0\n",
       "temp          0.0\n",
       "atemp         0.0\n",
       "hum           0.0\n",
       "windspeed     0.0\n",
       "casual        0.0\n",
       "registered    0.0\n",
       "cnt           0.0\n",
       "dtype: float64"
      ]
     },
     "execution_count": 27,
     "metadata": {},
     "output_type": "execute_result"
    }
   ],
   "source": [
    "ds3.isna().sum() * 100.0 / ds3.count() # pct of values that are null in each column"
   ]
  },
  {
   "cell_type": "code",
   "execution_count": 23,
   "id": "94af72b7",
   "metadata": {},
   "outputs": [
    {
     "data": {
      "text/plain": [
       "instant       390\n",
       "dteday        390\n",
       "season        390\n",
       "yr            390\n",
       "mnth          390\n",
       "hr            390\n",
       "holiday       390\n",
       "weekday       390\n",
       "weathersit    390\n",
       "temp          390\n",
       "atemp         390\n",
       "hum           390\n",
       "windspeed     390\n",
       "casual        390\n",
       "registered    390\n",
       "cnt           390\n",
       "dtype: int64"
      ]
     },
     "execution_count": 23,
     "metadata": {},
     "output_type": "execute_result"
    }
   ],
   "source": []
  },
  {
   "cell_type": "code",
   "execution_count": null,
   "id": "f9682878",
   "metadata": {},
   "outputs": [],
   "source": []
  }
 ],
 "metadata": {
  "kernelspec": {
   "display_name": "Python 3 (ipykernel)",
   "language": "python",
   "name": "python3"
  },
  "language_info": {
   "codemirror_mode": {
    "name": "ipython",
    "version": 3
   },
   "file_extension": ".py",
   "mimetype": "text/x-python",
   "name": "python",
   "nbconvert_exporter": "python",
   "pygments_lexer": "ipython3",
   "version": "3.10.8"
  }
 },
 "nbformat": 4,
 "nbformat_minor": 5
}
