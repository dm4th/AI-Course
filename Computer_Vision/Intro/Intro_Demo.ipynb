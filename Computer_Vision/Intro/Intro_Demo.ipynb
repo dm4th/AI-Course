{
 "cells": [
  {
   "attachments": {},
   "cell_type": "markdown",
   "metadata": {},
   "source": [
    "## Intro to CV2"
   ]
  },
  {
   "cell_type": "code",
   "execution_count": 34,
   "metadata": {},
   "outputs": [],
   "source": [
    "# Library for open-cv\n",
    "import cv2"
   ]
  },
  {
   "cell_type": "code",
   "execution_count": 35,
   "metadata": {},
   "outputs": [
    {
     "name": "stdout",
     "output_type": "stream",
     "text": [
      "4.7.0\n"
     ]
    }
   ],
   "source": [
    "print(cv2.__version__)"
   ]
  },
  {
   "attachments": {},
   "cell_type": "markdown",
   "metadata": {},
   "source": [
    "- This course will mainly use version 4.2 but I'll be chaning to 4.7"
   ]
  },
  {
   "cell_type": "code",
   "execution_count": 36,
   "metadata": {},
   "outputs": [],
   "source": [
    "# Images are stored as numpy arrays\n",
    "import numpy as np"
   ]
  },
  {
   "cell_type": "code",
   "execution_count": 37,
   "metadata": {},
   "outputs": [
    {
     "data": {
      "text/plain": [
       "-1"
      ]
     },
     "execution_count": 37,
     "metadata": {},
     "output_type": "execute_result"
    }
   ],
   "source": [
    "# We're going to display an image in an openCV window\n",
    "window_name = 'First Image'\n",
    "\n",
    "# Load an image using imread\n",
    "image = cv2.imread('./images/input.jpg')\n",
    "\n",
    "# Create an image window\n",
    "cv2.namedWindow(window_name)\n",
    "\n",
    "# Need to start a separate thread to show an image window on Mac\n",
    "cv2.startWindowThread()\n",
    "\n",
    "# Show an image with imshow\n",
    "# First param is the title of the image window, second is the image itself\n",
    "cv2.imshow(\"First Image\", image)\n",
    "\n",
    "# waitkey allows for input inside the image window\n",
    "# Leaving this blank allows for any key to remove the image window\n",
    "# Can enter a number for time delay in ms\n",
    "cv2.waitKey()\n",
    "cv2.waitKey(1)\n",
    "\n",
    "# Close all image windows with destroyAllWindows\n",
    "# Not doing this will cause your program to hang\n",
    "cv2.destroyAllWindows()\n",
    "cv2.waitKey(1)"
   ]
  },
  {
   "cell_type": "code",
   "execution_count": 38,
   "metadata": {},
   "outputs": [],
   "source": [
    "# Helper funtion to show an image\n",
    "def cv_show_img(title, image, wait=0):\n",
    "    cv2.namedWindow(title)\n",
    "    cv2.startWindowThread()\n",
    "    cv2.imshow(title, image)\n",
    "    cv2.waitKey(wait)\n",
    "    cv2.waitKey(1)\n",
    "    cv2.destroyAllWindows()\n",
    "    cv2.waitKey(1)"
   ]
  },
  {
   "cell_type": "code",
   "execution_count": 39,
   "metadata": {},
   "outputs": [],
   "source": [
    "# Helper funtion to show multiple images at the same time\n",
    "def cv_show_mult_img(titleArr, imageArr, wait=0):\n",
    "    for i in range(len(titleArr)):\n",
    "        cv2.namedWindow(titleArr[i])\n",
    "        cv2.startWindowThread()\n",
    "        cv2.imshow(titleArr[i], imageArr[i])\n",
    "    cv2.waitKey(wait)\n",
    "    cv2.waitKey(1)\n",
    "    cv2.destroyAllWindows()\n",
    "    cv2.waitKey(1)"
   ]
  },
  {
   "attachments": {},
   "cell_type": "markdown",
   "metadata": {},
   "source": [
    "- Often you need to add ```cv2.waitKey(1)``` on Mac to get the thread to respond (much like flushing stdout)"
   ]
  },
  {
   "cell_type": "code",
   "execution_count": 40,
   "metadata": {},
   "outputs": [
    {
     "name": "stdout",
     "output_type": "stream",
     "text": [
      "(597, 968, 3)\n"
     ]
    }
   ],
   "source": [
    "# taking a closer look at how images are stored\n",
    "print(image.shape)"
   ]
  },
  {
   "cell_type": "code",
   "execution_count": 41,
   "metadata": {},
   "outputs": [
    {
     "name": "stdout",
     "output_type": "stream",
     "text": [
      "Height in pixels:\t597\n",
      "Width in pixels:\t968\n",
      "Depth of image:\t3\n"
     ]
    }
   ],
   "source": [
    "print(f'Height in pixels:\\t{image.shape[0]}')\n",
    "print(f'Width in pixels:\\t{image.shape[1]}')\n",
    "print(f'Depth of image:\\t{image.shape[2]}')"
   ]
  },
  {
   "cell_type": "code",
   "execution_count": 42,
   "metadata": {},
   "outputs": [
    {
     "data": {
      "text/plain": [
       "True"
      ]
     },
     "execution_count": 42,
     "metadata": {},
     "output_type": "execute_result"
    }
   ],
   "source": [
    "# Saving an image\n",
    "cv2.imwrite('./images/test_output.jpg', image)"
   ]
  },
  {
   "attachments": {},
   "cell_type": "markdown",
   "metadata": {},
   "source": [
    "## Grayscaling"
   ]
  },
  {
   "cell_type": "code",
   "execution_count": 43,
   "metadata": {},
   "outputs": [],
   "source": [
    "# Use cvtColor to change the color space of an image\n",
    "# First param is the original image\n",
    "# Second param is the colorspace defined by constants imported with cv2\n",
    "# returns a new image object\n",
    "gray_image = cv2.cvtColor(image, cv2.COLOR_BGR2GRAY)"
   ]
  },
  {
   "cell_type": "code",
   "execution_count": 44,
   "metadata": {},
   "outputs": [],
   "source": [
    "cv_show_img('Original', image)\n",
    "cv_show_img('Gray Scale', gray_image)"
   ]
  },
  {
   "attachments": {},
   "cell_type": "markdown",
   "metadata": {},
   "source": [
    "## Color Channels"
   ]
  },
  {
   "cell_type": "code",
   "execution_count": 45,
   "metadata": {},
   "outputs": [
    {
     "name": "stdout",
     "output_type": "stream",
     "text": [
      "Shape of result blue array (597, 968)\n"
     ]
    }
   ],
   "source": [
    "# Use cv2.split to split a BGR image into its coclor components\n",
    "B, G, R = cv2.split(image)\n",
    "print(f'Shape of result blue array {B.shape}')"
   ]
  },
  {
   "cell_type": "code",
   "execution_count": 46,
   "metadata": {},
   "outputs": [],
   "source": [
    "# Create a matrix of zeeros to isolate the colors when we want to display them\n",
    "zeros = np.zeros(image.shape[:2], dtype=\"uint8\")"
   ]
  },
  {
   "cell_type": "code",
   "execution_count": 47,
   "metadata": {},
   "outputs": [],
   "source": [
    "# Create Blue, Green, and Red images\n",
    "blue_img = cv2.merge([B, zeros, zeros])\n",
    "green_img = cv2.merge([zeros, G, zeros])\n",
    "red_img = cv2.merge([zeros, zeros, R])"
   ]
  },
  {
   "cell_type": "code",
   "execution_count": 48,
   "metadata": {},
   "outputs": [],
   "source": [
    "# Display images\n",
    "cv_show_mult_img(\n",
    "    [\"Blue\", \"Green\", \"Red\"],\n",
    "    [blue_img, green_img, red_img]\n",
    ")"
   ]
  },
  {
   "cell_type": "code",
   "execution_count": 49,
   "metadata": {},
   "outputs": [],
   "source": [
    "# Now that we can isolate color channels, we can augment a specific channel and merge it back into an augmented original\n",
    "blue_boosted = cv2.merge([B+50, G, R])\n",
    "green_boosted = cv2.merge([B, G+50, R])\n",
    "red_boosted = cv2.merge([B, G, R+50])\n",
    "\n",
    "cv_show_mult_img(\n",
    "    [\"Blue Boosted\", \"Green Boosted\", \"Red Boosted\"],\n",
    "    [blue_boosted, green_boosted, red_boosted]\n",
    ")"
   ]
  },
  {
   "attachments": {},
   "cell_type": "markdown",
   "metadata": {},
   "source": [
    "## Drawing & Creating Images"
   ]
  },
  {
   "cell_type": "code",
   "execution_count": 50,
   "metadata": {},
   "outputs": [],
   "source": [
    "# BGR black image\n",
    "b_c_img = np.zeros([512, 512, 3])\n",
    "\n",
    "# Grayscale black image\n",
    "b_g_img = np.zeros([512,512])\n",
    "\n",
    "cv_show_mult_img(\n",
    "    ['Color - Black', 'Grayscale - Black'],\n",
    "    [b_c_img, b_g_img]\n",
    ")"
   ]
  },
  {
   "attachments": {},
   "cell_type": "markdown",
   "metadata": {},
   "source": [
    "#### Lines"
   ]
  },
  {
   "cell_type": "code",
   "execution_count": 53,
   "metadata": {},
   "outputs": [],
   "source": [
    "# Draw a Diagonal Blue Line across our color image - It does write over the input image\n",
    "# We can use cv2.line to draw on our images - takes 5 inputs\n",
    "    # input 1:  original image to draw on\n",
    "    # input 2:  starting point on 2D grid to start drawing from\n",
    "    # input 3:  ending point on 2D grid to stop at\n",
    "    # input 4:  BGR color for the line\n",
    "    # input 5:  thickness in pixels\n",
    "b_c_img = np.zeros([512, 512, 3])\n",
    "diag_image = cv2.line(\n",
    "    b_c_img, \n",
    "    (0,0),\n",
    "    (511, 511),\n",
    "    (255, 127, 0),\n",
    "    5\n",
    ")\n",
    "\n",
    "cv_show_img(\"Diagonal Blue Line\", diag_image)"
   ]
  },
  {
   "attachments": {},
   "cell_type": "markdown",
   "metadata": {},
   "source": [
    "#### Rectangles"
   ]
  },
  {
   "cell_type": "code",
   "execution_count": 56,
   "metadata": {},
   "outputs": [],
   "source": [
    "# Draw a Rectangle on our Color image - same as line with the start and end being opposite vertices\n",
    "# Negative numbers fill in the shape\n",
    "b_c_img = np.zeros([512, 512, 3])\n",
    "rect_image = cv2.rectangle(\n",
    "    b_c_img, \n",
    "    (10,10),\n",
    "    (501, 501),\n",
    "    (255, 127, 0),\n",
    "    -1\n",
    ")\n",
    "\n",
    "cv_show_img(\"Blue Rectangle\", rect_image)"
   ]
  },
  {
   "attachments": {},
   "cell_type": "markdown",
   "metadata": {},
   "source": [
    "#### Circles"
   ]
  },
  {
   "cell_type": "code",
   "execution_count": 60,
   "metadata": {},
   "outputs": [],
   "source": [
    "# Draw a Circle - inputs are now the image, center of circle, radius, color, and thickness in that order\n",
    "b_c_img = np.zeros([512, 512, 3])\n",
    "circle_image = cv2.circle(\n",
    "    b_c_img, \n",
    "    (256,256),\n",
    "    100,\n",
    "    (255, 127, 0),\n",
    "    10\n",
    ")\n",
    "\n",
    "cv_show_img(\"Blue Circle\", circle_image)"
   ]
  },
  {
   "attachments": {},
   "cell_type": "markdown",
   "metadata": {},
   "source": [
    "#### Polygons"
   ]
  },
  {
   "cell_type": "code",
   "execution_count": 78,
   "metadata": {},
   "outputs": [
    {
     "name": "stdout",
     "output_type": "stream",
     "text": [
      "Original points shape:\t(4, 2)\n",
      "Reshaped Points:\t(4, 1, 2)\n"
     ]
    }
   ],
   "source": [
    "# Polygons - Define points for the polygon, reshape to fit the cv2.polylines function and run the function\n",
    "b_c_img = np.zeros([512, 512, 3])\n",
    "\n",
    "# Define points\n",
    "pts = np.array([[10,50], [400,50], [90,200], [50,500]], np.int32)\n",
    "print(f'Original points shape:\\t{pts.shape}')\n",
    "\n",
    "# Reshape for polylines\n",
    "re_pts = pts.reshape((-1,1,2))\n",
    "print(f'Reshaped Points:\\t{re_pts.shape}')"
   ]
  },
  {
   "cell_type": "code",
   "execution_count": 79,
   "metadata": {},
   "outputs": [],
   "source": [
    "# show drawn shape\n",
    "poly_image = cv2.polylines(\n",
    "    b_c_img,\n",
    "    [re_pts],\n",
    "    True, # False to not connect the first and last points\n",
    "    (0,127,255),\n",
    "    10\n",
    ")\n",
    "cv_show_img(\"Polygon\", poly_image)"
   ]
  },
  {
   "attachments": {},
   "cell_type": "markdown",
   "metadata": {},
   "source": [
    "#### Text"
   ]
  },
  {
   "cell_type": "code",
   "execution_count": 84,
   "metadata": {},
   "outputs": [],
   "source": [
    "# Adding Text\n",
    "b_c_img = np.zeros([512, 512, 3])\n",
    "\n",
    "string = 'Hello World'\n",
    "text_img = cv2.putText(\n",
    "    b_c_img, \n",
    "    string, \n",
    "    (100,100),  # top left start for text\n",
    "    cv2.FONT_HERSHEY_COMPLEX,   # Font for text\n",
    "    1,  # Size of font\n",
    "    (240,0,0),\n",
    "    2\n",
    ")\n",
    "cv_show_img(\"Added Text\", text_img)\n",
    "\n",
    "# totally normal for the text to go off the screen"
   ]
  },
  {
   "cell_type": "code",
   "execution_count": null,
   "metadata": {},
   "outputs": [],
   "source": []
  }
 ],
 "metadata": {
  "kernelspec": {
   "display_name": "Python 3",
   "language": "python",
   "name": "python3"
  },
  "language_info": {
   "codemirror_mode": {
    "name": "ipython",
    "version": 3
   },
   "file_extension": ".py",
   "mimetype": "text/x-python",
   "name": "python",
   "nbconvert_exporter": "python",
   "pygments_lexer": "ipython3",
   "version": "3.10.9"
  },
  "orig_nbformat": 4
 },
 "nbformat": 4,
 "nbformat_minor": 2
}
