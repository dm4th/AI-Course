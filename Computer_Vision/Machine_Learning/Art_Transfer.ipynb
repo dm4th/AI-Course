{
 "cells": [
  {
   "attachments": {},
   "cell_type": "markdown",
   "metadata": {},
   "source": [
    "## Fun Little Side-Tangent on Art Transfer\n",
    "\n",
    "- Train a model on one image and re-create another image using the model trained ont eh first image\n",
    "- 2 Cost Functions to make this possible:\n",
    "    - Content Loss - Higher level features of the training set --> L2 Norm Loss of final Convuloution Layer & the Target Image\n",
    "    - Style Loss - Product of correlations between activations of lower, internal layers --> Gram Product\n",
    "    - Take the lower layers based on the style image and the upper layers based on the content image"
   ]
  },
  {
   "cell_type": "code",
   "execution_count": null,
   "metadata": {},
   "outputs": [],
   "source": [
    "from os import listdir\n",
    "from os.path import isfile, join\n",
    "import cv2"
   ]
  },
  {
   "cell_type": "code",
   "execution_count": null,
   "metadata": {},
   "outputs": [],
   "source": [
    "# Helper funtion to show an image with cv2\n",
    "def cv_show_img(title, image, wait=0):\n",
    "    cv2.namedWindow(title)\n",
    "    cv2.startWindowThread()\n",
    "    cv2.imshow(title, image)\n",
    "    cv2.waitKey(wait)\n",
    "    cv2.waitKey(1)\n",
    "    cv2.destroyAllWindows()\n",
    "    cv2.waitKey(1)\n",
    "\n",
    "# Helper funtion to show multiple images at the same time\n",
    "def cv_show_mult_img(titleArr, imageArr, wait=0):\n",
    "    for i in range(len(titleArr)):\n",
    "        cv2.namedWindow(titleArr[i])\n",
    "        cv2.startWindowThread()\n",
    "        cv2.imshow(titleArr[i], imageArr[i])\n",
    "    cv2.waitKey(wait)\n",
    "    cv2.waitKey(1)\n",
    "    cv2.destroyAllWindows()\n",
    "    cv2.waitKey(1)"
   ]
  },
  {
   "cell_type": "code",
   "execution_count": null,
   "metadata": {},
   "outputs": [],
   "source": [
    "# Load pre-trained neural transfer models\n",
    "model_path = './model_objects/models/'\n",
    "models = [f for f in listdir(model_path) if isfile(join(model_path, f))]\n",
    "\n",
    "img = cv2.imread('./images/eiffeltower.jpg')"
   ]
  },
  {
   "cell_type": "code",
   "execution_count": null,
   "metadata": {},
   "outputs": [],
   "source": [
    "# Loop over models and apply each one to our image\n",
    "for (i, model) in enumerate(models):\n",
    "    # Print the model being used\n",
    "    model_name = model[:-3]\n",
    "    print(f'{i+1} Model = {model_name}')\n",
    "\n",
    "    # Load image and associated model\n",
    "    style = cv2.imread(f'./images/art/{model_name}.jpg')\n",
    "    neuralStyleModel = cv2.dnn.readNetFromTorch(f'{model_path}{model}')\n",
    "\n",
    "    # resize to a fixed height/width\n",
    "    h, w = int(img.shape[0]), int(img.shape[1])\n",
    "    newW = int((640 / h) * w)\n",
    "    newImg = cv2.resize(img, (newW, 640), interpolation=cv2.INTER_AREA)\n",
    "\n",
    "    # Create a blob of the image and perform a forward pass through the network\n",
    "    blob = cv2.dnn.blobFromImage(newImg, 1.0, (newW, 640), (103.939, 116.779, 123.68), swapRB=False, crop=False)\n",
    "    neuralStyleModel.setInput(blob)\n",
    "    output = neuralStyleModel.forward()\n",
    "\n",
    "    # ReShape output tensor - add back mean subtraction and re-order the color channels\n",
    "    output = output.reshape(3, output.shape[2], output.shape[3])\n",
    "    output[0] += 103.939\n",
    "    output[1] += 116.779\n",
    "    output[2] += 123.68\n",
    "    output /= 255\n",
    "    output = output.transpose(1, 2, 0)\n",
    "\n",
    "    # Display image, style, output\n",
    "    style_scaled = cv2.resize(style,None,fx=0.5,fy=0.5,interpolation=cv2.INTER_NEAREST)\n",
    "    cv_show_mult_img(\n",
    "        ['Original','Style','Neural Transfer'],\n",
    "        [newImg, style_scaled, output]\n",
    "    )"
   ]
  }
 ],
 "metadata": {
  "kernelspec": {
   "display_name": "Python 3",
   "language": "python",
   "name": "python3"
  },
  "language_info": {
   "codemirror_mode": {
    "name": "ipython",
    "version": 3
   },
   "file_extension": ".py",
   "mimetype": "text/x-python",
   "name": "python",
   "nbconvert_exporter": "python",
   "pygments_lexer": "ipython3",
   "version": "3.11.2"
  },
  "orig_nbformat": 4
 },
 "nbformat": 4,
 "nbformat_minor": 2
}
