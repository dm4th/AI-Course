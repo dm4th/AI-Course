{
 "cells": [
  {
   "attachments": {},
   "cell_type": "markdown",
   "metadata": {},
   "source": [
    "# Object Detection - The Holy Grail of Computer \n",
    "\n",
    "### This is a combination of Image Detection and Location - We don't just identify what is in an image, we identify where it is as well\n",
    "\n",
    "## R-CNN - Regions with CNN\n",
    "- Segment and Image into various regions of interest\n",
    "- Feed each region into a CNN to classify it\n",
    "- Use linear regression to find optimal bounds for the prediction region for that classification\n",
    "\n",
    "\n",
    "- We Figured out a way (Fast-R-CNN) to combine the 3 above steps (which used to all be separately trained models) into one model\n",
    "- There are also YOLO architecture (You Only Look Once) to better optimize these models in real-time"
   ]
  },
  {
   "cell_type": "code",
   "execution_count": 1,
   "metadata": {},
   "outputs": [],
   "source": [
    "import numpy as np\n",
    "import cv2"
   ]
  },
  {
   "cell_type": "code",
   "execution_count": 2,
   "metadata": {},
   "outputs": [],
   "source": [
    "# Helper funtion to show an image with cv2\n",
    "def cv_show_img(title, image, wait=0):\n",
    "    cv2.namedWindow(title)\n",
    "    cv2.startWindowThread()\n",
    "    cv2.imshow(title, image)\n",
    "    cv2.waitKey(wait)\n",
    "    cv2.waitKey(1)\n",
    "    cv2.destroyAllWindows()\n",
    "    cv2.waitKey(1)\n",
    "\n",
    "# Helper funtion to show multiple images at the same time\n",
    "def cv_show_mult_img(titleArr, imageArr, wait=0):\n",
    "    for i in range(len(titleArr)):\n",
    "        cv2.namedWindow(titleArr[i])\n",
    "        cv2.startWindowThread()\n",
    "        cv2.imshow(titleArr[i], imageArr[i])\n",
    "    cv2.waitKey(wait)\n",
    "    cv2.waitKey(1)\n",
    "    cv2.destroyAllWindows()\n",
    "    cv2.waitKey(1)"
   ]
  },
  {
   "attachments": {},
   "cell_type": "markdown",
   "metadata": {},
   "source": [
    "## SSD"
   ]
  },
  {
   "cell_type": "code",
   "execution_count": 4,
   "metadata": {},
   "outputs": [],
   "source": [
    "# Load & Define the SSD Model\n",
    "# Load SSD Model Config\n",
    "pbtext = './model_objects/ssd_mobilenet_v1_coco.pbtxt'\n",
    "weights = './model_objects/frozen_inference_graph.pb'\n",
    "classes = 90\n",
    "threshold = 0.2\n",
    "\n",
    "# Read Network Model\n",
    "net = cv2.dnn.readNetFromTensorflow(weights, pbtext)\n",
    "\n",
    "# Need to set this to true to tell the model that we have BGR images not RGB images\n",
    "swapRB = True\n",
    "\n",
    "# Define Classes\n",
    "classNames = { 0: 'background',\n",
    "    1: 'person', 2: 'bicycle', 3: 'car', 4: 'motorcycle', 5: 'airplane', 6: 'bus',\n",
    "    7: 'train', 8: 'truck', 9: 'boat', 10: 'traffic light', 11: 'fire hydrant',\n",
    "    13: 'stop sign', 14: 'parking meter', 15: 'bench', 16: 'bird', 17: 'cat',\n",
    "    18: 'dog', 19: 'horse', 20: 'sheep', 21: 'cow', 22: 'elephant', 23: 'bear',\n",
    "    24: 'zebra', 25: 'giraffe', 27: 'backpack', 28: 'umbrella', 31: 'handbag',\n",
    "    32: 'tie', 33: 'suitcase', 34: 'frisbee', 35: 'skis', 36: 'snowboard',\n",
    "    37: 'sports ball', 38: 'kite', 39: 'baseball bat', 40: 'baseball glove',\n",
    "    41: 'skateboard', 42: 'surfboard', 43: 'tennis racket', 44: 'bottle',\n",
    "    46: 'wine glass', 47: 'cup', 48: 'fork', 49: 'knife', 50: 'spoon',\n",
    "    51: 'bowl', 52: 'banana', 53: 'apple', 54: 'sandwich', 55: 'orange',\n",
    "    56: 'broccoli', 57: 'carrot', 58: 'hot dog', 59: 'pizza', 60: 'donut',\n",
    "    61: 'cake', 62: 'chair', 63: 'couch', 64: 'potted plant', 65: 'bed',\n",
    "    67: 'dining table', 70: 'toilet', 72: 'tv', 73: 'laptop', 74: 'mouse',\n",
    "    75: 'remote', 76: 'keyboard', 77: 'cell phone', 78: 'microwave', 79: 'oven',\n",
    "    80: 'toaster', 81: 'sink', 82: 'refrigerator', 84: 'book', 85: 'clock',\n",
    "    86: 'vase', 87: 'scissors', 88: 'teddy bear', 89: 'hair drier', 90: 'toothbrush' }\n",
    "\n"
   ]
  },
  {
   "cell_type": "code",
   "execution_count": 5,
   "metadata": {},
   "outputs": [],
   "source": [
    "# Load some test images\n",
    "frames = [\n",
    "    cv2.imread('./images/elephant.jpg'),\n",
    "    cv2.imread('./images/traffic.jpg'),\n",
    "    cv2.imread('./images/office.jpg'),\n",
    "    cv2.imread('./images/zebra.jpg')\n",
    "]\n",
    "\n",
    "for f in frames:\n",
    "    # Configure the images to be the correct size\n",
    "    img = f.copy()\n",
    "    w = 300\n",
    "    h = 300\n",
    "    whRatio = w / float(h)\n",
    "    scaleFactor = 0.007843\n",
    "    meanVal = 127.5\n",
    "    \n",
    "    # Convert image to 4D blob\n",
    "    blob = cv2.dnn.blobFromImage(f, scaleFactor, (w, h), (meanVal, meanVal, meanVal), swapRB)\n",
    "\n",
    "    # Get Detections from Blob\n",
    "    net.setInput(blob)\n",
    "    detections = net.forward()\n",
    "\n",
    "    # Filter out dtected boxes that don't meet our threshold\n",
    "    rows = f.shape[0]\n",
    "    cols = f.shape[1]\n",
    "\n",
    "    if cols / float(rows) > whRatio:\n",
    "        cropSize = (int(rows * whRatio), rows)\n",
    "    else:\n",
    "        cropSize = (cols, int(cols / whRatio))\n",
    "\n",
    "    y1 = int((rows - cropSize[1]) / 2)\n",
    "    y2 = y1 + cropSize[1]\n",
    "    x1 = int((cols - cropSize[0]) / 2)\n",
    "    x2 = x1+ cropSize[0]\n",
    "\n",
    "    # Crop the image to look at the box\n",
    "    f = f[y1:y2, x1:x2]\n",
    "    rows = f.shape[0]\n",
    "    cols = f.shape[1]\n",
    "\n",
    "    # Loop over detections\n",
    "    for d in range(detections.shape[2]):\n",
    "        confidence = int(detections[0,0,d,2])\n",
    "\n",
    "        if confidence > threshold:\n",
    "            # Draw the box\n",
    "            class_id = int(detections[0,0,d,2])\n",
    "            xLeftBottom = int(detections[0,0,d,3] * cols)\n",
    "            yLeftBottom = int(detections[0,0,d,4] * rows)\n",
    "            xRightTop = int(detections[0,0,d,5] * cols)\n",
    "            yRightTop = int(detections[0,0,d,6] * rows)\n",
    "\n",
    "            cv2.rectangle(f, (xLeftBottom, yLeftBottom), (xRightTop, yRightTop), (0,255,0))\n",
    "\n",
    "            # Label the image witht eh class & confidence of the object\n",
    "            if class_id in classNames:\n",
    "                label = f'{classNames[class_id]}: {confidence}'\n",
    "                labelSize, baseLine = cv2.getTextSize(label, cv2.FONT_HERSHEY_SIMPLEX, 0.5, 1)\n",
    "\n",
    "                yLeftBottom = max(yLeftBottom, labelSize[1])\n",
    "\n",
    "                cv2.rectangle(\n",
    "                    f,\n",
    "                    (xLeftBottom, yLeftBottom - labelSize[1]),\n",
    "                    (xLeftBottom + labelSize[0, yLeftBottom + baseLine]),\n",
    "                    (255,255,255),\n",
    "                    cv2.FILLED\n",
    "                )\n",
    "                cv2.putText(f, label, (xLeftBottom, yLeftBottom, cv2.FONT_HERSHEY_SIMPLEX, 0.5, (0,0,0)))\n",
    "\n",
    "    cv_show_mult_img(\n",
    "        ['Original','Detections'],\n",
    "        [img,f]\n",
    "    )\n",
    "\n",
    "\n"
   ]
  },
  {
   "attachments": {},
   "cell_type": "markdown",
   "metadata": {},
   "source": [
    "## YOLO"
   ]
  },
  {
   "cell_type": "code",
   "execution_count": 6,
   "metadata": {},
   "outputs": [
    {
     "ename": "",
     "evalue": "",
     "output_type": "error",
     "traceback": [
      "\u001b[1;31mThe Kernel crashed while executing code in the the current cell or a previous cell. Please review the code in the cell(s) to identify a possible cause of the failure. Click <a href='https://aka.ms/vscodeJupyterKernelCrash'>here</a> for more info. View Jupyter <a href='command:jupyter.viewOutput'>log</a> for further details."
     ]
    }
   ],
   "source": [
    "import argparse\n",
    "import time\n",
    "import os\n",
    "from os import listdir\n",
    "from os.path import isfile, join"
   ]
  },
  {
   "cell_type": "code",
   "execution_count": null,
   "metadata": {},
   "outputs": [],
   "source": [
    "## Find a repo on GitHub"
   ]
  }
 ],
 "metadata": {
  "kernelspec": {
   "display_name": "Python 3",
   "language": "python",
   "name": "python3"
  },
  "language_info": {
   "codemirror_mode": {
    "name": "ipython",
    "version": 3
   },
   "file_extension": ".py",
   "mimetype": "text/x-python",
   "name": "python",
   "nbconvert_exporter": "python",
   "pygments_lexer": "ipython3",
   "version": "3.10.9"
  },
  "orig_nbformat": 4
 },
 "nbformat": 4,
 "nbformat_minor": 2
}
