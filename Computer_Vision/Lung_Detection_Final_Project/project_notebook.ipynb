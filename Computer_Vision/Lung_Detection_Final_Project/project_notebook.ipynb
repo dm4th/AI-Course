{
 "cells": [
  {
   "attachments": {},
   "cell_type": "markdown",
   "metadata": {},
   "source": [
    "# Lung Detection Final Project\n",
    "Danny Mathieson\n",
    "\n",
    "### Project Contents\n",
    "\n",
    "##### [Project Setup](#project-setup)\n",
    "1. [Import Necessary Libraries](#1-import-necessary-libraries)\n",
    "2. [Plot sample images for all classes](#2-plot-sample-images-for-all-classes)\n",
    "3. Plot the distribution of images across classes\n",
    "4. Build Data Augmentation for the training data with translation, rescale, and flip - Rescale images to 48x48\n",
    "5. Build Data Augmentation for the test data with translation, rescale, and flip - Rescale images to 48x48\n",
    "6. Make funciton to read directly from the train and test folders\n",
    "\n",
    "##### Build Initial CNN\n",
    "1. Build a CNN with different filters, max pooling, dropout, and batch normalization layers\n",
    "2. Use ReLU as an activation function\n",
    "3. Use Categorical Cross Entropy as a loss function\n",
    "4. Use rmsprop as the optimizer\n",
    "5. Use Early stopping with a patience of 2 epochs on validation loss or validation accuracy\n",
    "6. Use 10 epochs\n",
    "7. Train using a generator and test the accuracy on the test data at each epoch\n",
    "8. Plot training & validation accuracy & loss\n",
    "9. Observe Precision, Recallm F1-Score for all classes on both grayscale & color models - determine if the classes are good.\n",
    "\n",
    "##### Transfer Learning - Mobile Net\n",
    "1. Prepare the dataset for the mobile-net model with color mode RGB\n",
    "2. Create an instance of the mobile-net pre-trained model\n",
    "3. Add a dense layer, dropout layer, and batch normalizatiopn layer on the pre-trained model\n",
    "4. Create a final output using the softmax activation function\n",
    "5. Change the batch size activation function and optimize as rmsprop - observe if the accuracy increases\n",
    "6. Change the loss function to categorical cross-entropy\n",
    "7. Use Early Stopping on the validation loss with a patience of 2 epochs to prevent overfitting\n",
    "8. Use 10 epochs\n",
    "9. Train using a generator and test the accuracy on the test data at each epoch\n",
    "10. Plot training & validation accuracy & loss\n",
    "11. Observe Precision, Recallm F1-Score for all classes on both grayscale & color models - determine if the classes are good.\n",
    "\n",
    "##### Transfer Learning - Densenet121\n",
    "1. Prepare the dataset for the densenet121 model with image size 224x224x3\n",
    "2. Freeze the top layers of the pre-trained model\n",
    "3. Add a dense layer at the end of the pre-trained model, followed by a dropout layer and try various combinations to optimize accuracy\n",
    "4. Create a final output using the softmax activation function\n",
    "5. Change the loss function to categorical cross-entropy\n",
    "6. Use Adam as the optimizer\n",
    "7. Use Early Stopping on the validation loss with a patience of 2 epochs to prevent overfitting\n",
    "8. Use 15 epochs with a batch size of 7 - tinker with these to optimize accuracy\n",
    "9. Train using a generator and test the accuracy on the test data at each epoch\n",
    "10. Plot training & validation accuracy & loss\n",
    "11. Observe Precision, Recallm F1-Score for all classes on both grayscale & color models - determine if the classes are good.\n",
    "\n",
    "##### Final Step\n",
    "1. Compare all of the models on the basis of accuracy, precision, recall, f1-score"
   ]
  },
  {
   "attachments": {},
   "cell_type": "markdown",
   "metadata": {},
   "source": [
    "### Project Setup"
   ]
  },
  {
   "attachments": {},
   "cell_type": "markdown",
   "metadata": {},
   "source": [
    "##### 1. Import Necessary Libraries"
   ]
  },
  {
   "cell_type": "code",
   "execution_count": 1,
   "metadata": {},
   "outputs": [
    {
     "name": "stderr",
     "output_type": "stream",
     "text": [
      "2023-03-28 15:52:25.757735: I tensorflow/core/platform/cpu_feature_guard.cc:193] This TensorFlow binary is optimized with oneAPI Deep Neural Network Library (oneDNN) to use the following CPU instructions in performance-critical operations:  AVX2 FMA\n",
      "To enable them in other operations, rebuild TensorFlow with the appropriate compiler flags.\n"
     ]
    }
   ],
   "source": [
    "import os\n",
    "import shutil\n",
    "import numpy as np\n",
    "from tensorflow.keras.utils import load_img\n",
    "from tensorflow.keras.preprocessing.image import ImageDataGenerator"
   ]
  },
  {
   "cell_type": "code",
   "execution_count": 3,
   "metadata": {},
   "outputs": [],
   "source": [
    "shutil.unpack_archive('./images/Dataset_Detection_of_Lung_Infection.zip', './images')"
   ]
  },
  {
   "attachments": {},
   "cell_type": "markdown",
   "metadata": {},
   "source": [
    "##### 2. Plot sample images for all classes"
   ]
  },
  {
   "cell_type": "code",
   "execution_count": null,
   "metadata": {},
   "outputs": [],
   "source": [
    "classes = ['Healthy', 'Type 1 disease', 'Type 2 disease']\n",
    "train_path = './images/data/train/'"
   ]
  }
 ],
 "metadata": {
  "kernelspec": {
   "display_name": "Python 3",
   "language": "python",
   "name": "python3"
  },
  "language_info": {
   "codemirror_mode": {
    "name": "ipython",
    "version": 3
   },
   "file_extension": ".py",
   "mimetype": "text/x-python",
   "name": "python",
   "nbconvert_exporter": "python",
   "pygments_lexer": "ipython3",
   "version": "3.10.9"
  },
  "orig_nbformat": 4
 },
 "nbformat": 4,
 "nbformat_minor": 2
}
