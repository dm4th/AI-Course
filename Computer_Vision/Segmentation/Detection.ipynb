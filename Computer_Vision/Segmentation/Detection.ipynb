{
 "cells": [
  {
   "cell_type": "code",
   "execution_count": 1,
   "metadata": {},
   "outputs": [],
   "source": [
    "import numpy as np\n",
    "import matplotlib.pyplot as plt\n",
    "import cv2"
   ]
  },
  {
   "cell_type": "code",
   "execution_count": 2,
   "metadata": {},
   "outputs": [],
   "source": [
    "# Helper funtion to show an image with cv2\n",
    "def cv_show_img(title, image, wait=0):\n",
    "    cv2.namedWindow(title)\n",
    "    cv2.startWindowThread()\n",
    "    cv2.imshow(title, image)\n",
    "    cv2.waitKey(wait)\n",
    "    cv2.waitKey(1)\n",
    "    cv2.destroyAllWindows()\n",
    "    cv2.waitKey(1)\n",
    "\n",
    "# Helper funtion to show multiple images at the same time\n",
    "def cv_show_mult_img(titleArr, imageArr, wait=0):\n",
    "    for i in range(len(titleArr)):\n",
    "        cv2.namedWindow(titleArr[i])\n",
    "        cv2.startWindowThread()\n",
    "        cv2.imshow(titleArr[i], imageArr[i])\n",
    "    cv2.waitKey(wait)\n",
    "    cv2.waitKey(1)\n",
    "    cv2.destroyAllWindows()\n",
    "    cv2.waitKey(1)"
   ]
  },
  {
   "attachments": {},
   "cell_type": "markdown",
   "metadata": {},
   "source": [
    "## Line, Circle, and Blob Detection\n",
    "\n",
    "2 Algorithms for Line Detection - Both have to do with Hough Lines - find the start / end points of line\n",
    "\n",
    "Circle Detection is using Hough Circles - need to determine what actually contitutes a circle\n",
    "\n",
    "Blobs are defined as neighboring pixels that share certain characteristics\n",
    "\n",
    "### Line Detection"
   ]
  },
  {
   "cell_type": "code",
   "execution_count": 3,
   "metadata": {},
   "outputs": [],
   "source": [
    "img = cv2.imread('./images/soduku.jpg')\n",
    "cv_show_img('Sudoku',img)"
   ]
  },
  {
   "cell_type": "code",
   "execution_count": 6,
   "metadata": {},
   "outputs": [],
   "source": [
    "# Grayscale and Canny Edge the image\n",
    "gray = cv2.cvtColor(img, cv2.COLOR_BGR2GRAY)\n",
    "canny = cv2.Canny(gray, 100, 170, apertureSize=3)\n",
    "\n",
    "# Use roughlines with \n",
    "#   a rho accuracy of 1 pixel\n",
    "#   theta accuracy of np.pi/180 (1 degree)\n",
    "#   number of poins on the line threshold of 240\n",
    "lines = cv2.HoughLines(canny, 1, np.pi/180, 240)\n",
    "\n",
    "# Loop over lines to convert them to the format needed to draw the lines on the picture\n",
    "img_copy = img.copy()\n",
    "for l in lines:\n",
    "    rho, theta = l[0]\n",
    "    a = np.cos(theta)\n",
    "    b = np.sin(theta)\n",
    "    x0 = a*rho\n",
    "    y0 = b*rho\n",
    "    x1 = int(x0 + 1000 * (-b))\n",
    "    y1 = int(y0 + 1000 * (a))\n",
    "    x2 = int(x0 - 1000 * (-b))\n",
    "    y2 = int(y0 - 1000 * (a))\n",
    "    cv2.line(img_copy, (x1, y1), (x2, y2), (0,255,0), 2)\n",
    "\n",
    "cv_show_mult_img(\n",
    "    ['Original','Grayscale','Canny Edges','Line Detection'],\n",
    "    [img,gray,canny,img_copy]\n",
    ")"
   ]
  },
  {
   "attachments": {},
   "cell_type": "markdown",
   "metadata": {},
   "source": [
    "### Circle Detection"
   ]
  },
  {
   "cell_type": "code",
   "execution_count": 7,
   "metadata": {},
   "outputs": [],
   "source": [
    "# Grayscale & Blur the image a bit\n",
    "img = cv2.imread('./images/opencv.jpg')\n",
    "gray = cv2.cvtColor(img, cv2.COLOR_BGR2GRAY)\n",
    "blur = cv2.medianBlur(gray, 5)\n",
    "\n",
    "# Use Hough Circles to detect circles\n",
    "circles = cv2.HoughCircles(blur, cv2.HOUGH_GRADIENT, 1.5, 20)\n",
    "circles = np.uint16(np.around(circles))\n",
    "\n",
    "output = img.copy()\n",
    "for c in circles[0,:]:\n",
    "    # draw outer circle\n",
    "    cv2.circle(output, (c[0],c[1]), c[2], (0,255,0), 2)\n",
    "    # Draw center of circle\n",
    "    cv2.circle(output, (c[0],c[1]), 2, (0,0,255), -1)\n",
    "\n",
    "cv_show_mult_img(\n",
    "    ['Original','Grayscale','Blurred','Circle Detection'],\n",
    "    [img,gray,blur,output]\n",
    ")"
   ]
  },
  {
   "attachments": {},
   "cell_type": "markdown",
   "metadata": {},
   "source": [
    "### Blob Detection"
   ]
  },
  {
   "cell_type": "code",
   "execution_count": 9,
   "metadata": {},
   "outputs": [
    {
     "ename": "",
     "evalue": "",
     "output_type": "error",
     "traceback": [
      "\u001b[1;31mThe Kernel crashed while executing code in the the current cell or a previous cell. Please review the code in the cell(s) to identify a possible cause of the failure. Click <a href='https://aka.ms/vscodeJupyterKernelCrash'>here</a> for more info. View Jupyter <a href='command:jupyter.viewOutput'>log</a> for further details."
     ]
    }
   ],
   "source": [
    "img = cv2.imread('./images/Sunflowers.jpg')\n",
    "\n",
    "# First set up blob detector with default params\n",
    "detector = cv2.SimpleBlobDetector_create()\n",
    "\n",
    "# Detect Blobs\n",
    "key_points = detector.detect(img)\n",
    "\n",
    "# Draw detected blobs as red circles\n",
    "blank = np.zeros((1,1))\n",
    "blobs = cv2.drawKeypoints(\n",
    "    img,\n",
    "    key_points,\n",
    "    blank,\n",
    "    (255,0,0),\n",
    "    cv2.DRAW_MATCHES_FLAGS_DEFAULT\n",
    ")\n",
    "\n",
    "cv_show_mult_img(\n",
    "    ['Original','Blobs Detected'],\n",
    "    [img, blobs]\n",
    ")"
   ]
  }
 ],
 "metadata": {
  "kernelspec": {
   "display_name": "Python 3",
   "language": "python",
   "name": "python3"
  },
  "language_info": {
   "codemirror_mode": {
    "name": "ipython",
    "version": 3
   },
   "file_extension": ".py",
   "mimetype": "text/x-python",
   "name": "python",
   "nbconvert_exporter": "python",
   "pygments_lexer": "ipython3",
   "version": "3.10.9"
  },
  "orig_nbformat": 4
 },
 "nbformat": 4,
 "nbformat_minor": 2
}
