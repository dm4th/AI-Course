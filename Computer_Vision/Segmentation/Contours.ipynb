{
 "cells": [
  {
   "cell_type": "code",
   "execution_count": 1,
   "metadata": {},
   "outputs": [],
   "source": [
    "import numpy as np\n",
    "import matplotlib.pyplot as plt\n",
    "import cv2"
   ]
  },
  {
   "cell_type": "code",
   "execution_count": 2,
   "metadata": {},
   "outputs": [],
   "source": [
    "# Helper funtion to show an image with cv2\n",
    "def cv_show_img(title, image, wait=0):\n",
    "    cv2.namedWindow(title)\n",
    "    cv2.startWindowThread()\n",
    "    cv2.imshow(title, image)\n",
    "    cv2.waitKey(wait)\n",
    "    cv2.waitKey(1)\n",
    "    cv2.destroyAllWindows()\n",
    "    cv2.waitKey(1)\n",
    "\n",
    "# Helper funtion to show multiple images at the same time\n",
    "def cv_show_mult_img(titleArr, imageArr, wait=0):\n",
    "    for i in range(len(titleArr)):\n",
    "        cv2.namedWindow(titleArr[i])\n",
    "        cv2.startWindowThread()\n",
    "        cv2.imshow(titleArr[i], imageArr[i])\n",
    "    cv2.waitKey(wait)\n",
    "    cv2.waitKey(1)\n",
    "    cv2.destroyAllWindows()\n",
    "    cv2.waitKey(1)"
   ]
  },
  {
   "attachments": {},
   "cell_type": "markdown",
   "metadata": {},
   "source": [
    "## Countours\n",
    "Find bounded sets of pixels with a substantial difference in value to neighboring pixels.\n",
    "\n",
    "Returned as sets of points that define the outer edge of the identified difference in pixels"
   ]
  },
  {
   "cell_type": "code",
   "execution_count": 3,
   "metadata": {},
   "outputs": [],
   "source": [
    "img = cv2.imread('./images/bunchofshapes.jpg')\n",
    "cv_show_img('Shapes Image', img)"
   ]
  },
  {
   "cell_type": "code",
   "execution_count": 6,
   "metadata": {},
   "outputs": [
    {
     "name": "stdout",
     "output_type": "stream",
     "text": [
      "Contours Found:\t4\n"
     ]
    }
   ],
   "source": [
    "# Pre-Processing to find contours\n",
    "\n",
    "# 1. grayscale the image\n",
    "gray = cv2.cvtColor(img, cv2.COLOR_BGR2GRAY)\n",
    "\n",
    "# 2. Find Canny Edges\n",
    "canny = cv2.Canny(gray, 30, 200)\n",
    "\n",
    "# 3. Find Countours - remember to use a copy of the image because find contours will alter the image\n",
    "canny_copy = canny.copy()\n",
    "contours, hierarchy = cv2.findContours(canny_copy, cv2.RETR_EXTERNAL, cv2.CHAIN_APPROX_NONE)\n",
    "\n",
    "print(f'Contours Found:\\t{len(contours)}')\n",
    "\n",
    "# 4. Draw the contours on the original image\n",
    "img_copy = img.copy()\n",
    "cv2.drawContours(\n",
    "    img_copy, \n",
    "    contours, \n",
    "    -1,         # -1 means draw all contours regardless of hierarchy\n",
    "    (0,255,0),  # Color for the lines (green)\n",
    "    thickness=5\n",
    ")\n",
    "\n",
    "cv_show_mult_img(\n",
    "    ['Original','1. Grayscale','2. Canny Edges','3. Contour Identification','4. Draw Contours'],\n",
    "    [img,gray,canny,canny_copy,img_copy]\n",
    ")"
   ]
  },
  {
   "attachments": {},
   "cell_type": "markdown",
   "metadata": {},
   "source": [
    "## Sorting & Approximating Contours\n",
    "Sorting contours refers to identifying contours on an image\n",
    "\n",
    "Involves finding the centroid of contours and sorting them by their coordinates & area\n",
    "\n",
    "Approximating contours refers to approximating polygons for efficieincy reasons"
   ]
  },
  {
   "attachments": {},
   "cell_type": "markdown",
   "metadata": {},
   "source": [
    "#### Sorting By Area"
   ]
  },
  {
   "cell_type": "code",
   "execution_count": 7,
   "metadata": {},
   "outputs": [
    {
     "name": "stdout",
     "output_type": "stream",
     "text": [
      "Areas Before Sorting:\t[20587.5, 22901.5, 66579.5, 90222.0]\n",
      "Areas After Sorting:\t[90222.0, 66579.5, 22901.5, 20587.5]\n"
     ]
    }
   ],
   "source": [
    "# Sort contours by area\n",
    "def get_contour_areas(contours):\n",
    "    areas = []\n",
    "    for c in contours:\n",
    "        areas.append(cv2.contourArea(c))\n",
    "    return areas\n",
    "\n",
    "print(f'Areas Before Sorting:\\t{get_contour_areas(contours)}')\n",
    "\n",
    "# Sort contours\n",
    "sorted_contours = sorted(contours, key=cv2.contourArea, reverse=True)\n",
    "print(f'Areas After Sorting:\\t{get_contour_areas(sorted_contours)}')\n",
    "\n",
    "# Draw contours one at a time\n",
    "img_copy = img.copy()\n",
    "for c in range(len(sorted_contours)):\n",
    "    cv2.drawContours(img_copy, [sorted_contours[c]], -1, (0,255,0), 5)\n",
    "    cv_show_img(f'Contours {c}', img_copy)"
   ]
  },
  {
   "attachments": {},
   "cell_type": "markdown",
   "metadata": {},
   "source": [
    "#### Sorting Left to right"
   ]
  },
  {
   "cell_type": "code",
   "execution_count": 8,
   "metadata": {},
   "outputs": [],
   "source": [
    "def x_coord_contour(contours):\n",
    "    '''Return X Coordinate for the centroid'''\n",
    "    if cv2.contourArea(contours) > 10:\n",
    "        moment = cv2.moments(contours)\n",
    "        return (int(moment['m10']/moment['m00']))\n",
    "    else:\n",
    "        pass\n",
    "\n",
    "def label_contour_center(image, c):\n",
    "    '''Place a red circle at the centroid'''\n",
    "    moment = cv2.moments(c)\n",
    "    cx = int(moment['m10']/moment['m00'])\n",
    "    cy = int(moment['m01']/moment['m00'])\n",
    "    cv2.circle(image,(cx,cy),10,(0,0,255),-1)\n",
    "    return image\n",
    "\n",
    "img_copy = img.copy()\n",
    "cv_show_img('Original',img_copy)\n",
    "\n",
    "# get the object centers and draw the circles\n",
    "for (i, c) in enumerate(contours):\n",
    "    centers = label_contour_center(img_copy, c)\n",
    "cv_show_img('Labeling Centers',centers)\n",
    "\n",
    "# Sort Left to Right\n",
    "contours_left_to_right = sorted(contours, key=x_coord_contour, reverse=False)\n",
    "\n",
    "# Labeling Left to Right\n",
    "for (i, c) in enumerate(contours_left_to_right):\n",
    "    cv2.drawContours(img_copy, [c], -1, (0,255,0), 5)\n",
    "    M = cv2.moments(c)\n",
    "    cx = int(M['m10']/M['m00'])\n",
    "    cy = int(M['m01']/M['m00'])\n",
    "    cv2.putText(img_copy, f'# {i+1}', (cx,cy), cv2.FONT_HERSHEY_SIMPLEX, 2, (255,0,0), 3)\n",
    "    cv_show_img(f'Sorting Left to Right Step {i+1}',img_copy)"
   ]
  },
  {
   "attachments": {},
   "cell_type": "markdown",
   "metadata": {},
   "source": [
    "## Convex Hull\n",
    "Correct for convexity defects"
   ]
  },
  {
   "cell_type": "code",
   "execution_count": 9,
   "metadata": {},
   "outputs": [
    {
     "ename": "",
     "evalue": "",
     "output_type": "error",
     "traceback": [
      "\u001b[1;31mThe Kernel crashed while executing code in the the current cell or a previous cell. Please review the code in the cell(s) to identify a possible cause of the failure. Click <a href='https://aka.ms/vscodeJupyterKernelCrash'>here</a> for more info. View Jupyter <a href='command:jupyter.viewOutput'>log</a> for further details."
     ]
    }
   ],
   "source": [
    "# Use the image of a hand to demo\n",
    "hand = cv2.imread('./images/hand.jpg')\n",
    "gray = cv2.cvtColor(hand, cv2.COLOR_BGR2GRAY)\n",
    "\n",
    "#threshold\n",
    "ret, thresh = cv2.threshold(gray, 176, 255, 0)\n",
    "\n",
    "# contours\n",
    "contours, hierarchy = cv2.findContours(thresh.copy(), cv2.RETR_LIST, cv2.CHAIN_APPROX_NONE)\n",
    "\n",
    "# Sort contours by area, remove largest one\n",
    "n = len(contours) - 1\n",
    "contours = sorted(contours, key=cv2.contourArea, reverse=False)[:n]\n",
    "\n",
    "# Iterate over contours and draw convex hull\n",
    "hand_copy = hand.copy()\n",
    "for c in contours:\n",
    "    hull = cv2.convexHull(c)\n",
    "    cv2.drawContours(hand_copy, [hull], 0, (0,255,0), 3)\n",
    "cv_show_mult_img(\n",
    "    ['Original','Grayscale','Thresholds','Convex Hull'],\n",
    "    [hand, gray, thresh, hand_copy]\n",
    ")"
   ]
  }
 ],
 "metadata": {
  "kernelspec": {
   "display_name": "Python 3",
   "language": "python",
   "name": "python3"
  },
  "language_info": {
   "codemirror_mode": {
    "name": "ipython",
    "version": 3
   },
   "file_extension": ".py",
   "mimetype": "text/x-python",
   "name": "python",
   "nbconvert_exporter": "python",
   "pygments_lexer": "ipython3",
   "version": "3.10.9"
  },
  "orig_nbformat": 4
 },
 "nbformat": 4,
 "nbformat_minor": 2
}
