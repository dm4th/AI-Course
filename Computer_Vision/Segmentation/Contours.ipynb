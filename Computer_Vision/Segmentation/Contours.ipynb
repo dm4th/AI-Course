{
 "cells": [
  {
   "cell_type": "code",
   "execution_count": 1,
   "metadata": {},
   "outputs": [],
   "source": [
    "import numpy as np\n",
    "import matplotlib.pyplot as plt\n",
    "import cv2"
   ]
  },
  {
   "cell_type": "code",
   "execution_count": 2,
   "metadata": {},
   "outputs": [],
   "source": [
    "# Helper funtion to show an image with cv2\n",
    "def cv_show_img(title, image, wait=0):\n",
    "    cv2.namedWindow(title)\n",
    "    cv2.startWindowThread()\n",
    "    cv2.imshow(title, image)\n",
    "    cv2.waitKey(wait)\n",
    "    cv2.waitKey(1)\n",
    "    cv2.destroyAllWindows()\n",
    "    cv2.waitKey(1)\n",
    "\n",
    "# Helper funtion to show multiple images at the same time\n",
    "def cv_show_mult_img(titleArr, imageArr, wait=0):\n",
    "    for i in range(len(titleArr)):\n",
    "        cv2.namedWindow(titleArr[i])\n",
    "        cv2.startWindowThread()\n",
    "        cv2.imshow(titleArr[i], imageArr[i])\n",
    "    cv2.waitKey(wait)\n",
    "    cv2.waitKey(1)\n",
    "    cv2.destroyAllWindows()\n",
    "    cv2.waitKey(1)"
   ]
  },
  {
   "attachments": {},
   "cell_type": "markdown",
   "metadata": {},
   "source": [
    "## Countours\n",
    "Find bounded sets of pixels with a substantial difference in value to neighboring pixels.\n",
    "\n",
    "Returned as sets of points that define the outer edge of the identified difference in pixels"
   ]
  },
  {
   "cell_type": "code",
   "execution_count": 3,
   "metadata": {},
   "outputs": [],
   "source": [
    "img = cv2.imread('./images/bunchofshapes.jpg')\n",
    "cv_show_img('Shapes Image', img)"
   ]
  },
  {
   "cell_type": "code",
   "execution_count": 6,
   "metadata": {},
   "outputs": [
    {
     "name": "stdout",
     "output_type": "stream",
     "text": [
      "Contours Found:\t4\n"
     ]
    }
   ],
   "source": [
    "# Pre-Processing to find contours\n",
    "\n",
    "# 1. grayscale the image\n",
    "gray = cv2.cvtColor(img, cv2.COLOR_BGR2GRAY)\n",
    "\n",
    "# 2. Find Canny Edges\n",
    "canny = cv2.Canny(gray, 30, 200)\n",
    "\n",
    "# 3. Find Countours - remember to use a copy of the image because find contours will alter the image\n",
    "canny_copy = canny.copy()\n",
    "contours, hierarchy = cv2.findContours(canny_copy, cv2.RETR_EXTERNAL, cv2.CHAIN_APPROX_NONE)\n",
    "\n",
    "print(f'Contours Found:\\t{len(contours)}')\n",
    "\n",
    "# 4. Draw the contours on the original image\n",
    "img_copy = img.copy()\n",
    "cv2.drawContours(\n",
    "    img_copy, \n",
    "    contours, \n",
    "    -1,         # -1 means draw all contours regardless of hierarchy\n",
    "    (0,255,0),  # Color for the lines (green)\n",
    "    thickness=5\n",
    ")\n",
    "\n",
    "cv_show_mult_img(\n",
    "    ['Original','1. Grayscale','2. Canny Edges','3. Contour Identification','4. Draw Contours'],\n",
    "    [img,gray,canny,canny_copy,img_copy]\n",
    ")"
   ]
  },
  {
   "cell_type": "code",
   "execution_count": null,
   "metadata": {},
   "outputs": [],
   "source": []
  }
 ],
 "metadata": {
  "kernelspec": {
   "display_name": "Python 3",
   "language": "python",
   "name": "python3"
  },
  "language_info": {
   "codemirror_mode": {
    "name": "ipython",
    "version": 3
   },
   "file_extension": ".py",
   "mimetype": "text/x-python",
   "name": "python",
   "nbconvert_exporter": "python",
   "pygments_lexer": "ipython3",
   "version": "3.10.9"
  },
  "orig_nbformat": 4
 },
 "nbformat": 4,
 "nbformat_minor": 2
}
