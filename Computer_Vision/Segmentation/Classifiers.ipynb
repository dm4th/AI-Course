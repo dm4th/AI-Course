{
 "cells": [
  {
   "cell_type": "code",
   "execution_count": 1,
   "metadata": {},
   "outputs": [],
   "source": [
    "import numpy as np\n",
    "import matplotlib.pyplot as plt\n",
    "import cv2"
   ]
  },
  {
   "cell_type": "code",
   "execution_count": 2,
   "metadata": {},
   "outputs": [],
   "source": [
    "# Helper funtion to show an image with cv2\n",
    "def cv_show_img(title, image, wait=0):\n",
    "    cv2.namedWindow(title)\n",
    "    cv2.startWindowThread()\n",
    "    cv2.imshow(title, image)\n",
    "    cv2.waitKey(wait)\n",
    "    cv2.waitKey(1)\n",
    "    cv2.destroyAllWindows()\n",
    "    cv2.waitKey(1)\n",
    "\n",
    "# Helper funtion to show multiple images at the same time\n",
    "def cv_show_mult_img(titleArr, imageArr, wait=0):\n",
    "    for i in range(len(titleArr)):\n",
    "        cv2.namedWindow(titleArr[i])\n",
    "        cv2.startWindowThread()\n",
    "        cv2.imshow(titleArr[i], imageArr[i])\n",
    "    cv2.waitKey(wait)\n",
    "    cv2.waitKey(1)\n",
    "    cv2.destroyAllWindows()\n",
    "    cv2.waitKey(1)"
   ]
  },
  {
   "attachments": {},
   "cell_type": "markdown",
   "metadata": {},
   "source": [
    "## Object Detection\n",
    "\n",
    "We use HAAR Classifiers - We train a classifer on a set of images that both have the object we're looking for and images that don't"
   ]
  },
  {
   "cell_type": "code",
   "execution_count": 3,
   "metadata": {},
   "outputs": [],
   "source": [
    "# First we need to load our classifier XML file\n",
    "face_classifier = cv2.CascadeClassifier('./Haarcascades/haarcascade_frontalface_default.xml')\n",
    "\n",
    "# Load image and convert to grayscale\n",
    "img = cv2.imread('./images/myself.jpg')\n",
    "gray = cv2.cvtColor(img, cv2.COLOR_BGR2GRAY)\n",
    "\n",
    "# Our classifier returns the ROI of the detected face as a tuple (top right coord and bottom right coord)\n",
    "faces = face_classifier.detectMultiScale(gray, 1.3, 5)\n",
    "\n",
    "output = img.copy()\n",
    "# Check for empyt tuple returned (no faces)\n",
    "if len(faces) == 0:\n",
    "    print('No Faces Found')\n",
    "\n",
    "# Iterate over faces and draw rectangles around them\n",
    "else:\n",
    "    for (x,y,w,h) in faces:\n",
    "        cv2.rectangle(output,(x,y), (x+w, y+h), (0,255,0), 3)\n",
    "\n",
    "cv_show_mult_img(\n",
    "    ['Original','Grayscale','Faces'],\n",
    "    [img,gray,output]\n",
    ")"
   ]
  },
  {
   "attachments": {},
   "cell_type": "markdown",
   "metadata": {},
   "source": [
    "## Multiple Classification in Parallel - Face & Eye"
   ]
  },
  {
   "cell_type": "code",
   "execution_count": 4,
   "metadata": {},
   "outputs": [],
   "source": [
    "# Load both classifiers\n",
    "face_classifier = cv2.CascadeClassifier('./Haarcascades/haarcascade_frontalface_default.xml')\n",
    "eye_classifier = cv2.CascadeClassifier('./Haarcascades/haarcascade_eye.xml')\n",
    "\n",
    "# Load image and convert to grayscale\n",
    "img = cv2.imread('./images/myself.jpg')\n",
    "gray = cv2.cvtColor(img, cv2.COLOR_BGR2GRAY)\n",
    "\n",
    "# Run face detection\n",
    "faces = face_classifier.detectMultiScale(gray, 1.3, 5)\n",
    "\n",
    "output = img.copy()\n",
    "# Check for empyt tuple returned (no faces)\n",
    "if len(faces) == 0:\n",
    "    print('No Faces Found')\n",
    "\n",
    "# Iterate over faces and draw rectangles around them\n",
    "else:\n",
    "    for (x,y,w,h) in faces:\n",
    "        cv2.rectangle(output,(x,y), (x+w, y+h), (0,255,0), 3)\n",
    "\n",
    "        # Now look for eyes on the face over a cropped version of the face that we have found\n",
    "        roi_gray = gray[y:y+h, x:x+w]\n",
    "        roi_color = output[y:y+h, x:x+w]\n",
    "\n",
    "        eyes = eye_classifier.detectMultiScale(roi_gray)\n",
    "\n",
    "        if len(eyes) > 0:\n",
    "            for (ex,ey,ew,eh) in eyes:\n",
    "                cv2.rectangle(roi_color,(ex,ey), (ex+ew, ey+eh), (0,0,255), 3)\n",
    "\n",
    "cv_show_mult_img(\n",
    "    ['Original','Grayscale','Faces & Eyes'],\n",
    "    [img,gray,output]\n",
    ")"
   ]
  },
  {
   "attachments": {},
   "cell_type": "markdown",
   "metadata": {},
   "source": [
    "## Multiple Classification in Parallel In Video - Car & People"
   ]
  },
  {
   "cell_type": "code",
   "execution_count": 6,
   "metadata": {},
   "outputs": [
    {
     "ename": "error",
     "evalue": "OpenCV(4.7.0) /Users/runner/work/opencv-python/opencv-python/opencv/modules/imgproc/src/resize.cpp:4062: error: (-215:Assertion failed) !ssize.empty() in function 'resize'\n",
     "output_type": "error",
     "traceback": [
      "\u001b[0;31m---------------------------------------------------------------------------\u001b[0m",
      "\u001b[0;31merror\u001b[0m                                     Traceback (most recent call last)",
      "\u001b[1;32m/Users/danielmatheison/Develop/AI-Course/Computer_Vision/Segmentation/Classifiers.ipynb Cell 8\u001b[0m in \u001b[0;36m1\n\u001b[1;32m      <a href='vscode-notebook-cell:/Users/danielmatheison/Develop/AI-Course/Computer_Vision/Segmentation/Classifiers.ipynb#X11sZmlsZQ%3D%3D?line=7'>8</a>\u001b[0m \u001b[39mwhile\u001b[39;00m cap\u001b[39m.\u001b[39misOpened():\n\u001b[1;32m      <a href='vscode-notebook-cell:/Users/danielmatheison/Develop/AI-Course/Computer_Vision/Segmentation/Classifiers.ipynb#X11sZmlsZQ%3D%3D?line=8'>9</a>\u001b[0m     \u001b[39m# Read the first frame, resize,, and grayscale\u001b[39;00m\n\u001b[1;32m     <a href='vscode-notebook-cell:/Users/danielmatheison/Develop/AI-Course/Computer_Vision/Segmentation/Classifiers.ipynb#X11sZmlsZQ%3D%3D?line=9'>10</a>\u001b[0m     ret, frame \u001b[39m=\u001b[39m cap\u001b[39m.\u001b[39mread()\n\u001b[0;32m---> <a href='vscode-notebook-cell:/Users/danielmatheison/Develop/AI-Course/Computer_Vision/Segmentation/Classifiers.ipynb#X11sZmlsZQ%3D%3D?line=10'>11</a>\u001b[0m     frame \u001b[39m=\u001b[39m cv2\u001b[39m.\u001b[39;49mresize(frame, \u001b[39mNone\u001b[39;49;00m, fx\u001b[39m=\u001b[39;49m\u001b[39m0.5\u001b[39;49m, fy\u001b[39m=\u001b[39;49m\u001b[39m0.5\u001b[39;49m, interpolation\u001b[39m=\u001b[39;49mcv2\u001b[39m.\u001b[39;49mINTER_LINEAR)\n\u001b[1;32m     <a href='vscode-notebook-cell:/Users/danielmatheison/Develop/AI-Course/Computer_Vision/Segmentation/Classifiers.ipynb#X11sZmlsZQ%3D%3D?line=11'>12</a>\u001b[0m     gray \u001b[39m=\u001b[39m cv2\u001b[39m.\u001b[39mcvtColor(frame, cv2\u001b[39m.\u001b[39mCOLOR_BGR2GRAY)\n\u001b[1;32m     <a href='vscode-notebook-cell:/Users/danielmatheison/Develop/AI-Course/Computer_Vision/Segmentation/Classifiers.ipynb#X11sZmlsZQ%3D%3D?line=13'>14</a>\u001b[0m     \u001b[39m# Pass the frame to the body classifier\u001b[39;00m\n",
      "\u001b[0;31merror\u001b[0m: OpenCV(4.7.0) /Users/runner/work/opencv-python/opencv-python/opencv/modules/imgproc/src/resize.cpp:4062: error: (-215:Assertion failed) !ssize.empty() in function 'resize'\n"
     ]
    }
   ],
   "source": [
    "# Load the people classifier\n",
    "body_classifier = cv2.CascadeClassifier('./Haarcascades/haarcascade_fullbody.xml')\n",
    "\n",
    "# Initiate videocapture for the video file\n",
    "cap =  cv2.VideoCapture('./images/walking.avi')\n",
    "\n",
    "# Continuously Loop over Video\n",
    "while cap.isOpened():\n",
    "    # Read the first frame, resize,, and grayscale\n",
    "    ret, frame = cap.read()\n",
    "    frame = cv2.resize(frame, None, fx=0.5, fy=0.5, interpolation=cv2.INTER_LINEAR)\n",
    "    gray = cv2.cvtColor(frame, cv2.COLOR_BGR2GRAY)\n",
    "\n",
    "    # Pass the frame to the body classifier\n",
    "    bodies = body_classifier.detectMultiScale(gray,1.2,3)\n",
    "\n",
    "    # Get boundaries for any classified bodies\n",
    "    if len(bodies) > 0:\n",
    "        for (x,y,w,h) in bodies:\n",
    "            cv2.rectangle(frame,(x,y),(x+w,y+h),(0,255,255),3)\n",
    "            cv2.imshow('Walking',frame)\n",
    "\n",
    "    if cv2.waitKey(1) == 5:\n",
    "        break\n",
    "\n",
    "cap.release()\n",
    "cv2.destroyAllWindows()"
   ]
  },
  {
   "cell_type": "code",
   "execution_count": null,
   "metadata": {},
   "outputs": [],
   "source": [
    "# Load the car classifier\n",
    "car_classifier = cv2.CascadeClassifier('./Haarcascades/haarcascade_car.xml')\n",
    "\n",
    "# Initiate videocapture for the video file\n",
    "cap =  cv2.VideoCapture('./images/cars.avi')\n",
    "\n",
    "# Continuously Loop over Video\n",
    "while cap.isOpened():\n",
    "    # Read the first frame, resize,, and grayscale\n",
    "    ret, frame = cap.read()\n",
    "    frame = cv2.resize(frame, None, fx=0.5, fy=0.5, interpolation=cv2.INTER_LINEAR)\n",
    "    gray = cv2.cvtColor(frame, cv2.COLOR_BGR2GRAY)\n",
    "\n",
    "    # Pass the frame to the body classifier\n",
    "    cars = car_classifier.detectMultiScale(gray,1.4,2)\n",
    "\n",
    "    # Get boundaries for any classified bodies\n",
    "    if len(cars) > 0:ç\n",
    "        for (x,y,w,h) in cars:\n",
    "            cv2.rectangle(frame,(x,y),(x+w,y+h),(0,255,255),3)\n",
    "            cv2.imshow('Walking',frame)\n",
    "\n",
    "    if cv2.waitKey(1) == 5:\n",
    "        break\n",
    "\n",
    "cap.release()\n",
    "cv2.destroyAllWindows()"
   ]
  }
 ],
 "metadata": {
  "kernelspec": {
   "display_name": "Python 3",
   "language": "python",
   "name": "python3"
  },
  "language_info": {
   "codemirror_mode": {
    "name": "ipython",
    "version": 3
   },
   "file_extension": ".py",
   "mimetype": "text/x-python",
   "name": "python",
   "nbconvert_exporter": "python",
   "pygments_lexer": "ipython3",
   "version": "3.10.9"
  },
  "orig_nbformat": 4
 },
 "nbformat": 4,
 "nbformat_minor": 2
}
