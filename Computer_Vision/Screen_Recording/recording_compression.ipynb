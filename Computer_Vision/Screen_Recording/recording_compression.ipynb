{
 "cells": [
  {
   "cell_type": "code",
   "execution_count": 1,
   "metadata": {},
   "outputs": [],
   "source": [
    "# Import necessary packages\n",
    "import os\n",
    "import time\n",
    "import numpy as np\n",
    "import pandas as pd\n",
    "import cv2\n",
    "import pyautogui"
   ]
  },
  {
   "cell_type": "code",
   "execution_count": 2,
   "metadata": {},
   "outputs": [],
   "source": [
    "# Create Recordings Directories\n",
    "if not os.path.exists('./recordings'):\n",
    "    os.makedirs('./recordings')\n",
    "\n",
    "sub_directories = ['initial','compression']\n",
    "file_formats = ['avi', 'mp4']\n",
    "\n",
    "for sub_directory in sub_directories:\n",
    "    for file_format in file_formats:\n",
    "        if not os.path.exists('./recordings/' + sub_directory + '/' + file_format):\n",
    "            os.makedirs('./recordings/' + sub_directory + '/' + file_format)"
   ]
  },
  {
   "cell_type": "code",
   "execution_count": 3,
   "metadata": {},
   "outputs": [],
   "source": [
    "# Get screen dimensions\n",
    "screen_size = (screen_width, screen_height) = pyautogui.size()\n",
    "\n",
    "# Create a 4 character code of codec used to compress the frames\n",
    "fourcc = cv2.VideoWriter_fourcc(*\"XVID\")"
   ]
  },
  {
   "cell_type": "code",
   "execution_count": null,
   "metadata": {},
   "outputs": [],
   "source": [
    "# Record the screen\n",
    "# Create VideoWriter object to save the video\n",
    "output_file = \"output.avi\"\n",
    "out = cv2.VideoWriter(output_file, fourcc, 20.0, screen_size)\n",
    "\n",
    "while True:\n",
    "    # Capture the screen\n",
    "    img = pyautogui.screenshot()\n",
    "    frame = np.array(img)\n",
    "\n",
    "    # Convert the frame from RGB to BGR (OpenCV uses BGR format)\n",
    "    frame = cv2.cvtColor(frame, cv2.COLOR_RGB2BGR)\n",
    "\n",
    "    # Write the frame to the output file\n",
    "    out.write(frame)\n",
    "\n",
    "    # Press 'q' to stop recording\n",
    "    if cv2.waitKey(1) == ord(\"q\"):\n",
    "        break\n",
    "\n",
    "# Release the VideoWriter object and close all windows\n",
    "out.release()\n",
    "cv2.destroyAllWindows()\n",
    "re"
   ]
  }
 ],
 "metadata": {
  "kernelspec": {
   "display_name": "Python 3",
   "language": "python",
   "name": "python3"
  },
  "language_info": {
   "codemirror_mode": {
    "name": "ipython",
    "version": 3
   },
   "file_extension": ".py",
   "mimetype": "text/x-python",
   "name": "python",
   "nbconvert_exporter": "python",
   "pygments_lexer": "ipython3",
   "version": "3.11.2"
  },
  "orig_nbformat": 4
 },
 "nbformat": 4,
 "nbformat_minor": 2
}
