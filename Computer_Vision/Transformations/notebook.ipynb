{
 "cells": [
  {
   "cell_type": "code",
   "execution_count": 4,
   "metadata": {},
   "outputs": [],
   "source": [
    "import numpy as np\n",
    "import matplotlib.pyplot as plt\n",
    "import cv2"
   ]
  },
  {
   "cell_type": "code",
   "execution_count": 5,
   "metadata": {},
   "outputs": [],
   "source": [
    "# Helper funtion to show an image with cv2\n",
    "def cv_show_img(title, image, wait=0):\n",
    "    cv2.namedWindow(title)\n",
    "    cv2.startWindowThread()\n",
    "    cv2.imshow(title, image)\n",
    "    cv2.waitKey(wait)\n",
    "    cv2.waitKey(1)\n",
    "    cv2.destroyAllWindows()\n",
    "    cv2.waitKey(1)\n",
    "\n",
    "# Helper funtion to show multiple images at the same time\n",
    "def cv_show_mult_img(titleArr, imageArr, wait=0):\n",
    "    for i in range(len(titleArr)):\n",
    "        cv2.namedWindow(titleArr[i])\n",
    "        cv2.startWindowThread()\n",
    "        cv2.imshow(titleArr[i], imageArr[i])\n",
    "    cv2.waitKey(wait)\n",
    "    cv2.waitKey(1)\n",
    "    cv2.destroyAllWindows()\n",
    "    cv2.waitKey(1)"
   ]
  },
  {
   "cell_type": "code",
   "execution_count": 6,
   "metadata": {},
   "outputs": [],
   "source": [
    "img = cv2.imread('./images/input.jpg')"
   ]
  },
  {
   "attachments": {},
   "cell_type": "markdown",
   "metadata": {},
   "source": [
    "## Shifting Images"
   ]
  },
  {
   "cell_type": "code",
   "execution_count": 7,
   "metadata": {},
   "outputs": [],
   "source": [
    "# Lets shift by a quarter of the image\n",
    "height, width = img.shape[:2]\n",
    "quarter_height, quarter_width = height/4, width/4\n",
    "\n",
    "# Define translation matrix\n",
    "#     | 1 0 Tx |\n",
    "# T = |        |\n",
    "#     | 0 1 Ty |\n",
    "T = np.float32([[1, 0, quarter_width], [0, 1, quarter_height]])\n",
    "\n",
    "# warpAffine to make an affine transformation using the matrix T\n",
    "img_translated = cv2.warpAffine(img, T, (width, height))\n",
    "cv_show_mult_img(['Original','Translated'],[img,img_translated])"
   ]
  },
  {
   "cell_type": "code",
   "execution_count": 9,
   "metadata": {},
   "outputs": [
    {
     "name": "stdout",
     "output_type": "stream",
     "text": [
      "[[  1.     0.   242.  ]\n",
      " [  0.     1.   149.25]]\n"
     ]
    }
   ],
   "source": [
    "# Lets see T\n",
    "print(T)"
   ]
  },
  {
   "attachments": {},
   "cell_type": "markdown",
   "metadata": {},
   "source": [
    "## Rotating Images"
   ]
  },
  {
   "cell_type": "code",
   "execution_count": 10,
   "metadata": {},
   "outputs": [],
   "source": [
    "# rotate image about it's center\n",
    "# Get the rotation matrix\n",
    "rot_matrix = cv2.getRotationMatrix2D(\n",
    "    (width/2,height/2),     # tuple of the center point of the image coordinates\n",
    "    90,     # degrees to rotate\n",
    "    0.5     # scale of the resulting image\n",
    ")\n",
    "\n",
    "rot_image = cv2.warpAffine(img, rot_matrix, (width, height))\n",
    "\n",
    "cv_show_mult_img(['Original','Rotated'],[img,rot_image])"
   ]
  },
  {
   "attachments": {},
   "cell_type": "markdown",
   "metadata": {},
   "source": [
    "## Removing the Resulting Black Space"
   ]
  },
  {
   "cell_type": "code",
   "execution_count": 11,
   "metadata": {},
   "outputs": [],
   "source": [
    "# All we have to do is transpose the image for 90 degree rotation, flip it for 180 degree\n",
    "rot_img_90 = cv2.transpose(img)\n",
    "rot_img_180_horz = cv2.flip(img, 1)\n",
    "rot_img_180_vert = cv2.flip(img, -1)\n",
    "cv_show_mult_img(['Original','90 Degrees','180 - Horizontal','180 - Vertical'],[img, rot_img_90, rot_img_180_horz, rot_img_180_vert])"
   ]
  },
  {
   "cell_type": "code",
   "execution_count": null,
   "metadata": {},
   "outputs": [],
   "source": []
  },
  {
   "cell_type": "code",
   "execution_count": null,
   "metadata": {},
   "outputs": [],
   "source": []
  }
 ],
 "metadata": {
  "kernelspec": {
   "display_name": "Python 3",
   "language": "python",
   "name": "python3"
  },
  "language_info": {
   "codemirror_mode": {
    "name": "ipython",
    "version": 3
   },
   "file_extension": ".py",
   "mimetype": "text/x-python",
   "name": "python",
   "nbconvert_exporter": "python",
   "pygments_lexer": "ipython3",
   "version": "3.10.9"
  },
  "orig_nbformat": 4
 },
 "nbformat": 4,
 "nbformat_minor": 2
}
