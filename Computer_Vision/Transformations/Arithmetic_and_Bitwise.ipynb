{
 "cells": [
  {
   "cell_type": "code",
   "execution_count": 1,
   "metadata": {},
   "outputs": [],
   "source": [
    "import numpy as np\n",
    "import matplotlib.pyplot as plt\n",
    "import cv2"
   ]
  },
  {
   "cell_type": "code",
   "execution_count": 2,
   "metadata": {},
   "outputs": [],
   "source": [
    "# Helper funtion to show an image with cv2\n",
    "def cv_show_img(title, image, wait=0):\n",
    "    cv2.namedWindow(title)\n",
    "    cv2.startWindowThread()\n",
    "    cv2.imshow(title, image)\n",
    "    cv2.waitKey(wait)\n",
    "    cv2.waitKey(1)\n",
    "    cv2.destroyAllWindows()\n",
    "    cv2.waitKey(1)\n",
    "\n",
    "# Helper funtion to show multiple images at the same time\n",
    "def cv_show_mult_img(titleArr, imageArr, wait=0):\n",
    "    for i in range(len(titleArr)):\n",
    "        cv2.namedWindow(titleArr[i])\n",
    "        cv2.startWindowThread()\n",
    "        cv2.imshow(titleArr[i], imageArr[i])\n",
    "    cv2.waitKey(wait)\n",
    "    cv2.waitKey(1)\n",
    "    cv2.destroyAllWindows()\n",
    "    cv2.waitKey(1)"
   ]
  },
  {
   "cell_type": "code",
   "execution_count": 3,
   "metadata": {},
   "outputs": [],
   "source": [
    "img = cv2.imread('./images/input.jpg')"
   ]
  },
  {
   "attachments": {},
   "cell_type": "markdown",
   "metadata": {},
   "source": [
    "## Addition & Subtraction"
   ]
  },
  {
   "cell_type": "code",
   "execution_count": 4,
   "metadata": {},
   "outputs": [],
   "source": [
    "# Create a matrix the same size as our image with all values == 100\n",
    "M = np.ones(img.shape, dtype='uint8') * 100\n",
    "\n",
    "# We can add this to our image to make it Brighter\n",
    "add1 = cv2.add(img, M)\n",
    "add2 = img + M\n",
    "# The distortion comes from overflow not being handled in the regular addition - it will wrap around and distort the colors\n",
    "\n",
    "# Or subtract to make it darker\n",
    "sub1 = cv2.subtract(img, M)\n",
    "sub2 = img - M\n",
    "\n",
    "cv_show_mult_img(['Original', 'Add 1', 'Add 2', 'Sub 1', 'Sub 2'],[img,add1,add2,sub1,sub2])"
   ]
  },
  {
   "attachments": {},
   "cell_type": "markdown",
   "metadata": {},
   "source": [
    "## Bitwise Operations"
   ]
  },
  {
   "cell_type": "code",
   "execution_count": 5,
   "metadata": {},
   "outputs": [],
   "source": [
    "# Make a square and ellipse for testing\n",
    "square = np.zeros((300,300), np.uint8)\n",
    "cv2.rectangle(square,(100,100),(200,200), 255, -1)\n",
    "\n",
    "ellipse = np.zeros((300,300), np.uint8)\n",
    "cv2.ellipse(ellipse,(100,100),(100,100),30,0,180,255,-1)\n",
    "\n",
    "cv_show_mult_img(['Square','Ellipsis'],[square,ellipse])"
   ]
  },
  {
   "cell_type": "code",
   "execution_count": 6,
   "metadata": {},
   "outputs": [],
   "source": [
    "# Classic Bitwise Ops\n",
    "AND = cv2.bitwise_and(square, ellipse)\n",
    "OR = cv2.bitwise_or(square, ellipse)\n",
    "XOR = cv2.bitwise_xor(square, ellipse)\n",
    "NOT = cv2.bitwise_not(square)\n",
    "\n",
    "cv_show_mult_img(['AND','OR','XOR','NOT'],[AND,OR,XOR,NOT])"
   ]
  },
  {
   "cell_type": "code",
   "execution_count": null,
   "metadata": {},
   "outputs": [],
   "source": []
  }
 ],
 "metadata": {
  "kernelspec": {
   "display_name": "Python 3",
   "language": "python",
   "name": "python3"
  },
  "language_info": {
   "codemirror_mode": {
    "name": "ipython",
    "version": 3
   },
   "file_extension": ".py",
   "mimetype": "text/x-python",
   "name": "python",
   "nbconvert_exporter": "python",
   "pygments_lexer": "ipython3",
   "version": "3.10.9"
  },
  "orig_nbformat": 4
 },
 "nbformat": 4,
 "nbformat_minor": 2
}
